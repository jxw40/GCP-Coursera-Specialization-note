{
 "cells": [
  {
   "cell_type": "markdown",
   "metadata": {},
   "source": [
    "# Creating repeatable splits in BigQuery"
   ]
  },
  {
   "cell_type": "markdown",
   "metadata": {},
   "source": [
    "## Overview\n",
    "\n",
    "Duration is 1 min\n",
    "\n",
    "Repeatability is important in machine learning. If you do the same thing now and 5 minutes from now and get different answers, then it makes experimentation is difficult. In other words, you will find it difficult to gauge whether a change you made has resulted in an improvement or not.\n",
    "\n",
    "### What you need\n",
    "\n",
    "* Logged into GCP Console with your Qwiklabs generated account\n",
    "\n",
    "### What you learn\n",
    "\n",
    "In this lab, you will:\n",
    "\n",
    "* Explore the impact of different ways of creating machine learning datasets.\n",
    "\n"
   ]
  },
  {
   "cell_type": "markdown",
   "metadata": {},
   "source": [
    "## Setup\n",
    "\n",
    "For each lab, you get a new GCP project and set of resources for a fixed time at no cost.\n",
    "\n",
    "1. Make sure you signed into Qwiklabs using an incognito window.\n",
    "\n",
    "2. Note the lab's access time (for example, img/time.png and make sure you can finish in that time block.\n",
    "> There is no pause feature. You can restart if needed, but you have to start at the beginning.\n",
    "\n",
    "3. When ready, click img/start_lab.png.\n",
    "\n",
    "4. Note your lab credentials. You will use them to sign in to Cloud Platform Console. img/open_console.png\n",
    "\n",
    "5. Click Open Google Console.\n",
    "\n",
    "6. Click Use another account and copy/paste credentials for this lab into the prompts.\n",
    "> If you use other credentials, you'll get errors or incur charges.\n",
    "\n",
    "7. Accept the terms and skip the recovery resource page.\n",
    "> Do not click End unless you are finished with the lab or want to restart it. This clears your work and removes the project."
   ]
  },
  {
   "cell_type": "markdown",
   "metadata": {},
   "source": [
    "## Launch Cloud Datalab\n",
    "\n",
    "To launch Cloud Datalab:\n",
    "\n",
    "### Step 1\n",
    "\n",
    "Open Cloud Shell. The Cloud Shell icon is at the top right of the Google Cloud Platform web console.\n",
    "\n",
    "### Step 2\n",
    "\n",
    "In Cloud Shell, type:\n",
    "```\n",
    "gcloud compute zones list\n",
    "```\n",
    "\n",
    "> Note: Please pick a zone in a geographically close region from the following: us-east1, us-central1, asia-east1, europe-west1. These are the regions that currently support Cloud ML Engine jobs. Please verify here since this list may have changed after this lab was last updated. For example, if you are in the US, you may choose us-east1-c as your zone.\n",
    "\n",
    "### Step 3\n",
    "\n",
    "In Cloud Shell, type:\n",
    "```\n",
    "datalab create mydatalabvm --zone <ZONE>\n",
    "```\n",
    "\n",
    "> Replace with a zone name you picked from the previous step.\n",
    "\n",
    "> Note: follow the prompts during this process.\n",
    "\n",
    "Datalab will take about 5 minutes to start.\n",
    "\n",
    "### Step 4\n",
    "\n",
    "Look back at Cloud Shell and follow any prompts. If asked for an ssh passphrase, hit return (for no passphrase).\n",
    "\n",
    "### Step 5\n",
    "\n",
    "If necessary, wait for Datalab to finishing launching. Datalab is ready when you see a message prompting you to do a Web Preview.\n",
    "\n",
    "### Step 6\n",
    "\n",
    "Click on Web Preview icon on the top-right corner of the Cloud Shell ribbon. Click Change Port and enter the port 8081 and click Change and Preview.\n",
    "\n",
    "web-preview\n",
    "\n",
    "web-preview\n",
    "\n",
    "change-port\n",
    "\n",
    "> Note: If the cloud shell used for running the datalab command is closed or interrupted, the connection to your Cloud Datalab VM will terminate. If that happens, you may be able to reconnect using the command datalab connect mydatalabvm in your new Cloud Shell.\n"
   ]
  },
  {
   "cell_type": "markdown",
   "metadata": {},
   "source": [
    "## Clone course repo within your Datalab instance\n",
    "\n",
    "To clone the course repo in your datalab instance:\n",
    "\n",
    "### Step 1\n",
    "\n",
    "In Cloud Datalab home page (browser), navigate into notebooks and add a new notebook using the icon notebook.png on the top left.\n",
    "\n",
    "### Step 2\n",
    "\n",
    "Rename this notebook as repocheckout.\n",
    "\n",
    "### Step 3\n",
    "\n",
    "In the new notebook, enter the following commands in the cell, and click on Run (on the top navigation bar) to run the commands:\n",
    "```\n",
    "%bash\n",
    "git clone https://github.com/GoogleCloudPlatform/training-data-analyst\n",
    "rm -rf training-data-analyst/.git\n",
    "```\n",
    "clone.png\n",
    "\n",
    "### Step 4\n",
    "\n",
    "Confirm that you have cloned the repo by going back to Datalab browser, and ensure you see the training-data-analyst directory. All the files for all labs throughout this course are available in this directory.\n",
    "\n",
    "datalab.png\n",
    "\n"
   ]
  },
  {
   "cell_type": "markdown",
   "metadata": {},
   "source": [
    "## Creating Repeatable Dataset splits\n",
    "\n",
    "Duration is 15 min\n",
    "\n",
    "### Step 1\n",
    "\n",
    "In Cloud Datalab, click on the Home icon, and then navigate to datalab > notebooks > training-data-analyst > courses > machine_learning > deepdive > 02_generalization and open repeatable_splitting.ipynb.\n",
    "\n",
    "4ae227dbe1775948.png\n",
    "\n",
    "This notebook is your cloned copy of the one in the course repository. Any code changes you make and run here are reflected only in your working copy (until you share with others). This way you can edit and run the code to practice the concepts.\n",
    "\n",
    "> Note: If the cloud shell used for running the datalab command is closed or interrupted, the connection to your Cloud Datalab VM will terminate. If that happens, you may be able to reconnect using the command ‘datalab connect mydatalabvm' in your new Cloud Shell. Once connected, try the above step again.\n",
    "\n",
    "### Step 2\n",
    "\n",
    "In Datalab, click on Clear | Clear All Cells. Now read the narrative and execute each cell in turn.\n",
    "\n"
   ]
  },
  {
   "cell_type": "markdown",
   "metadata": {},
   "source": [
    "## End your lab\n",
    "\n",
    "When you have completed your lab, click End Lab. Qwiklabs removes the resources you’ve used and cleans the account for you.\n",
    "\n",
    "You will be given an opportunity to rate the lab experience. Select the applicable number of stars, type a comment, and then click Submit.\n"
   ]
  },
  {
   "cell_type": "markdown",
   "metadata": {},
   "source": [
    "```\n",
    "Username\n",
    "\n",
    "google2346692_student@qwiklabs.net\n",
    "\n",
    "Password\n",
    "\n",
    "H965v24DZSd\n",
    "\n",
    "GCP Project ID\n",
    "\n",
    "qwiklabs-gcp-4eeec9d25592cffb\n",
    "\n",
    "```"
   ]
  },
  {
   "cell_type": "code",
   "execution_count": null,
   "metadata": {},
   "outputs": [],
   "source": []
  }
 ],
 "metadata": {
  "kernelspec": {
   "display_name": "Python 3",
   "language": "python",
   "name": "python3"
  },
  "language_info": {
   "codemirror_mode": {
    "name": "ipython",
    "version": 3
   },
   "file_extension": ".py",
   "mimetype": "text/x-python",
   "name": "python",
   "nbconvert_exporter": "python",
   "pygments_lexer": "ipython3",
   "version": "3.6.4"
  }
 },
 "nbformat": 4,
 "nbformat_minor": 2
}
