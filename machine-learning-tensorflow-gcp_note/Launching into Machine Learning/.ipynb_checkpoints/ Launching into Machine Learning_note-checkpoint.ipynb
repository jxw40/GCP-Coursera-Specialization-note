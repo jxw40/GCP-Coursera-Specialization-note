{
 "cells": [
  {
   "cell_type": "markdown",
   "metadata": {},
   "source": [
    "### TensorFlow Playground\n",
    "\n",
    "dataset=gauss activation=linear\n",
    "https://goo.gl/EEuEGp\n",
    "\n",
    "dataset=circle activation=linear\n",
    "https://goo.gl/ou9iMB\n",
    "\n",
    "dataset=circle activation=relu\n",
    "https://goo.gl/VyoRWX\n",
    "\n",
    "dataset=spiral activation=relu\n",
    "http://goo.gl/hrXd9T"
   ]
  },
  {
   "cell_type": "markdown",
   "metadata": {},
   "source": [
    "### Performance Metrics \n",
    "* After training\n",
    "* Easier to understand\n",
    "* Directly connected business goals\n",
    "\n",
    "Recall = TP / (TP + FN)"
   ]
  },
  {
   "cell_type": "code",
   "execution_count": null,
   "metadata": {},
   "outputs": [],
   "source": []
  }
 ],
 "metadata": {
  "kernelspec": {
   "display_name": "Python 3",
   "language": "python",
   "name": "python3"
  },
  "language_info": {
   "codemirror_mode": {
    "name": "ipython",
    "version": 3
   },
   "file_extension": ".py",
   "mimetype": "text/x-python",
   "name": "python",
   "nbconvert_exporter": "python",
   "pygments_lexer": "ipython3",
   "version": "3.6.4"
  }
 },
 "nbformat": 4,
 "nbformat_minor": 2
}
