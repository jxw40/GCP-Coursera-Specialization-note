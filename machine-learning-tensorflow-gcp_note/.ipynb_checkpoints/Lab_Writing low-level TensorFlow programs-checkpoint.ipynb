{
 "cells": [
  {
   "cell_type": "markdown",
   "metadata": {},
   "source": [
    "# Writing low-level TensorFlow programs"
   ]
  },
  {
   "cell_type": "markdown",
   "metadata": {},
   "source": [
    "## Overview\n",
    "\n",
    "Duration is 1 min\n",
    "\n",
    "This lab is part of a lab series, where you go from exploring a taxicab dataset to training and deploying a distributed model with Cloud ML Engine. In the next course of this specialization, we will work on improving the accuracy of this model using feature engineering.\n",
    "\n",
    "### What you learn\n",
    "In this lab, you will learn how the TensorFlow Python API works:\n",
    "\n",
    "* Building a graph\n",
    "\n",
    "* Running a graph\n",
    "\n",
    "* Feeding values into a graph\n",
    "\n",
    "* Find area of a triangle using TensorFlow"
   ]
  },
  {
   "cell_type": "code",
   "execution_count": null,
   "metadata": {},
   "outputs": [],
   "source": []
  }
 ],
 "metadata": {
  "kernelspec": {
   "display_name": "Python 3",
   "language": "python",
   "name": "python3"
  },
  "language_info": {
   "codemirror_mode": {
    "name": "ipython",
    "version": 3
   },
   "file_extension": ".py",
   "mimetype": "text/x-python",
   "name": "python",
   "nbconvert_exporter": "python",
   "pygments_lexer": "ipython3",
   "version": "3.6.4"
  }
 },
 "nbformat": 4,
 "nbformat_minor": 2
}
