{
 "cells": [
  {
   "cell_type": "markdown",
   "metadata": {},
   "source": [
    "## TensorFlow API Hierarchy\n",
    "\n",
    "![TensorFlow API Hierarchy](TF_API_Hierarchy.png)"
   ]
  },
  {
   "cell_type": "markdown",
   "metadata": {},
   "source": [
    "### Lazy Evaluation\n",
    "\n",
    "TensorFlow does lazy evaluation: you need to run the graph to get results\n",
    "\n",
    "`tf.eager` however, allows you to execute operations imperatively"
   ]
  },
  {
   "cell_type": "markdown",
   "metadata": {},
   "source": [
    "### Graph and Session\n",
    "\n",
    "Execute TensorFlow graphs by calling run() on a tf.Session"
   ]
  },
  {
   "cell_type": "markdown",
   "metadata": {},
   "source": [
    "### Evaluating a Tensor\n",
    "\n",
    "Evaluating a Tensor is a shortcut to calling run() on the graph's default session\n",
    "`.eval()`\n",
    "\n",
    "**TensorFlow Eager mode**\n",
    "![TensorFlow Eager mode](eager_mode.png)"
   ]
  },
  {
   "cell_type": "markdown",
   "metadata": {},
   "source": [
    "### Visualizing a graph\n",
    "\n",
    "You can write the graph out using tf.summary.FileWriter\n",
    "\n",
    "The graph can be visualized in TensorBoard\n",
    "\n",
    "You can also write to gs:// and start TensorBoard from CloudShell\n",
    "\n",
    "1. run the following command in Cloud Shell to start TensorBoard:\n",
    "```\n",
    "tensorboard --port 8080 --logdir gs://${BUCKET}/${SUMMARY_DIR}\n",
    "```\n",
    "2. To open a new browser window, select __Preview on port 8080__ from the __Web preview__ menu in the top-right corner of the Cloud Shell toolbar.\n",
    "  In the new window, you can use TensorBoard to see the training summary and the visualized network graph.  \n",
    "  \n",
    "3. Press Control+C to stop TensorBoard in Cloud Shell\n",
    "https://cloud.google.com/ml-engine/docs/distributed-tensorflow-mnist-cloud-datalab"
   ]
  },
  {
   "cell_type": "markdown",
   "metadata": {},
   "source": [
    "## Debugging TensorFlow programs"
   ]
  },
  {
   "cell_type": "code",
   "execution_count": 1,
   "metadata": {
    "collapsed": true
   },
   "outputs": [],
   "source": [
    "import tensorflow as tf"
   ]
  },
  {
   "cell_type": "code",
   "execution_count": 6,
   "metadata": {},
   "outputs": [
    {
     "name": "stdout",
     "output_type": "stream",
     "text": [
      "(4, 2)\n",
      "[[12.884487 11.878131 12.449096 15.721323]\n",
      " [11.878131 10.962208 11.489996 14.509306]\n",
      " [12.449096 11.489996 12.043255 15.207892]\n",
      " [15.721323 14.509306 15.207892 19.204166]]\n"
     ]
    }
   ],
   "source": [
    "def some_method(data):\n",
    "    a = data[:, 0:2]\n",
    "    print(a.get_shape())\n",
    "    #c = data[:, 1]      # addition fail\n",
    "    c = data[:, 1:3]\n",
    "    #print(c.get_shape())\n",
    "    assert len(c.get_shape()) == 2\n",
    "    s = (a + c)\n",
    "    return tf.sqrt(tf.matmul(s, tf.transpose(s)))\n",
    "\n",
    "with tf.Session() as sess:\n",
    "    fake_data = tf.constant([\n",
    "        [5.0, 3.0, 7.1],\n",
    "        [2.3, 4.1, 4.8],\n",
    "        [2.8, 4.2, 5.6],\n",
    "        [2.9, 8.3, 7.3]\n",
    "    ])\n",
    "    print(sess.run(some_method(fake_data)))"
   ]
  },
  {
   "cell_type": "markdown",
   "metadata": {},
   "source": [
    "### Shape problems\n",
    "\n",
    "shape problems can often be fixed using\n",
    "\n",
    "1. tf.reshape()\n",
    "2. tf.expand_dims()\n",
    "3. tf.slice()\n",
    "4. tf.squeeze()"
   ]
  },
  {
   "cell_type": "code",
   "execution_count": 9,
   "metadata": {},
   "outputs": [
    {
     "name": "stdout",
     "output_type": "stream",
     "text": [
      "sliced: \n",
      " [[2]\n",
      " [5]]\n"
     ]
    }
   ],
   "source": [
    "x = tf.constant([[3, 2],\n",
    "                 [4, 5],\n",
    "                 [6, 7]])\n",
    "sliced = tf.slice(x, [0, 1], [2, 1])\n",
    "\n",
    "with tf.Session() as sess:\n",
    "    print(\"sliced: \\n\", sliced.eval())"
   ]
  },
  {
   "cell_type": "code",
   "execution_count": 11,
   "metadata": {},
   "outputs": [
    {
     "name": "stdout",
     "output_type": "stream",
     "text": [
      "t\n",
      "[[[1]\n",
      "  [2]\n",
      "  [3]\n",
      "  [4]]\n",
      "\n",
      " [[5]\n",
      "  [6]\n",
      "  [7]\n",
      "  [8]]]\n",
      "(2, 4, 1)\n",
      "t squeezed\n",
      "[[1 2 3 4]\n",
      " [5 6 7 8]]\n"
     ]
    }
   ],
   "source": [
    "t = tf.constant([[[1], [2], [3], [4]], [[5], [6], [7], [8]]])\n",
    "\n",
    "with tf.Session() as sess:\n",
    "    print(\"t\")\n",
    "    print(sess.run(t))\n",
    "    print(t.get_shape())\n",
    "    print(\"t squeezed\")\n",
    "    print(sess.run(tf.squeeze(t)))"
   ]
  },
  {
   "cell_type": "code",
   "execution_count": 12,
   "metadata": {},
   "outputs": [
    {
     "name": "stdout",
     "output_type": "stream",
     "text": [
      "t\n",
      "[[[1 2 3 4]\n",
      "  [5 6 7 8]]]\n",
      "(1, 2, 4)\n",
      "t squeezed\n",
      "[[1 2 3 4]\n",
      " [5 6 7 8]]\n"
     ]
    }
   ],
   "source": [
    "t = tf.constant([[[1, 2, 3, 4], [5, 6, 7, 8]]])\n",
    "\n",
    "with tf.Session() as sess:\n",
    "    print(\"t\")\n",
    "    print(sess.run(t))\n",
    "    print(t.get_shape())\n",
    "    print(\"t squeezed\")\n",
    "    print(sess.run(tf.squeeze(t)))"
   ]
  },
  {
   "cell_type": "markdown",
   "metadata": {},
   "source": [
    "### Data type problems\n",
    "\n",
    "tf.cast()"
   ]
  },
  {
   "cell_type": "markdown",
   "metadata": {},
   "source": [
    "### Debugging full programs\n",
    "To debugging full-blown programs, there are three methods:\n",
    "* tf.Print()\n",
    "* tfdbg\n",
    "* TensorBoard\n",
    "\n",
    "**Change logging level from WARN**\n",
    "`tf.logging.set_verbosity(tf.logging.INFO)`\n",
    "\n",
    "**tf.Print() can be used to log specific tensor values**"
   ]
  },
  {
   "cell_type": "code",
   "execution_count": 16,
   "metadata": {},
   "outputs": [
    {
     "name": "stdout",
     "output_type": "stream",
     "text": [
      "[[      nan       nan]\n",
      " [      nan 1.4336526]]\n"
     ]
    }
   ],
   "source": [
    "import tensorflow as tf\n",
    "\n",
    "def some_method(a, b):\n",
    "    b = tf.cast(b, tf.float32)\n",
    "    s = (a / b)  # oops! NaN\n",
    "    print_ab = tf.Print(s, [a, b])\n",
    "    s = tf.where(tf.is_nan(s), print_ab, s)\n",
    "    return tf.sqrt(tf.matmul(s, tf.transpose(s)))\n",
    "\n",
    "with tf.Session() as sess:\n",
    "    fake_a = tf.constant([[5.0, 3.0, 7.1], [2.3, 4.1, 4.8]])\n",
    "    fake_b = tf.constant([[2, 0, 5], [2, 8, 7]])\n",
    "    print(sess.run(some_method(fake_a, fake_b)))"
   ]
  },
  {
   "cell_type": "code",
   "execution_count": 14,
   "metadata": {},
   "outputs": [
    {
     "name": "stdout",
     "output_type": "stream",
     "text": [
      "2019-01-30 16:40:59.417061: I tensorflow/core/platform/cpu_feature_guard.cc:140] Your CPU supports instructions that this TensorFlow binary was not compiled to use: SSE4.1 SSE4.2 AVX AVX2 FMA\r\n",
      "[[5 3 7.1]...][[2 0 5]...]\r\n",
      "[[      nan       nan]\r\n",
      " [      nan 1.4336526]]\r\n"
     ]
    }
   ],
   "source": [
    "! python tfPrint.py"
   ]
  },
  {
   "cell_type": "markdown",
   "metadata": {},
   "source": [
    "**use TensorFlow debugger to step through code**"
   ]
  },
  {
   "cell_type": "markdown",
   "metadata": {
    "collapsed": true
   },
   "source": [
    "见debug_demo.ipynb\n",
    "```\n",
    "import tensorflow as tf\n",
    "from tensorflow.python import debug as tf_debug\n",
    "\n",
    "def some_method(a, b):\n",
    "    b = tf.cast(b, tf.float32)\n",
    "    s = (a / b)  # oops! NaN\n",
    "    return tf.sqrt(tf.matmul(s, tf.transpose(s)))\n",
    "\n",
    "with tf.Session() as sess:\n",
    "    fake_a = tf.constant([[5.0, 3.0, 7.1], [2.3, 4.1, 4.8]])\n",
    "    fake_b = tf.constant([[2, 0, 5], [2, 8, 7]])\n",
    "    \n",
    "    sess = tf_debug.LocalCLIDebugWrapperSession(sess)\n",
    "    sess.add_tensor_filter(\"has_inf_or_nan\", tf_debug.has_inf_or_nan)\n",
    "    print(sess.run(some_method(fake_a, fake_b)))\n",
    "```"
   ]
  },
  {
   "cell_type": "markdown",
   "metadata": {},
   "source": [
    "in a Terminal window\n",
    "```\n",
    "python xyz.py --debug\n",
    "```"
   ]
  },
  {
   "cell_type": "code",
   "execution_count": null,
   "metadata": {},
   "outputs": [],
   "source": []
  },
  {
   "cell_type": "code",
   "execution_count": null,
   "metadata": {
    "collapsed": true
   },
   "outputs": [],
   "source": []
  }
 ],
 "metadata": {
  "kernelspec": {
   "display_name": "Python 3",
   "language": "python",
   "name": "python3"
  },
  "language_info": {
   "codemirror_mode": {
    "name": "ipython",
    "version": 3
   },
   "file_extension": ".py",
   "mimetype": "text/x-python",
   "name": "python",
   "nbconvert_exporter": "python",
   "pygments_lexer": "ipython3",
   "version": "3.5.4"
  }
 },
 "nbformat": 4,
 "nbformat_minor": 2
}
