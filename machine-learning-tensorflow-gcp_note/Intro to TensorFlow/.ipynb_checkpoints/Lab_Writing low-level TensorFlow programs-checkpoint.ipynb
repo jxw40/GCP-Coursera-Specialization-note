{
 "cells": [
  {
   "cell_type": "markdown",
   "metadata": {},
   "source": [
    "# Writing low-level TensorFlow programs"
   ]
  },
  {
   "cell_type": "markdown",
   "metadata": {},
   "source": [
    "## Overview\n",
    "\n",
    "Duration is 1 min\n",
    "\n",
    "This lab is part of a lab series, where you go from exploring a taxicab dataset to training and deploying a distributed model with Cloud ML Engine. In the next course of this specialization, we will work on improving the accuracy of this model using feature engineering.\n",
    "\n",
    "### What you learn\n",
    "In this lab, you will learn how the TensorFlow Python API works:\n",
    "\n",
    "* Building a graph\n",
    "\n",
    "* Running a graph\n",
    "\n",
    "* Feeding values into a graph\n",
    "\n",
    "* Find area of a triangle using TensorFlow"
   ]
  },
  {
   "cell_type": "markdown",
   "metadata": {},
   "source": [
    "## Setup\n",
    "\n",
    "For each lab, you get a new GCP project and set of resources for a fixed time at no cost.\n",
    "\n",
    "1. Make sure you signed into Qwiklabs using an incognito window.\n",
    "\n",
    "2. Note the lab's access time (for example, img/time.png and make sure you can finish in that time block.\n",
    "> There is no pause feature. You can restart if needed, but you have to start at the beginning.\n",
    "\n",
    "3. When ready, click img/start_lab.png.\n",
    "\n",
    "4. Note your lab credentials. You will use them to sign in to Cloud Platform Console. img/open_console.png\n",
    "\n",
    "5. Click Open Google Console.\n",
    "\n",
    "6. Click Use another account and copy/paste credentials for this lab into the prompts.\n",
    "> If you use other credentials, you'll get errors or incur charges.\n",
    "\n",
    "7. Accept the terms and skip the recovery resource page.\n",
    "> Do not click End unless you are finished with the lab or want to restart it. This clears your work and removes the project."
   ]
  },
  {
   "cell_type": "markdown",
   "metadata": {},
   "source": [
    "## Launch Cloud Datalab\n",
    "\n",
    "To launch Cloud Datalab:\n",
    "\n",
    "### Step 1\n",
    "\n",
    "Open Cloud Shell. The Cloud Shell icon is at the top right of the Google Cloud Platform web console.\n",
    "\n",
    "### Step 2\n",
    "\n",
    "In Cloud Shell, type:\n",
    "```\n",
    "gcloud compute zones list\n",
    "```\n",
    "\n",
    "> Note: Please pick a zone in a geographically close region from the following: us-east1, us-central1, asia-east1, europe-west1. These are the regions that currently support Cloud ML Engine jobs. Please verify here since this list may have changed after this lab was last updated. For example, if you are in the US, you may choose us-east1-c as your zone.\n",
    "\n",
    "### Step 3\n",
    "\n",
    "In Cloud Shell, type:\n",
    "```\n",
    "datalab create mydatalabvm --zone <ZONE>\n",
    "```\n",
    "\n",
    "> Replace with a zone name you picked from the previous step.\n",
    "\n",
    "> Note: follow the prompts during this process.\n",
    "\n",
    "Datalab will take about 5 minutes to start.\n",
    "\n",
    "### Step 4\n",
    "\n",
    "Look back at Cloud Shell and follow any prompts. If asked for an ssh passphrase, hit return (for no passphrase).\n",
    "\n",
    "### Step 5\n",
    "\n",
    "If necessary, wait for Datalab to finishing launching. Datalab is ready when you see a message prompting you to do a Web Preview.\n",
    "\n",
    "### Step 6\n",
    "\n",
    "Click on Web Preview icon on the top-right corner of the Cloud Shell ribbon. Click Change Port and enter the port 8081 and click Change and Preview.\n",
    "\n",
    "web-preview\n",
    "\n",
    "web-preview\n",
    "\n",
    "change-port\n",
    "\n",
    "> Note: If the cloud shell used for running the datalab command is closed or interrupted, the connection to your Cloud Datalab VM will terminate. If that happens, you may be able to reconnect using the command datalab connect mydatalabvm in your new Cloud Shell.\n"
   ]
  },
  {
   "cell_type": "markdown",
   "metadata": {},
   "source": [
    "## Clone course repo within your Datalab instance\n",
    "\n",
    "To clone the course repo in your datalab instance:\n",
    "\n",
    "### Step 1\n",
    "\n",
    "In Cloud Datalab home page (browser), navigate into notebooks and add a new notebook using the icon notebook.png on the top left.\n",
    "\n",
    "### Step 2\n",
    "\n",
    "Rename this notebook as repocheckout.\n",
    "\n",
    "### Step 3\n",
    "\n",
    "In the new notebook, enter the following commands in the cell, and click on Run (on the top navigaation bar) to run the commands:\n",
    "```\n",
    "%bash\n",
    "git clone https://github.com/GoogleCloudPlatform/training-data-analyst\n",
    "rm -rf training-data-analyst/.git\n",
    "```\n",
    "clone.png\n",
    "\n",
    "### Step 4\n",
    "\n",
    "Confirm that you have cloned the repo by going back to Datalab browser, and ensure you see the training-data-analyst directory. All the files for all labs throughout this course are available in this directory.\n",
    "\n",
    "datalab.png\n",
    "\n"
   ]
  },
  {
   "cell_type": "markdown",
   "metadata": {},
   "source": [
    "## Getting Started with TensorFlow\n",
    "\n",
    "Duration is 15 min\n",
    "\n",
    "### Step 1\n",
    "\n",
    "In Cloud Datalab, click on the Home icon, and then navigate to datalab > notebooks > training-data-analyst > courses > machine_learning > deepdive > 03_tensorflow > labs and open a_tfstart.ipynb.\n",
    "\n",
    "> Note: If the cloud shell used for running the datalab command is closed or interrupted, the connection to your Cloud Datalab VM will terminate. If that happens, you may be able to reconnect using the command ‘datalab connect mydatalabvm' in your new Cloud Shell. Once connected, try the above step again.\n",
    "\n",
    "### Step 2\n",
    "\n",
    "In Datalab, click on Clear | Clear all Cells (click on Clear, then in the drop-down menu, select Clear all Cells).\n",
    "\n",
    "Now read the narrative and execute each cell in turn.\n",
    "\n",
    "### Step 3\n",
    "\n",
    "Compare to solution\n",
    "\n",
    "In the parent level 03_tensorflow folder (above labs/) there is the solution notebook with the same title for comparison."
   ]
  },
  {
   "cell_type": "markdown",
   "metadata": {},
   "source": [
    "## End your lab\n",
    "\n",
    "When you have completed your lab, click End Lab. Qwiklabs removes the resources you’ve used and cleans the account for you.\n",
    "\n",
    "You will be given an opportunity to rate the lab experience. Select the applicable number of stars, type a comment, and then click Submit."
   ]
  },
  {
   "cell_type": "markdown",
   "metadata": {},
   "source": [
    "```\n",
    "Username\n",
    "\n",
    "google2356286_student@qwiklabs.net\n",
    "\n",
    "Password\n",
    "\n",
    "CBFc543nHh\n",
    "\n",
    "GCP Project ID\n",
    "\n",
    "qwiklabs-gcp-32c6a8c75f6b5477\n",
    "```\n"
   ]
  },
  {
   "cell_type": "markdown",
   "metadata": {},
   "source": [
    "```\n",
    "1. Change the 5 to 5.0, and similarly the other five numbers. What happens when you run this cell?\n",
    "\n",
    "a = tf.constant([5.0, 3, 8])\n",
    "b = tf.constant([3, -1, 2])\n",
    "c = tf.add(a, b)\n",
    "print(c)\n",
    "\n",
    "TypeError: Input 'y' of 'Add' Op has type int32 that does not match type float32 of argument 'x'.\n",
    "\n",
    "a = tf.constant([5.0, 3.0, 8.0])\n",
    "b = tf.constant([3.0, -1.0, 2.0])\n",
    "c = tf.add(a, b)\n",
    "print(c)\n",
    "\n",
    "Tensor(\"Add_3:0\", shape=(3,), dtype=float32)\n",
    "\n",
    "2. Add an extra number to a, but leave b at the original (3,) shape. What happens when you run this cell?\n",
    "\n",
    "a = tf.constant([5.0, 3.0, 8.0, 2.0])\n",
    "b = tf.constant([3.0, -1.0, 2.0])\n",
    "c = tf.add(a, b)\n",
    "print(c)\n",
    "\n",
    "ValueError: Dimensions must be equal, but are 4 and 3 for 'Add_4' (op: 'Add') with input shapes: [4], [3].\n",
    "```"
   ]
  },
  {
   "cell_type": "code",
   "execution_count": 1,
   "metadata": {},
   "outputs": [
    {
     "ename": "ModuleNotFoundError",
     "evalue": "No module named 'tensorflow'",
     "output_type": "error",
     "traceback": [
      "\u001b[0;31m---------------------------------------------------------------------------\u001b[0m",
      "\u001b[0;31mModuleNotFoundError\u001b[0m                       Traceback (most recent call last)",
      "\u001b[0;32m<ipython-input-1-16660de2959a>\u001b[0m in \u001b[0;36m<module>\u001b[0;34m()\u001b[0m\n\u001b[0;32m----> 1\u001b[0;31m \u001b[0;32mimport\u001b[0m \u001b[0mtensorflow\u001b[0m \u001b[0;32mas\u001b[0m \u001b[0mtf\u001b[0m\u001b[0;34m\u001b[0m\u001b[0m\n\u001b[0m\u001b[1;32m      2\u001b[0m \u001b[0;34m\u001b[0m\u001b[0m\n\u001b[1;32m      3\u001b[0m \u001b[0mtf\u001b[0m\u001b[0;34m.\u001b[0m\u001b[0menable_eager_execution\u001b[0m\u001b[0;34m(\u001b[0m\u001b[0;34m)\u001b[0m\u001b[0;34m\u001b[0m\u001b[0m\n\u001b[1;32m      4\u001b[0m \u001b[0;34m\u001b[0m\u001b[0m\n\u001b[1;32m      5\u001b[0m \u001b[0;31m#TODO: Using your non-placeholder solution,\u001b[0m\u001b[0;34m\u001b[0m\u001b[0;34m\u001b[0m\u001b[0m\n",
      "\u001b[0;31mModuleNotFoundError\u001b[0m: No module named 'tensorflow'"
     ]
    }
   ],
   "source": [
    "import tensorflow as tf\n",
    "\n",
    "tf.enable_eager_execution()\n",
    "\n",
    "#TODO: Using your non-placeholder solution, \n",
    "#  try it now using tf.eager by removing the session\n",
    "def compute_area(sides):\n",
    "  #TODO: Write TensorFlow code to compute area of a \n",
    "  #  SET of triangles given by their side lengths\n",
    "\n",
    "  a = sides[:, 0]\n",
    "  b = sides[:, 1]\n",
    "  c = sides[:, 2]\n",
    "  s = (a + b + c) / 2\n",
    "  list_of_areas = tf.sqrt(s * (s-a) * (s-b) * (s-c))\n",
    "\n",
    "  return list_of_areas\n",
    "\n",
    "area = compute_area(tf.constant([\n",
    "      [5.0, 3.0, 7.1],\n",
    "      [2.3, 4.1, 4.8]\n",
    "    ]))\n",
    "print(area)"
   ]
  },
  {
   "cell_type": "code",
   "execution_count": null,
   "metadata": {},
   "outputs": [],
   "source": []
  }
 ],
 "metadata": {
  "kernelspec": {
   "display_name": "Python 3",
   "language": "python",
   "name": "python3"
  },
  "language_info": {
   "codemirror_mode": {
    "name": "ipython",
    "version": 3
   },
   "file_extension": ".py",
   "mimetype": "text/x-python",
   "name": "python",
   "nbconvert_exporter": "python",
   "pygments_lexer": "ipython3",
   "version": "3.6.4"
  }
 },
 "nbformat": 4,
 "nbformat_minor": 2
}
