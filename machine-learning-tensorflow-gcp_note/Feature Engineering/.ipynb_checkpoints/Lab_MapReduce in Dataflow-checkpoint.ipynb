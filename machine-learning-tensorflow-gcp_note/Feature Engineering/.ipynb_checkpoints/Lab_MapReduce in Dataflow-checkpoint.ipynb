{
 "cells": [
  {
   "cell_type": "markdown",
   "metadata": {},
   "source": [
    "# MapReduce in Dataflow"
   ]
  },
  {
   "cell_type": "markdown",
   "metadata": {},
   "source": [
    "## Overview\n",
    "Duration is 1 min\n",
    "\n",
    "In this lab, you learn how to use pipeline options and carry out Map and Reduce operations in Dataflow.\n",
    "\n",
    "### What you need\n",
    "You must have completed Lab 0 and have the following:\n",
    "\n",
    "Logged into GCP Console with your Qwiklabs generated account\n",
    "\n",
    "### What you learn\n",
    "In this lab, you learn how to:\n",
    "\n",
    "* Use pipeline options in Dataflow\n",
    "\n",
    "* Carry out mapping transformations\n",
    "\n",
    "* Carry out reduce aggregations\n",
    "\n"
   ]
  },
  {
   "cell_type": "markdown",
   "metadata": {},
   "source": [
    "## Introduction\n",
    "Duration is 1 min\n",
    "\n",
    "The goal of this lab is to learn how to write MapReduce operations using Dataflow."
   ]
  },
  {
   "cell_type": "markdown",
   "metadata": {},
   "source": [
    "## Setup"
   ]
  },
  {
   "cell_type": "markdown",
   "metadata": {},
   "source": [
    "### Activate Google Cloud Shell\n",
    "Google Cloud Shell provides command-line access to your GCP resources.\n",
    "\n",
    "From the GCP Console click the Cloud Shell icon on the top right toolbar:\n",
    "\n",
    "Cloud Shell Icon\n",
    "\n",
    "Then click START CLOUD SHELL:\n",
    "\n",
    "Start Cloud Shell\n",
    "\n",
    "> You can click START CLOUD SHELL immediately when the dialog comes up instead of waiting in the dialog until the Cloud Shell provisions.\n",
    "\n",
    "It takes a few moments to provision and connects to the environment:\n",
    "\n",
    "Cloud Shell Terminal\n",
    "\n",
    "The Cloud Shell is a virtual machine loaded with all the development tools you’ll need. It offers a persistent 5GB home directory, and runs on the Google Cloud, greatly enhancing network performance and authentication.\n",
    "\n",
    "Once connected to the cloud shell, you'll see that you are already authenticated and the project is set to your PROJECT_ID:\n",
    "```\n",
    "gcloud auth list\n",
    "```\n",
    "Output:\n",
    "```\n",
    "Credentialed accounts:\n",
    " - <myaccount>@<mydomain>.com (active)\n",
    "```\n",
    "> Note: gcloud is the powerful and unified command-line tool for Google Cloud Platform. Full documentation is available on Google Cloud gcloud Overview. It comes pre-installed on Cloud Shell and supports tab-completion.\n",
    "\n",
    "```\n",
    "gcloud config list project\n",
    "```\n",
    "Output:\n",
    "```\n",
    "[core]\n",
    "project = <PROJECT_ID>\n",
    "```\n",
    "\n",
    "### Launch Google Cloud Shell Code Editor\n",
    "Use the Google Cloud Shell Code Editor to easily create and edit directories and files in the Cloud Shell instance.\n",
    "\n",
    "Once you activate the Google Cloud Shell, click the Launch code editor button (looks like a pencil) to open the Cloud Shell Code Editor.\n",
    "\n",
    "pencil_icon.png\n",
    "\n",
    "Note: The Launch code editor button may be off screen to the right. You may need to click the Navigation menu button to close the menu to see the buttons.\n",
    "\n",
    "pencil_icon_not_appearing.png\n",
    "\n",
    "You now have three interfaces available:\n",
    "\n",
    "* The Cloud Shell Code Editor\n",
    "* The Cloud Shell Command Line\n",
    "* Console (By clicking on the tab). You can switch back and forth between the Console and Cloud Shell by clicking on the tab.\n",
    "\n",
    "cloud_shell_code_editor.png\n",
    "\n"
   ]
  },
  {
   "cell_type": "markdown",
   "metadata": {},
   "source": [
    "## Identify Map and Reduce operations\n",
    "\n",
    "Duration is 5 min\n",
    "\n",
    "### Step 1\n",
    "In CloudShell clone the source repo which has starter scripts for this lab:\n",
    "```\n",
    "git clone https://github.com/GoogleCloudPlatform/training-data-analyst\n",
    "```\n",
    "Then navigate to the code for this lab.\n",
    "```\n",
    "cd training-data-analyst/courses/data_analysis/lab2/python\n",
    "```\n",
    "\n",
    "### Step 2\n",
    "Click File > Refresh.\n",
    "\n",
    "View the source code for is_popular.py for the pipeline using the Cloud Shell in-browser editor or with the command line using nano:\n",
    "\n",
    "bfb169bc4af8c982.png\n",
    "```\n",
    "nano is_popular.py\n",
    "```\n",
    "\n",
    "### Step 3\n",
    "What custom arguments are defined? ____________________\n",
    "\n",
    "What is the default output prefix? _________________________________________\n",
    "\n",
    "How is the variable output_prefix in main() set? _____________________________\n",
    "\n",
    "How are the pipeline arguments such as --runner set? ______________________\n",
    "\n",
    "### Step 4\n",
    "What are the key steps in the pipeline? _____________________________________________________________________________\n",
    "\n",
    "Which of these steps happen in parallel? ____________________________________\n",
    "\n",
    "Which of these steps are aggregations? _____________________________________\n",
    "\n"
   ]
  },
  {
   "cell_type": "markdown",
   "metadata": {},
   "source": [
    "## Execute the pipeline\n",
    "Duration is 2 min\n",
    "\n",
    "### Step 1\n",
    "Install the necessary dependencies for Python dataflow:\n",
    "```\n",
    "sudo ./install_packages.sh\n",
    "```\n",
    "Verify that you have the right version of pip (should be > 8.0):\n",
    "```\n",
    "pip -V\n",
    "```\n",
    "If not, open a new CloudShell tab and it should pick up the updated pip.\n",
    "\n",
    "### Step 2\n",
    "Run the pipeline locally:\n",
    "```\n",
    "./is_popular.py\n",
    "```\n",
    "Note: If you see an error that says \"No handlers could be found for logger \"oauth2client.contrib.multistore_file\", you may ignore it. The error is simply saying that logging from the oauth2 library will go to stderr.\n",
    "\n",
    "### Step 3\n",
    "Examine the output file:\n",
    "```\n",
    "cat /tmp/output-*\n",
    "```\n",
    "\n",
    "```\n",
    "[(u'org', 45), (u'org.apache.beam', 44), (u'org.apache', 44), (u'org.apache.beam.sdk', 43), (u'org.apache.beam.sdk.transforms', 16)]\n",
    "```"
   ]
  },
  {
   "cell_type": "markdown",
   "metadata": {},
   "source": [
    "## Use command line parameters\n",
    "Duration is 2 min\n",
    "\n",
    "### Step 1\n",
    "Change the output prefix from the default value:\n",
    "```\n",
    "./is_popular.py --output_prefix=/tmp/myoutput\n",
    "```\n",
    "What will be the name of the new file that is written out?\n",
    "\n",
    "### Step 2\n",
    "Note that we now have a new file in the /tmp directory:\n",
    "```\n",
    "ls -lrt /tmp/myoutput*\n",
    "```\n",
    "\n",
    "```\n",
    "-rw-r--r-- 1 google2254895_student google2254895_student 133 Feb  2 21:03 /tmp/myoutput-00000-of-00001\n",
    "```"
   ]
  },
  {
   "cell_type": "markdown",
   "metadata": {},
   "source": [
    "## What you learned\n",
    "Duration is 1 min\n",
    "\n",
    "In this lab, you:\n",
    "\n",
    "* Used pipeline options in Dataflow\n",
    "* Identified Map and Reduce operations in the Dataflow pipeline"
   ]
  },
  {
   "cell_type": "markdown",
   "metadata": {},
   "source": [
    "```\n",
    "username\n",
    "\n",
    "google2368018_student@qwiklabs.net\n",
    "\n",
    "Password\n",
    "\n",
    "dSDR4RL9WhxN\n",
    "\n",
    "GCP Project ID\n",
    "\n",
    "qwiklabs-gcp-cbb28d5ecddd5bfc\n",
    "```\n"
   ]
  },
  {
   "cell_type": "code",
   "execution_count": null,
   "metadata": {
    "collapsed": true
   },
   "outputs": [],
   "source": []
  }
 ],
 "metadata": {
  "kernelspec": {
   "display_name": "Python 3",
   "language": "python",
   "name": "python3"
  },
  "language_info": {
   "codemirror_mode": {
    "name": "ipython",
    "version": 3
   },
   "file_extension": ".py",
   "mimetype": "text/x-python",
   "name": "python",
   "nbconvert_exporter": "python",
   "pygments_lexer": "ipython3",
   "version": "3.5.4"
  }
 },
 "nbformat": 4,
 "nbformat_minor": 2
}
