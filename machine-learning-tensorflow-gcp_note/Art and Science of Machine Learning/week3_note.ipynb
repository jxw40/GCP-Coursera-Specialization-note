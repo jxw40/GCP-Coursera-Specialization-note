{
 "cells": [
  {
   "cell_type": "markdown",
   "metadata": {},
   "source": [
    "## Embeddings"
   ]
  },
  {
   "cell_type": "markdown",
   "metadata": {},
   "source": [
    "### Recommendations\n",
    "\n",
    "How do you recommend movies to customers?\n",
    "\n",
    "One approach is to organize movies by similarity(1D).\n",
    "Using a second dimension gives us more freedom in organizing movies by similarity.\n",
    "\n",
    "A d-dimensional embedding assumes that user interest in movies can be approximated by d aspects"
   ]
  },
  {
   "cell_type": "markdown",
   "metadata": {},
   "source": [
    "### Sparse Tensors\n",
    "\n",
    "Dense representations are inefficient in space and compute\n",
    "![](sparse_representation.png)\n",
    "\n",
    "![](feature_sparse.png)\n",
    "![](create_embed.png)"
   ]
  },
  {
   "cell_type": "markdown",
   "metadata": {},
   "source": [
    "### Training an embedding\n",
    "\n",
    "Embeddings are feature columns that function like layers\n",
    "```\n",
    "sparse_word = fc.categorical_column_with_vocabulary_list(\n",
    "                'word', vocabulary_list=englishWords)\n",
    "embedded_word = fc.embedding_column(sparse_word, 3)\n",
    "```\n",
    "\n",
    "The weights in the embedding layer are learned through backprop just as with other weights\n",
    "\n",
    "Embeddings can be thought of as latent features"
   ]
  },
  {
   "cell_type": "markdown",
   "metadata": {},
   "source": [
    "### Similarity Property\n",
    "\n",
    "Embeddings provide dimensionality reduction\n",
    "\n",
    "The result of embedding is such that similar items are close to each other\n",
    "\n",
    "#### A good starting point for number of embedding dimensions\n",
    "\n",
    "Higher dimensions -> more accuracy\n",
    "Higher dimensions -> overfitting, slow training\n",
    "\n",
    "**Empirical tradeoff**\n",
    "\n",
    "$dimensions \\approx \\sqrt[4]{possible\\ values} $"
   ]
  },
  {
   "cell_type": "markdown",
   "metadata": {},
   "source": [
    "## Custom Estimator\n",
    "\n",
    "Canned Estimators are sometimes insufficient\n",
    "\n",
    "### Model Function\n",
    "\n",
    "![](model_f.png)\n",
    "![](train_and_eval.png)\n",
    "![](EstimatorSpec.png)\n",
    "![](EstimatorSpec_op.png)"
   ]
  },
  {
   "cell_type": "markdown",
   "metadata": {},
   "source": [
    "### Keras Models\n",
    "\n",
    "Keras is easy to use for fast prototyping\n",
    "\n",
    "![](Keras_Estimator.png)\n",
    "![](Keras_Estimator2.png)\n",
    "![](naming_convention.png)"
   ]
  },
  {
   "cell_type": "code",
   "execution_count": null,
   "metadata": {
    "collapsed": true
   },
   "outputs": [],
   "source": []
  }
 ],
 "metadata": {
  "kernelspec": {
   "display_name": "Python 3",
   "language": "python",
   "name": "python3"
  },
  "language_info": {
   "codemirror_mode": {
    "name": "ipython",
    "version": 3
   },
   "file_extension": ".py",
   "mimetype": "text/x-python",
   "name": "python",
   "nbconvert_exporter": "python",
   "pygments_lexer": "ipython3",
   "version": "3.5.4"
  }
 },
 "nbformat": 4,
 "nbformat_minor": 2
}
