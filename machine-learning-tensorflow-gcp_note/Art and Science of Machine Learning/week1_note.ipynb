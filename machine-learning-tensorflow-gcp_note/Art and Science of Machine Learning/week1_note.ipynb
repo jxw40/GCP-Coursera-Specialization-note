{
 "cells": [
  {
   "cell_type": "markdown",
   "metadata": {},
   "source": [
    "## The Art of ML"
   ]
  },
  {
   "cell_type": "markdown",
   "metadata": {},
   "source": [
    "### Regularization \n",
    "\n",
    "#### Factor in model complexity when calculating error\n",
    "\n",
    "`Minimize: loss(Data|Model) + complexity(Model)`\n",
    "\n",
    "#### Regularization is a major field of ML search\n",
    "* Early Stopping\n",
    "* Parameter Norm Penalties\n",
    "  * L1 regularization\n",
    "  * L2 regularization\n",
    "  * Max-norm regularization\n",
    "* Dataset Augmentation\n",
    "* Noise Robustnenss\n",
    "* Sparse Representations\n",
    "..."
   ]
  },
  {
   "cell_type": "markdown",
   "metadata": {
    "collapsed": true
   },
   "source": [
    "### Learning rate and batch size\n",
    "\n",
    "**Learning rate controls the size of the step in weight space**\n",
    "\n",
    "If too small, training will take a very long time.\n",
    "\n",
    "If too large, training will bounce around.\n",
    "\n",
    "Default learning rate in Estimator's LinearRegressor is smaller of 0.2 or 1/sqrt(num_features)--this assumes that your feature and label values are small numbers\n",
    "\n",
    "**The batch size fontrols the number of samples that gradient is calculated on**\n",
    "\n",
    "If too small, training will bounce around.\n",
    "\n",
    "If too large, training will take a very long time.\n",
    "\n",
    "40-100 tends to be a good range for batch size. Can go up as high as 500.\n",
    "\n",
    "**Regularization provides a way to define model complexity based on the values of the weights.**\n",
    "\n",
    "Practicing with Tensorflow code\n",
    "![](op_lr_batchsize.png)"
   ]
  },
  {
   "cell_type": "markdown",
   "metadata": {},
   "source": [
    "## Hyperparameter Tuning\n",
    "### Parameters vs Hyperparameters\n",
    "\n",
    "ML models are mathematical functions with parameters and hyper-parameters\n",
    "\n",
    "Model improvement is very sensitive to batch_size and learning_rate\n",
    "\n",
    "### Think Beyond Grid Search\n",
    "![](hyperparameter_tuning.png)\n",
    "![](hyperparameter_tuning1.png)\n",
    "![](hyperparameter_tuning2.png)\n",
    "![](hyperparameter_tuning3.png)"
   ]
  },
  {
   "cell_type": "code",
   "execution_count": null,
   "metadata": {
    "collapsed": true
   },
   "outputs": [],
   "source": []
  }
 ],
 "metadata": {
  "kernelspec": {
   "display_name": "Python 3",
   "language": "python",
   "name": "python3"
  },
  "language_info": {
   "codemirror_mode": {
    "name": "ipython",
    "version": 3
   },
   "file_extension": ".py",
   "mimetype": "text/x-python",
   "name": "python",
   "nbconvert_exporter": "python",
   "pygments_lexer": "ipython3",
   "version": "3.5.4"
  }
 },
 "nbformat": 4,
 "nbformat_minor": 2
}
