{
 "cells": [
  {
   "cell_type": "markdown",
   "metadata": {},
   "source": [
    "### Two Stages of ML\n",
    "\n",
    "machine learning has two stages, training and inference"
   ]
  },
  {
   "cell_type": "markdown",
   "metadata": {},
   "source": [
    "### Path to ML: The 5 phases\n",
    "\n",
    "**1. Individual contributor**\n",
    "\n",
    "Prototype and try out ideas\n",
    "\n",
    "**2. Delegation**\n",
    "\n",
    "Gently ramp up to include more people\n",
    "\n",
    "**3. Gigitization**\n",
    "\n",
    "Automate mundane parts of the process\n",
    "\n",
    "**4. Big Data and Analytics**\n",
    "\n",
    "Measure and achieve data-driven success\n",
    "\n",
    "**5. Analytics Machine Learning**\n",
    "\n",
    "Automated feedback loop that can outpace human scale\n"
   ]
  },
  {
   "cell_type": "markdown",
   "metadata": {},
   "source": [
    "* False positive rate (α) = type I error = 1 − specificity = FP / (FP + TN) = 180 / (180 + 1820) = 9%\n",
    "* False negative rate (β) = type II error = 1 − sensitivity = FN / (TP + FN) = 10 / (20 + 10) = 33%\n",
    "* True positive rate (TPR), Recall, Sensitivity, probability of detection = Σ True positive/Σ Condition positive\n",
    "* Accuracy (ACC) = Σ True positive + Σ True negative/Σ Total population\n",
    "* Precision = Σ True positive/Σ Predicted condition positive"
   ]
  },
  {
   "cell_type": "markdown",
   "metadata": {},
   "source": [
    "## Equality of Opportunity"
   ]
  },
  {
   "cell_type": "code",
   "execution_count": null,
   "metadata": {},
   "outputs": [],
   "source": []
  }
 ],
 "metadata": {
  "kernelspec": {
   "display_name": "Python 3",
   "language": "python",
   "name": "python3"
  },
  "language_info": {
   "codemirror_mode": {
    "name": "ipython",
    "version": 3
   },
   "file_extension": ".py",
   "mimetype": "text/x-python",
   "name": "python",
   "nbconvert_exporter": "python",
   "pygments_lexer": "ipython3",
   "version": "3.6.4"
  }
 },
 "nbformat": 4,
 "nbformat_minor": 2
}
