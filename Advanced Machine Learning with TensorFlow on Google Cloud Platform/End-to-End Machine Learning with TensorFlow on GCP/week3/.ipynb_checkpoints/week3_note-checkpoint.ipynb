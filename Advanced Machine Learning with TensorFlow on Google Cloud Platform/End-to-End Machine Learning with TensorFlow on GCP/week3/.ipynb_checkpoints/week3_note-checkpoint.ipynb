{
 "cells": [
  {
   "cell_type": "markdown",
   "metadata": {},
   "source": [
    "## Operationalizing the model\n",
    "\n",
    "Beam is a way to write elastic data processing pipelines\n",
    "\n",
    "![](beam.png)\n",
    "\n",
    "The code is the same between real-time and batch\n",
    "\n",
    "![](example_Beam_pipeline.png)\n",
    "![](executing_pipeline.png)"
   ]
  },
  {
   "cell_type": "markdown",
   "metadata": {},
   "source": [
    "## Cloud ML Engine\n",
    "\n",
    "![](task_command-line.png)\n",
    "![](model.png)\n",
    "![](package.png)\n",
    "![](verify_model_work.png)"
   ]
  },
  {
   "cell_type": "markdown",
   "metadata": {},
   "source": [
    "### Train and deploy with Cloud ML Engine\n",
    "\n",
    "![](gcloud_submit.png)"
   ]
  },
  {
   "cell_type": "markdown",
   "metadata": {},
   "source": [
    "## BigQuery ML\n",
    "\n",
    "![](BigQuery_ML.png)\n",
    "![](behind_the_scenes.png)\n",
    "![](supported_features.png)\n",
    "![](end-to-end_BQML.png)"
   ]
  },
  {
   "cell_type": "markdown",
   "metadata": {},
   "source": [
    "## Deploying and Predicting with Cloud ML Engine\n",
    "\n",
    "Cloud ML Engine makes deploying models and scaling prediction infrastructure easy\n",
    "\n",
    "You can't reuse the training input function for serving\n",
    "\n",
    "![](serving_input_fn.png)\n",
    "![](deploy.png)\n",
    "![](client_REST_calls.png)"
   ]
  },
  {
   "cell_type": "markdown",
   "metadata": {},
   "source": [
    "## Hands-on Lab 7 (optional)\n",
    "### Lab 7 : Building an App Engine app to serve ML predictions\n",
    "\n",
    "![](App_Engine_invoke.png)\n",
    "![](invoke_Cloud_Dataflow.png)"
   ]
  },
  {
   "cell_type": "code",
   "execution_count": null,
   "metadata": {
    "collapsed": true
   },
   "outputs": [],
   "source": []
  }
 ],
 "metadata": {
  "kernelspec": {
   "display_name": "Python 3",
   "language": "python",
   "name": "python3"
  },
  "language_info": {
   "codemirror_mode": {
    "name": "ipython",
    "version": 3
   },
   "file_extension": ".py",
   "mimetype": "text/x-python",
   "name": "python",
   "nbconvert_exporter": "python",
   "pygments_lexer": "ipython3",
   "version": "3.5.4"
  }
 },
 "nbformat": 4,
 "nbformat_minor": 2
}
