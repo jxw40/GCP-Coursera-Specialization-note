{
 "cells": [
  {
   "cell_type": "markdown",
   "metadata": {},
   "source": [
    "# [ML on GCP C6] Create TensorFlow model"
   ]
  },
  {
   "cell_type": "markdown",
   "metadata": {},
   "source": [
    "## Overview\n",
    "Duration is 1 min\n",
    "\n",
    "This lab is part of a lab series where you train, evaluate, and deploy a machine learning model to predict a baby's weight.\n",
    "\n",
    "In this lab #3, you create a TensorFlow model using the high-level Estimator API. You will train this model on the subsample of data created in the previous lab. Once you have the model working, in the next lab, you will train the model on the full dataset.\n",
    "\n",
    "It's good practice to start with a simple model if you can. Thus you should start out with a linear model, then try a deep neural network model, and finally build a wide and deep model.\n",
    "\n",
    "78d97c5a4911535d.png\n",
    "\n",
    "### What you learn\n",
    "In this lab, you will learn how to:\n",
    "\n",
    "* Use the Estimator API to build linear and deep neural network models\n",
    "\n",
    "* Use the Estimator API to build wide and deep model\n",
    "\n",
    "* Monitor training using TensorBoard\n",
    "\n"
   ]
  },
  {
   "cell_type": "markdown",
   "metadata": {},
   "source": [
    "## Create TF model\n",
    "Duration is 15 min\n",
    "\n",
    "Use the Estimator API to create a TensorFlow model\n",
    "\n",
    "### Step 1\n",
    "\n",
    "In Cloud Datalab, click on the Home icon, and then navigate to datalab > notebooks > training-data-analyst > courses > machine_learning > deepdive > 06_structured > labs and open 3_tensorflow.ipynb.\n",
    "\n",
    "> Note: If the cloud shell used for running the datalab command is closed or interrupted, the connection to your Cloud Datalab VM will terminate. If that happens, you may be able to reconnect using the command ‘datalab connect mydatalabvm' in your new Cloud Shell. Once connected, try the above step again.\n",
    "\n",
    "### Step 2\n",
    "\n",
    "In Datalab, click on Clear | Clear all Cells. Now read the narrative and execute each cell in turn:\n",
    "\n",
    "* If you notice sections marked \"Lab Task\", you will need to create a new code cell and write/complete code to achieve the task.\n",
    "* Some lab tasks include starter code. In such cells, look for lines marked #TODO.\n",
    "* Hints may also be provided for the tasks to guide you along. Highlight the text to read the hints (they are in white text).\n",
    "* If you need more help, you may take a look at the complete solution by navigating to : datalab > notebooks > training-data-analyst > courses > machine_learning > deepdive > 06_structured and open one of the 2 notebooks: 3_tensorflow_dnn.ipynb or 3_tensorflow_wd.ipynb\n",
    "\n",
    "> Note: When doing copy/paste of python code, please be careful about indentation"
   ]
  },
  {
   "cell_type": "code",
   "execution_count": null,
   "metadata": {
    "collapsed": true
   },
   "outputs": [],
   "source": []
  }
 ],
 "metadata": {
  "kernelspec": {
   "display_name": "Python 3",
   "language": "python",
   "name": "python3"
  },
  "language_info": {
   "codemirror_mode": {
    "name": "ipython",
    "version": 3
   },
   "file_extension": ".py",
   "mimetype": "text/x-python",
   "name": "python",
   "nbconvert_exporter": "python",
   "pygments_lexer": "ipython3",
   "version": "3.5.4"
  }
 },
 "nbformat": 4,
 "nbformat_minor": 2
}
