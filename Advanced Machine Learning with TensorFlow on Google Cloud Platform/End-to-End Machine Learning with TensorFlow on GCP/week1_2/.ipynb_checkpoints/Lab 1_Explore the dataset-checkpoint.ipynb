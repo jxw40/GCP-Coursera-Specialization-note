{
 "cells": [
  {
   "cell_type": "markdown",
   "metadata": {},
   "source": [
    "# [ML on GCP C6] Explore dataset"
   ]
  },
  {
   "cell_type": "markdown",
   "metadata": {},
   "source": [
    "## Overview\n",
    "Duration is 1 min\n",
    "\n",
    "This lab is part of a lab series where you train, evaluate, and deploy a machine learning model to predict a baby's weight.\n",
    "\n",
    "In this lab #1, you explore and visualize a BigQuery dataset.\n",
    "\n",
    "2179c12ec7ea1f2b.png\n",
    "\n",
    "### What you learn\n",
    "In this lab, you will learn to:\n",
    "\n",
    "* Explore the natality dataset in BigQuery using Datalab\n",
    "\n",
    "* Use Python package to execute the query and convert the result into a Pandas dataframe for visualizations\n",
    "\n"
   ]
  },
  {
   "cell_type": "code",
   "execution_count": null,
   "metadata": {
    "collapsed": true
   },
   "outputs": [],
   "source": []
  }
 ],
 "metadata": {
  "kernelspec": {
   "display_name": "Python 3",
   "language": "python",
   "name": "python3"
  },
  "language_info": {
   "codemirror_mode": {
    "name": "ipython",
    "version": 3
   },
   "file_extension": ".py",
   "mimetype": "text/x-python",
   "name": "python",
   "nbconvert_exporter": "python",
   "pygments_lexer": "ipython3",
   "version": "3.5.4"
  }
 },
 "nbformat": 4,
 "nbformat_minor": 2
}
