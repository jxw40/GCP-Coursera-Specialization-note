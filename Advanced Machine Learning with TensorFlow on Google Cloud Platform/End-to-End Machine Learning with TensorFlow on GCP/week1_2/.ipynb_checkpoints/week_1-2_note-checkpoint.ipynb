{
 "cells": [
  {
   "cell_type": "markdown",
   "metadata": {},
   "source": [
    "# week 1"
   ]
  },
  {
   "cell_type": "markdown",
   "metadata": {},
   "source": [
    "## Fully managed ML\n",
    "\n",
    "![](cloud_ml.png)\n",
    "![](end-to-end_labs.png)"
   ]
  },
  {
   "cell_type": "markdown",
   "metadata": {},
   "source": [
    "# week 2"
   ]
  },
  {
   "cell_type": "markdown",
   "metadata": {},
   "source": [
    "## Creating a dataset\n",
    "\n",
    "![](feature_good.png)\n",
    "\n",
    "we don't want nearly identical data points to be in both training and evaluation\n",
    "![](split_dataset.png)\n",
    "\n",
    "Developing the ML model software on the entire dataset can be expensive; you want to develop on a smaller sample.\n",
    "\n",
    "Develop your TensorFlow code on a small subset of data, then scale it out to the cloud.\n",
    "![](sampling.png)"
   ]
  },
  {
   "cell_type": "markdown",
   "metadata": {
    "collapsed": true
   },
   "source": [
    "## Build the model\n",
    "\n",
    "![](structure.png)\n",
    "![](encoding_categorical.png)\n",
    "![](read_csv.png)\n",
    "![](shuffling.png)\n",
    "![](Estimator_API.png)\n",
    "![](trainSpec.png)\n",
    "![](EvalSpec.png)"
   ]
  },
  {
   "cell_type": "markdown",
   "metadata": {
    "collapsed": true
   },
   "source": [
    "## Hands-on Lab 3\n",
    "\n",
    "Two types of features: Dense and sparse\n",
    "\n",
    "* DNNs good for dense, highly-correlated inputs\n",
    "* Linear models are better at handling sparse, independent features\n",
    "\n",
    "**Wide-and-deep models let you handle both**\n",
    "\n",
    "trade off between:\n",
    "* Linear models --> memorization relevance\n",
    "* DNNs &emsp;&emsp;&emsp;&ensp; --> generalization diversity\n",
    "\n",
    "![](wide-and-deep.png)"
   ]
  },
  {
   "cell_type": "code",
   "execution_count": null,
   "metadata": {
    "collapsed": true
   },
   "outputs": [],
   "source": []
  }
 ],
 "metadata": {
  "kernelspec": {
   "display_name": "Python 3",
   "language": "python",
   "name": "python3"
  },
  "language_info": {
   "codemirror_mode": {
    "name": "ipython",
    "version": 3
   },
   "file_extension": ".py",
   "mimetype": "text/x-python",
   "name": "python",
   "nbconvert_exporter": "python",
   "pygments_lexer": "ipython3",
   "version": "3.5.4"
  }
 },
 "nbformat": 4,
 "nbformat_minor": 2
}
