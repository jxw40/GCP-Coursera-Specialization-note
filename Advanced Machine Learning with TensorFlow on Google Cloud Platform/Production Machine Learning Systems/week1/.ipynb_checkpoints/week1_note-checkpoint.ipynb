{
 "cells": [
  {
   "cell_type": "markdown",
   "metadata": {},
   "source": [
    "# Architecting Production ML Systems"
   ]
  },
  {
   "cell_type": "markdown",
   "metadata": {},
   "source": [
    "## The Components of an ML System\n",
    "\n",
    "![](other_components.png)"
   ]
  },
  {
   "cell_type": "markdown",
   "metadata": {},
   "source": [
    "### Data Ingestion\n",
    "\n",
    "![](ingestion.png)"
   ]
  },
  {
   "cell_type": "markdown",
   "metadata": {},
   "source": [
    "### The Components of an ML System: Data Analysis and Validation\n",
    "\n",
    "![](data_validation.png)"
   ]
  },
  {
   "cell_type": "markdown",
   "metadata": {},
   "source": [
    "### The Components of an ML System: Data Transformation + Trainer\n",
    "### The Components of an ML System: Tuner + Model Evaluation and Validation\n",
    "\n",
    "Serving Component must be:\n",
    "* Low-latency\n",
    "* Highly efficient\n",
    "* Scale Horizontally\n",
    "* Reliable and robust\n",
    "* Easy to update versions\n",
    "\n",
    "### The Components of an ML System: Orchestration + Workflow\n",
    "### The Components of an ML System: Integrated Frontend + Storage"
   ]
  },
  {
   "cell_type": "markdown",
   "metadata": {},
   "source": [
    "## Design Decisions\n",
    "\n",
    "### Training Design Decisions\n",
    "\n",
    "<center>**Static vs Dynamic Training**</center>\n",
    "\n",
    "|Statically Trained Models|Dynamically Trained Models|\n",
    "|:-|:-|\n",
    "|Trained once, offline|Add training data over time|\n",
    "|Easy to build and test|Engineering is harder, Have to do progressive validation|\n",
    "|Easy to let become stale|Regularly sync out updated version Will adapt to changes|\n",
    "\n",
    "### Serving Design Decisions\n",
    "\n",
    "<center>**Static vs Dynamic Serving**</center>\n",
    "\n",
    "|Static|Dynamic|\n",
    "|:-|:-|\n",
    "|Higher Storage Cost|Lower Storage Cost|\n",
    "|Low, Fixed Latency|Variable Latency|\n",
    "|Lower Maintenance|Higher Maintenance|\n",
    "|Space intensive|Compute intensive|\n",
    "\n",
    "**Peakedness** is how concentrated the distribution is\n",
    "\n",
    "**Cardinality** is the number of values in the set\n",
    "\n",
    "![](serving_design.png)"
   ]
  },
  {
   "cell_type": "markdown",
   "metadata": {},
   "source": [
    "## Serving on Cloud MLE\n",
    "\n",
    "Google App Engine is an fully-managed service for building web backends\n",
    "\n",
    "### Lab Solution: Serving on Cloud MLE\n",
    "\n",
    "Use Apigee Edge for full-fledged APIs"
   ]
  },
  {
   "cell_type": "markdown",
   "metadata": {},
   "source": [
    "## Designing an Architecture from Scratch"
   ]
  },
  {
   "cell_type": "markdown",
   "metadata": {},
   "source": [
    "# Ingesting data for Cloud-based analytics and ML"
   ]
  },
  {
   "cell_type": "markdown",
   "metadata": {},
   "source": [
    "### Data On-Premise\n",
    "\n",
    "Use `gsutil` to move data to Google Cloud Storage\n",
    "\n",
    "Use multithreaded transfers to Google Cloud Storage\n",
    "\n",
    "`gsutil -m cp -r [SOURCE_DIRECTORY] gs://[BUCKET_NAME]`\n",
    "\n",
    "\n",
    "![](stored_regionally.png)\n"
   ]
  },
  {
   "cell_type": "code",
   "execution_count": null,
   "metadata": {
    "collapsed": true
   },
   "outputs": [],
   "source": []
  }
 ],
 "metadata": {
  "kernelspec": {
   "display_name": "Python 3",
   "language": "python",
   "name": "python3"
  },
  "language_info": {
   "codemirror_mode": {
    "name": "ipython",
    "version": 3
   },
   "file_extension": ".py",
   "mimetype": "text/x-python",
   "name": "python",
   "nbconvert_exporter": "python",
   "pygments_lexer": "ipython3",
   "version": "3.5.4"
  }
 },
 "nbformat": 4,
 "nbformat_minor": 2
}
