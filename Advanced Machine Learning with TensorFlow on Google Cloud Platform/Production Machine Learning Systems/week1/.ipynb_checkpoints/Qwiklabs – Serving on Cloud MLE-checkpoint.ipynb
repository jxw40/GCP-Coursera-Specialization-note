{
 "cells": [
  {
   "cell_type": "markdown",
   "metadata": {},
   "source": [
    "# [ML on GCP C7] Serving on Cloud MLE"
   ]
  },
  {
   "cell_type": "markdown",
   "metadata": {},
   "source": [
    "## Overview\n",
    "Duration is 1 min\n",
    "\n",
    "In this lab, you build an AppEngine app to serve your ML predictions. You get to modify the user-facing form and the python script and deploy them as an AppEngine app that makes requests to your deployed ML model.\n",
    "\n",
    "### What you learn\n",
    "In this lab, you:\n",
    "\n",
    "* modify a simple UI form to get user input when making calls to your model\n",
    "\n",
    "* build the http request to be made to your deployed ML model on Cloud MLE"
   ]
  },
  {
   "cell_type": "markdown",
   "metadata": {},
   "source": [
    "## Setup"
   ]
  },
  {
   "cell_type": "markdown",
   "metadata": {},
   "source": [
    "## Start Cloud Shell"
   ]
  },
  {
   "cell_type": "markdown",
   "metadata": {},
   "source": [
    "## Copy trained model\n",
    "### Step 1\n",
    "Set necessary variables and create a bucket:\n",
    "```\n",
    "REGION=us-central1\n",
    "BUCKET=$(gcloud config get-value project)\n",
    "TFVERSION=1.7\n",
    "gsutil mb -l ${REGION} gs://${BUCKET}\n",
    "```\n",
    "\n",
    "### Step 2\n",
    "Copy trained model into your bucket:\n",
    "```\n",
    "gsutil -m cp -R gs://cloud-training-demos/babyweight/trained_model gs://${BUCKET}/babyweight\n",
    "```"
   ]
  },
  {
   "cell_type": "markdown",
   "metadata": {},
   "source": [
    "## Deploy trained model\n",
    "### Step 1\n",
    "Set necessary variables:\n",
    "```\n",
    "MODEL_NAME=babyweight\n",
    "MODEL_VERSION=ml_on_gcp\n",
    "MODEL_LOCATION=$(gsutil ls gs://${BUCKET}/babyweight/export/exporter/ | tail -1)\n",
    "```\n",
    "\n",
    "### Step 2\n",
    "Deploy trained model:\n",
    "```\n",
    "gcloud ml-engine models create ${MODEL_NAME} --regions $REGION\n",
    "gcloud ml-engine versions create ${MODEL_VERSION} --model ${MODEL_NAME} --origin ${MODEL_LOCATION} --runtime-version $TFVERSION\n",
    "```"
   ]
  },
  {
   "cell_type": "markdown",
   "metadata": {},
   "source": [
    "## Code for your frontend\n",
    "### Step 1\n",
    "Clone the course repository:\n",
    "```\n",
    "cd ~\n",
    "git clone https://github.com/GoogleCloudPlatform/training-data-analyst\n",
    "```\n",
    "\n",
    "### Step 2\n",
    "You can use the Cloud Shell code editor to view and edit the contents of these files.\n",
    "\n",
    "Click on the (b8ebde10ba2a31c8.png) icon on the top right of your Cloud Shell window to launch Code Editor.\n",
    "\n",
    "Once launched, navigate to the ~/training-data-analyst/courses/machine_learning/deepdive/06_structured/labs/serving directory.\n",
    "\n",
    "### Step 3\n",
    "Open the application/main.pyand application/templates/form.html files and notice the #TODOs within the code. These need to be replaced with code. The next section tells you how."
   ]
  },
  {
   "cell_type": "markdown",
   "metadata": {},
   "source": [
    "## Modify main.py\n",
    "### Step 1\n",
    "Open the main.py file by clicking on it. Notice the lines with # TODO for setting credentials and the api to use.\n",
    "\n",
    "Set the credentials to use Google Application Default Credentials (recommended way to authorize calls to our APIs when building apps deployed on AppEngine):\n",
    "```\n",
    "credentials = GoogleCredentials.get_application_default()\n",
    "```\n",
    "Specify the api name (ML Engine API) and version to use:\n",
    "```\n",
    "api = discovery.build('ml', 'v1', credentials=credentials)\n",
    "```\n",
    "\n",
    "### Step 2\n",
    "Scroll further down in main.py and look for the next #TODO in the method get_prediction(). In there, specify, using the parent variable, the name of your trained model deployed on Cloud MLE:\n",
    "```\n",
    "parent = 'projects/%s/models/%s' % (project, model_name)\n",
    "```\n",
    "\n",
    "### Step 3\n",
    "Now that you have all the pieces for making the call to your model, build the call request by specifying it in the prediction variable:\n",
    "```\n",
    "prediction = api.projects().predict(body=input_data, name=parent).execute()\n",
    "```\n",
    "\n",
    "### Step 4\n",
    "The final #TODO (scroll towards bottom) is to get gestation_weeks from the form data and cast into a float within the features array:\n",
    "```\n",
    "features['gestation_weeks'] = float(data['gestation_weeks'])\n",
    "```\n",
    "\n",
    "### Step 5\n",
    "Save the changes you made using the File > Save button on the top left of your code editor window.\n",
    "\n",
    "3b0e6c092072fec5.png\n",
    "\n"
   ]
  },
  {
   "cell_type": "markdown",
   "metadata": {},
   "source": [
    "## Modify form.html\n",
    "form.html is the front-end of your app. The user fills in data (features) about the mother based on which we will make the predictions using our trained model.\n",
    "\n",
    "### Step 1\n",
    "In code editor, navigate to the application/templates directory and click to open the form.html file.\n",
    "\n",
    "### Step 2\n",
    "There is one #TODO item here. Look for the div segment for Plurality and add options for other plurality values (2, 3, etc).\n",
    "```\n",
    "<md-option value=\"2\">Twins</md-option>\n",
    "<md-option value=\"3\">Triplets</md-option>\n",
    "```\n",
    "\n",
    "### Step 3\n",
    "Save the changes you made using the File > Save button on the top left of your code editor window.\n",
    "\n"
   ]
  },
  {
   "cell_type": "markdown",
   "metadata": {},
   "source": [
    "## Deploy and test your app\n",
    "### Step 1\n",
    "In Cloud Shell, run the deploy.sh script to install required dependencies and deploy your app engine app to the cloud.\n",
    "```\n",
    "cd training-data-analyst/courses/machine_learning/deepdive/06_structured/labs/serving\n",
    "./deploy.sh\n",
    "```\n",
    "\n",
    "> Note: Choose a region for App Engine when prompted and follow the prompts during this process\n",
    "\n",
    "### Step 2\n",
    "Go to the url `https://<PROJECT-ID>.appspot.com` and start making predictions.\n",
    "\n",
    "Note: Replace `<PROJECT-ID>` with your Project ID.\n",
    "\n"
   ]
  },
  {
   "cell_type": "markdown",
   "metadata": {},
   "source": [
    "## End your lab"
   ]
  },
  {
   "cell_type": "markdown",
   "metadata": {},
   "source": [
    "```\n",
    "$ ./deploy.sh\n",
    "\n",
    "You are creating an app for project [qwiklabs-gcp-cc4a35166b70af2b].\n",
    "WARNING: Creating an App Engine application for a project is irreversible and the region\n",
    "cannot be changed. More information about regions is at\n",
    "<https://cloud.google.com/appengine/docs/locations>.\n",
    "Please choose the region where you want your App Engine application\n",
    "located:\n",
    " [1] asia-east2    (supports standard and flexible)\n",
    " [2] asia-northeast1 (supports standard and flexible)\n",
    " [3] asia-south1   (supports standard and flexible)\n",
    " [4] australia-southeast1 (supports standard and flexible)\n",
    " [5] europe-west   (supports standard and flexible)\n",
    " [6] europe-west2  (supports standard and flexible)\n",
    " [7] europe-west3  (supports standard and flexible)\n",
    " [8] northamerica-northeast1 (supports standard and flexible)\n",
    " [9] southamerica-east1 (supports standard and flexible)\n",
    " [10] us-central    (supports standard and flexible)\n",
    " [11] us-east1      (supports standard and flexible)\n",
    " [12] us-east4      (supports standard and flexible)\n",
    " [13] us-west2      (supports standard and flexible)\n",
    " [14] cancel\n",
    "Please enter your numeric choice:  11\n",
    "                                                                                                             \n",
    "                                                                                                             \n",
    "Creating App Engine application in project [qwiklabs-gcp-cc4a35166b70af2b] and region [us-east1]....done.\n",
    "Success! The app is now created. Please use `gcloud app deploy` to deploy your first app.\n",
    "Services to deploy:\n",
    "    \n",
    "descriptor:      [/home/google2404265_student/training-data-analyst/courses/machine_learning/deepdive/06_structured/labs/serving/application/app.yaml]\n",
    "source:          [/home/google2404265_student/training-data-analyst/courses/machine_learning/deepdive/06_structured/labs/serving/application]\n",
    "target project:  [qwiklabs-gcp-cc4a35166b70af2b]\n",
    "target service:  [default]\n",
    "target version:  [20190207t155028]\n",
    "target url:      [https://qwiklabs-gcp-cc4a35166b70af2b.appspot.com]\n",
    "Do you want to continue (Y/n)?\n",
    "Beginning deployment of service [default]...\n",
    "╔════════════════════════════════════════════════════════════╗\n",
    "╠═ Uploading 365 files to Google Cloud Storage              ═╣\n",
    "╚════════════════════════════════════════════════════════════╝\n",
    "File upload done.\n",
    "Updating service [default]...done.\n",
    "Setting traffic split for service [default]...done.\n",
    "Deployed service [default] to [https://qwiklabs-gcp-cc4a35166b70af2b.appspot.com]\n",
    "\n",
    "You can stream logs from the command line by running:\n",
    "  $ gcloud app logs tail -s default\n",
    "To view your application in the web browser run:\n",
    "  $ gcloud app browse\n",
    "Your active configuration is: [cloudshell-8897]\n",
    "```"
   ]
  },
  {
   "cell_type": "code",
   "execution_count": null,
   "metadata": {
    "collapsed": true
   },
   "outputs": [],
   "source": []
  }
 ],
 "metadata": {
  "kernelspec": {
   "display_name": "Python 3",
   "language": "python",
   "name": "python3"
  },
  "language_info": {
   "codemirror_mode": {
    "name": "ipython",
    "version": 3
   },
   "file_extension": ".py",
   "mimetype": "text/x-python",
   "name": "python",
   "nbconvert_exporter": "python",
   "pygments_lexer": "ipython3",
   "version": "3.5.4"
  }
 },
 "nbformat": 4,
 "nbformat_minor": 2
}
