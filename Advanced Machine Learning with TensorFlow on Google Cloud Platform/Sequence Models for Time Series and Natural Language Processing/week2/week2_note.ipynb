{
 "cells": [
  {
   "cell_type": "markdown",
   "metadata": {},
   "source": [
    "### Text Classification\n",
    "\n",
    "#### Convert sentences into a numeric representation\n",
    "1. Create a mapping from each word to a unique integer\n",
    "2. Encode each sentence as a sequence of these integers\n",
    "3. Pad each sequence to a constant length\n",
    "4. Convert each integer into an embedded representation with meaningful magnitude"
   ]
  },
  {
   "cell_type": "markdown",
   "metadata": {},
   "source": [
    "## TensorFlow Hub\n",
    "\n",
    "TensorFlow Hub makes using pre-trained embeddings easy\n",
    "\n",
    "Modules are executable portions of a TensorFlow graph"
   ]
  },
  {
   "cell_type": "markdown",
   "metadata": {
    "collapsed": true
   },
   "source": [
    "## Encoder-Decoder Networks\n",
    "### Training Encoder-Decoder Models with TensorFlow\n",
    "\n",
    "![](encoder-decoder_tf.png)\n",
    "![](translation_attention.png)\n",
    "![](replace_decoder_cell.png)\n",
    "![](dropout_multi-layer.png)"
   ]
  },
  {
   "cell_type": "markdown",
   "metadata": {},
   "source": [
    "### Dialogflow\n",
    "\n",
    "Dialogflow\n",
    "\n",
    "An end-to-end developer platform for building natural and rich conversational experiences\n",
    "\n",
    "**Intents** are the actions a user wants to take\n",
    "\n",
    "**Entities** are the nouns in your dialog\n",
    "\n",
    "**Context** helps the chatbot keep track"
   ]
  },
  {
   "cell_type": "code",
   "execution_count": null,
   "metadata": {
    "collapsed": true
   },
   "outputs": [],
   "source": []
  }
 ],
 "metadata": {
  "kernelspec": {
   "display_name": "Python 3",
   "language": "python",
   "name": "python3"
  },
  "language_info": {
   "codemirror_mode": {
    "name": "ipython",
    "version": 3
   },
   "file_extension": ".py",
   "mimetype": "text/x-python",
   "name": "python",
   "nbconvert_exporter": "python",
   "pygments_lexer": "ipython3",
   "version": "3.5.4"
  }
 },
 "nbformat": 4,
 "nbformat_minor": 2
}
