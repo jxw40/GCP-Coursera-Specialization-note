{
 "cells": [
  {
   "cell_type": "markdown",
   "metadata": {},
   "source": [
    "<h1> Text Classification using TensorFlow/Keras on Cloud ML Engine </h1>\n",
    "\n",
    "This notebook illustrates:\n",
    "<ol>\n",
    "<li> Creating datasets for Machine Learning using BigQuery\n",
    "<li> Creating a text classification model using the Estimator API with a Keras model\n",
    "<li> Training on Cloud ML Engine\n",
    "<li> Deploying the model\n",
    "<li> Predicting with model\n",
    "<li> Rerun with pre-trained embedding\n",
    "</ol>"
   ]
  },
  {
   "cell_type": "code",
   "execution_count": 1,
   "metadata": {},
   "outputs": [],
   "source": [
    "# change these to try this notebook out\n",
    "BUCKET = 'qwiklabs-gcp-19852a0d89ff40f2'\n",
    "PROJECT = 'qwiklabs-gcp-19852a0d89ff40f2'\n",
    "REGION = 'us-east1'"
   ]
  },
  {
   "cell_type": "code",
   "execution_count": 2,
   "metadata": {},
   "outputs": [],
   "source": [
    "import os\n",
    "os.environ['BUCKET'] = BUCKET\n",
    "os.environ['PROJECT'] = PROJECT\n",
    "os.environ['REGION'] = REGION\n",
    "os.environ['TFVERSION'] = '1.8'"
   ]
  },
  {
   "cell_type": "code",
   "execution_count": 3,
   "metadata": {},
   "outputs": [
    {
     "name": "stderr",
     "output_type": "stream",
     "text": [
      "/usr/local/envs/py3env/lib/python3.5/site-packages/h5py/__init__.py:36: FutureWarning: Conversion of the second argument of issubdtype from `float` to `np.floating` is deprecated. In future, it will be treated as `np.float64 == np.dtype(float).type`.\n",
      "  from ._conv import register_converters as _register_converters\n"
     ]
    },
    {
     "name": "stdout",
     "output_type": "stream",
     "text": [
      "1.8.0\n"
     ]
    }
   ],
   "source": [
    "import tensorflow as tf\n",
    "print(tf.__version__)"
   ]
  },
  {
   "cell_type": "markdown",
   "metadata": {},
   "source": [
    "We will look at the titles of articles and figure out whether the article came from the New York Times, TechCrunch or GitHub. \n",
    "\n",
    "We will use [hacker news](https://news.ycombinator.com/) as our data source. It is an aggregator that displays tech related headlines from various  sources."
   ]
  },
  {
   "cell_type": "markdown",
   "metadata": {},
   "source": [
    "### Creating Dataset from BigQuery \n",
    "\n",
    "Hacker news headlines are available as a BigQuery public dataset. The [dataset](https://bigquery.cloud.google.com/table/bigquery-public-data:hacker_news.stories?tab=details) contains all headlines from the sites inception in October 2006 until October 2015. \n",
    "\n",
    "Here is a sample of the dataset:"
   ]
  },
  {
   "cell_type": "code",
   "execution_count": 4,
   "metadata": {},
   "outputs": [
    {
     "data": {
      "text/html": [
       "<div>\n",
       "<style scoped>\n",
       "    .dataframe tbody tr th:only-of-type {\n",
       "        vertical-align: middle;\n",
       "    }\n",
       "\n",
       "    .dataframe tbody tr th {\n",
       "        vertical-align: top;\n",
       "    }\n",
       "\n",
       "    .dataframe thead th {\n",
       "        text-align: right;\n",
       "    }\n",
       "</style>\n",
       "<table border=\"1\" class=\"dataframe\">\n",
       "  <thead>\n",
       "    <tr style=\"text-align: right;\">\n",
       "      <th></th>\n",
       "      <th>url</th>\n",
       "      <th>title</th>\n",
       "      <th>score</th>\n",
       "    </tr>\n",
       "  </thead>\n",
       "  <tbody>\n",
       "    <tr>\n",
       "      <th>0</th>\n",
       "      <td>http://www.bbc.co.uk/news/business-27732743</td>\n",
       "      <td>Vodafone reveals direct government wiretaps</td>\n",
       "      <td>256</td>\n",
       "    </tr>\n",
       "    <tr>\n",
       "      <th>1</th>\n",
       "      <td></td>\n",
       "      <td>Challenge HN: Keep lame April Fools' gags off ...</td>\n",
       "      <td>257</td>\n",
       "    </tr>\n",
       "    <tr>\n",
       "      <th>2</th>\n",
       "      <td></td>\n",
       "      <td>Ask HN: Best book you read in 2010 and briefly...</td>\n",
       "      <td>258</td>\n",
       "    </tr>\n",
       "    <tr>\n",
       "      <th>3</th>\n",
       "      <td></td>\n",
       "      <td>Ask HN: Help a Hacker Out</td>\n",
       "      <td>263</td>\n",
       "    </tr>\n",
       "    <tr>\n",
       "      <th>4</th>\n",
       "      <td>https://www.kickstarter.com/projects/appdocu/a...</td>\n",
       "      <td>Doc – App: The Human Story</td>\n",
       "      <td>11</td>\n",
       "    </tr>\n",
       "    <tr>\n",
       "      <th>5</th>\n",
       "      <td></td>\n",
       "      <td>On this day long ago, a child was born who, by...</td>\n",
       "      <td>11</td>\n",
       "    </tr>\n",
       "    <tr>\n",
       "      <th>6</th>\n",
       "      <td></td>\n",
       "      <td>Learn about LaunchBox Digital from Those Who'v...</td>\n",
       "      <td>11</td>\n",
       "    </tr>\n",
       "    <tr>\n",
       "      <th>7</th>\n",
       "      <td></td>\n",
       "      <td>Tell HN: No, it really isn't turning into Reddit</td>\n",
       "      <td>11</td>\n",
       "    </tr>\n",
       "    <tr>\n",
       "      <th>8</th>\n",
       "      <td>http://www.starwebworld.com/android-jelly-bean...</td>\n",
       "      <td>Android Jelly Bean: Streaming Audio Through th...</td>\n",
       "      <td>11</td>\n",
       "    </tr>\n",
       "    <tr>\n",
       "      <th>9</th>\n",
       "      <td></td>\n",
       "      <td>Ask HN: What would you have done, in Satoshi's...</td>\n",
       "      <td>11</td>\n",
       "    </tr>\n",
       "  </tbody>\n",
       "</table>\n",
       "</div>"
      ],
      "text/plain": [
       "                                                 url  \\\n",
       "0        http://www.bbc.co.uk/news/business-27732743   \n",
       "1                                                      \n",
       "2                                                      \n",
       "3                                                      \n",
       "4  https://www.kickstarter.com/projects/appdocu/a...   \n",
       "5                                                      \n",
       "6                                                      \n",
       "7                                                      \n",
       "8  http://www.starwebworld.com/android-jelly-bean...   \n",
       "9                                                      \n",
       "\n",
       "                                               title  score  \n",
       "0        Vodafone reveals direct government wiretaps    256  \n",
       "1  Challenge HN: Keep lame April Fools' gags off ...    257  \n",
       "2  Ask HN: Best book you read in 2010 and briefly...    258  \n",
       "3                          Ask HN: Help a Hacker Out    263  \n",
       "4                         Doc – App: The Human Story     11  \n",
       "5  On this day long ago, a child was born who, by...     11  \n",
       "6  Learn about LaunchBox Digital from Those Who'v...     11  \n",
       "7   Tell HN: No, it really isn't turning into Reddit     11  \n",
       "8  Android Jelly Bean: Streaming Audio Through th...     11  \n",
       "9  Ask HN: What would you have done, in Satoshi's...     11  "
      ]
     },
     "execution_count": 4,
     "metadata": {},
     "output_type": "execute_result"
    }
   ],
   "source": [
    "import google.datalab.bigquery as bq\n",
    "query=\"\"\"\n",
    "SELECT\n",
    "  url, title, score\n",
    "FROM\n",
    "  `bigquery-public-data.hacker_news.stories`\n",
    "WHERE\n",
    "  LENGTH(title) > 10\n",
    "  AND score > 10\n",
    "LIMIT 10\n",
    "\"\"\"\n",
    "df = bq.Query(query).execute().result().to_dataframe()\n",
    "df"
   ]
  },
  {
   "cell_type": "markdown",
   "metadata": {},
   "source": [
    "Let's do some regular expression parsing in BigQuery to get the source of the newspaper article from the URL. For example, if the url is http://mobile.nytimes.com/...., I want to be left with <i>nytimes</i>"
   ]
  },
  {
   "cell_type": "code",
   "execution_count": 5,
   "metadata": {},
   "outputs": [
    {
     "data": {
      "text/html": [
       "<div>\n",
       "<style scoped>\n",
       "    .dataframe tbody tr th:only-of-type {\n",
       "        vertical-align: middle;\n",
       "    }\n",
       "\n",
       "    .dataframe tbody tr th {\n",
       "        vertical-align: top;\n",
       "    }\n",
       "\n",
       "    .dataframe thead th {\n",
       "        text-align: right;\n",
       "    }\n",
       "</style>\n",
       "<table border=\"1\" class=\"dataframe\">\n",
       "  <thead>\n",
       "    <tr style=\"text-align: right;\">\n",
       "      <th></th>\n",
       "      <th>source</th>\n",
       "      <th>num_articles</th>\n",
       "    </tr>\n",
       "  </thead>\n",
       "  <tbody>\n",
       "    <tr>\n",
       "      <th>0</th>\n",
       "      <td>blogspot</td>\n",
       "      <td>41386</td>\n",
       "    </tr>\n",
       "    <tr>\n",
       "      <th>1</th>\n",
       "      <td>github</td>\n",
       "      <td>36525</td>\n",
       "    </tr>\n",
       "    <tr>\n",
       "      <th>2</th>\n",
       "      <td>techcrunch</td>\n",
       "      <td>30891</td>\n",
       "    </tr>\n",
       "    <tr>\n",
       "      <th>3</th>\n",
       "      <td>youtube</td>\n",
       "      <td>30848</td>\n",
       "    </tr>\n",
       "    <tr>\n",
       "      <th>4</th>\n",
       "      <td>nytimes</td>\n",
       "      <td>28787</td>\n",
       "    </tr>\n",
       "    <tr>\n",
       "      <th>5</th>\n",
       "      <td>medium</td>\n",
       "      <td>18422</td>\n",
       "    </tr>\n",
       "    <tr>\n",
       "      <th>6</th>\n",
       "      <td>google</td>\n",
       "      <td>18235</td>\n",
       "    </tr>\n",
       "    <tr>\n",
       "      <th>7</th>\n",
       "      <td>wordpress</td>\n",
       "      <td>17667</td>\n",
       "    </tr>\n",
       "    <tr>\n",
       "      <th>8</th>\n",
       "      <td>arstechnica</td>\n",
       "      <td>13749</td>\n",
       "    </tr>\n",
       "    <tr>\n",
       "      <th>9</th>\n",
       "      <td>wired</td>\n",
       "      <td>12841</td>\n",
       "    </tr>\n",
       "  </tbody>\n",
       "</table>\n",
       "</div>"
      ],
      "text/plain": [
       "        source  num_articles\n",
       "0     blogspot         41386\n",
       "1       github         36525\n",
       "2   techcrunch         30891\n",
       "3      youtube         30848\n",
       "4      nytimes         28787\n",
       "5       medium         18422\n",
       "6       google         18235\n",
       "7    wordpress         17667\n",
       "8  arstechnica         13749\n",
       "9        wired         12841"
      ]
     },
     "execution_count": 5,
     "metadata": {},
     "output_type": "execute_result"
    }
   ],
   "source": [
    "query=\"\"\"\n",
    "SELECT\n",
    "  ARRAY_REVERSE(SPLIT(REGEXP_EXTRACT(url, '.*://(.[^/]+)/'), '.'))[OFFSET(1)] AS source,\n",
    "  COUNT(title) AS num_articles\n",
    "FROM\n",
    "  `bigquery-public-data.hacker_news.stories`\n",
    "WHERE\n",
    "  REGEXP_CONTAINS(REGEXP_EXTRACT(url, '.*://(.[^/]+)/'), '.com$')\n",
    "  AND LENGTH(title) > 10\n",
    "GROUP BY\n",
    "  source\n",
    "ORDER BY num_articles DESC\n",
    "LIMIT 10\n",
    "\"\"\"\n",
    "df = bq.Query(query).execute().result().to_dataframe()\n",
    "df"
   ]
  },
  {
   "cell_type": "markdown",
   "metadata": {},
   "source": [
    "Now that we have good parsing of the URL to get the source, let's put together a dataset of source and titles. This will be our labeled dataset for machine learning."
   ]
  },
  {
   "cell_type": "code",
   "execution_count": 6,
   "metadata": {},
   "outputs": [
    {
     "data": {
      "text/html": [
       "<div>\n",
       "<style scoped>\n",
       "    .dataframe tbody tr th:only-of-type {\n",
       "        vertical-align: middle;\n",
       "    }\n",
       "\n",
       "    .dataframe tbody tr th {\n",
       "        vertical-align: top;\n",
       "    }\n",
       "\n",
       "    .dataframe thead th {\n",
       "        text-align: right;\n",
       "    }\n",
       "</style>\n",
       "<table border=\"1\" class=\"dataframe\">\n",
       "  <thead>\n",
       "    <tr style=\"text-align: right;\">\n",
       "      <th></th>\n",
       "      <th>source</th>\n",
       "      <th>title</th>\n",
       "    </tr>\n",
       "  </thead>\n",
       "  <tbody>\n",
       "    <tr>\n",
       "      <th>0</th>\n",
       "      <td>github</td>\n",
       "      <td>erlang  eunit and travis without rebar</td>\n",
       "    </tr>\n",
       "    <tr>\n",
       "      <th>1</th>\n",
       "      <td>github</td>\n",
       "      <td>node-pngdefry</td>\n",
       "    </tr>\n",
       "    <tr>\n",
       "      <th>2</th>\n",
       "      <td>github</td>\n",
       "      <td>let s study for google</td>\n",
       "    </tr>\n",
       "    <tr>\n",
       "      <th>3</th>\n",
       "      <td>github</td>\n",
       "      <td>mcabber-festival   im   speech notifications</td>\n",
       "    </tr>\n",
       "    <tr>\n",
       "      <th>4</th>\n",
       "      <td>github</td>\n",
       "      <td>an open source pok mon game on ios with locati...</td>\n",
       "    </tr>\n",
       "  </tbody>\n",
       "</table>\n",
       "</div>"
      ],
      "text/plain": [
       "   source                                              title\n",
       "0  github             erlang  eunit and travis without rebar\n",
       "1  github                                      node-pngdefry\n",
       "2  github                             let s study for google\n",
       "3  github       mcabber-festival   im   speech notifications\n",
       "4  github  an open source pok mon game on ios with locati..."
      ]
     },
     "execution_count": 6,
     "metadata": {},
     "output_type": "execute_result"
    }
   ],
   "source": [
    "query=\"\"\"\n",
    "SELECT source, LOWER(REGEXP_REPLACE(title, '[^a-zA-Z0-9 $.-]', ' ')) AS title FROM\n",
    "  (SELECT\n",
    "    ARRAY_REVERSE(SPLIT(REGEXP_EXTRACT(url, '.*://(.[^/]+)/'), '.'))[OFFSET(1)] AS source,\n",
    "    title\n",
    "  FROM\n",
    "    `bigquery-public-data.hacker_news.stories`\n",
    "  WHERE\n",
    "    REGEXP_CONTAINS(REGEXP_EXTRACT(url, '.*://(.[^/]+)/'), '.com$')\n",
    "    AND LENGTH(title) > 10\n",
    "  )\n",
    "WHERE (source = 'github' OR source = 'nytimes' OR source = 'techcrunch')\n",
    "\"\"\"\n",
    "\n",
    "df = bq.Query(query + \" LIMIT 10\").execute().result().to_dataframe()\n",
    "df.head()"
   ]
  },
  {
   "cell_type": "markdown",
   "metadata": {},
   "source": [
    "For ML training, we will need to split our dataset into training and evaluation datasets (and perhaps an independent test dataset if we are going to do model or feature selection based on the evaluation dataset).  \n",
    "\n",
    "A simple, repeatable way to do this is to use the hash of a well-distributed column in our data (See https://www.oreilly.com/learning/repeatable-sampling-of-data-sets-in-bigquery-for-machine-learning)."
   ]
  },
  {
   "cell_type": "code",
   "execution_count": 7,
   "metadata": {},
   "outputs": [],
   "source": [
    "traindf = bq.Query(query + \" AND MOD(ABS(FARM_FINGERPRINT(title)),4) > 0\").execute().result().to_dataframe()\n",
    "evaldf  = bq.Query(query + \" AND MOD(ABS(FARM_FINGERPRINT(title)),4) = 0\").execute().result().to_dataframe()"
   ]
  },
  {
   "cell_type": "markdown",
   "metadata": {},
   "source": [
    "Below we can see that roughly 75% of the data is used for training, and 25% for evaluation. \n",
    "\n",
    "We can also see that within each dataset, the classes are roughly balanced."
   ]
  },
  {
   "cell_type": "code",
   "execution_count": 8,
   "metadata": {},
   "outputs": [
    {
     "data": {
      "text/plain": [
       "github        27445\n",
       "techcrunch    23131\n",
       "nytimes       21586\n",
       "Name: source, dtype: int64"
      ]
     },
     "execution_count": 8,
     "metadata": {},
     "output_type": "execute_result"
    }
   ],
   "source": [
    "traindf['source'].value_counts()"
   ]
  },
  {
   "cell_type": "code",
   "execution_count": 9,
   "metadata": {},
   "outputs": [
    {
     "data": {
      "text/plain": [
       "github        9080\n",
       "techcrunch    7760\n",
       "nytimes       7201\n",
       "Name: source, dtype: int64"
      ]
     },
     "execution_count": 9,
     "metadata": {},
     "output_type": "execute_result"
    }
   ],
   "source": [
    "evaldf['source'].value_counts()"
   ]
  },
  {
   "cell_type": "markdown",
   "metadata": {},
   "source": [
    "Finally we will save our data, which is currently in-memory, to disk."
   ]
  },
  {
   "cell_type": "code",
   "execution_count": 10,
   "metadata": {},
   "outputs": [],
   "source": [
    "import os, shutil\n",
    "DATADIR='data/txtcls'\n",
    "shutil.rmtree(DATADIR, ignore_errors=True)\n",
    "os.makedirs(DATADIR)\n",
    "traindf.to_csv( os.path.join(DATADIR,'train.tsv'), header=False, index=False, encoding='utf-8', sep='\\t')\n",
    "evaldf.to_csv( os.path.join(DATADIR,'eval.tsv'), header=False, index=False, encoding='utf-8', sep='\\t')"
   ]
  },
  {
   "cell_type": "code",
   "execution_count": 11,
   "metadata": {},
   "outputs": [
    {
     "name": "stdout",
     "output_type": "stream",
     "text": [
      "github\tthis guy just found out how to bypass adblocker\r\n",
      "github\tshow hn  dodo   command line task management for developers\r\n",
      "github\tshow hn  webservicemock   mock out external calls for local development\r\n"
     ]
    }
   ],
   "source": [
    "!head -3 data/txtcls/train.tsv"
   ]
  },
  {
   "cell_type": "code",
   "execution_count": 12,
   "metadata": {},
   "outputs": [
    {
     "name": "stdout",
     "output_type": "stream",
     "text": [
      "  24041 data/txtcls/eval.tsv\r\n",
      "  72162 data/txtcls/train.tsv\r\n",
      "  96203 total\r\n"
     ]
    }
   ],
   "source": [
    "!wc -l data/txtcls/*.tsv"
   ]
  },
  {
   "cell_type": "markdown",
   "metadata": {},
   "source": [
    "### TensorFlow/Keras Code\n",
    "\n",
    "Please explore the code in this <a href=\"txtclsmodel/trainer\">directory</a>: `model.py` contains the TensorFlow model and `task.py` parses command line arguments and launches off the training job.\n",
    "\n",
    "There are some TODOs in the `model.py`, **make sure to complete the TODOs before proceeding!**"
   ]
  },
  {
   "cell_type": "markdown",
   "metadata": {},
   "source": [
    "### Run Locally\n",
    "Let's make sure the code compiles by running locally for a fraction of an epoch"
   ]
  },
  {
   "cell_type": "code",
   "execution_count": 13,
   "metadata": {},
   "outputs": [
    {
     "name": "stdout",
     "output_type": "stream",
     "text": [
      "Collecting google-cloud-storage\n",
      "  Downloading https://files.pythonhosted.org/packages/b6/e9/06d9bb394fddbc62bb9c645f5e1c927128930a249d0c6a7491c3f31a9ff4/google_cloud_storage-1.14.0-py2.py3-none-any.whl (60kB)\n",
      "Collecting google-api-core<2.0.0dev,>=1.6.0 (from google-cloud-storage)\n",
      "  Downloading https://files.pythonhosted.org/packages/8b/01/13758ff9b970008ccf9e0dcc3b86d0e01937d7485b9a2c6142c9c2bdb4da/google_api_core-1.7.0-py2.py3-none-any.whl (64kB)\n",
      "Collecting google-cloud-core<0.30dev,>=0.29.0 (from google-cloud-storage)\n",
      "  Downloading https://files.pythonhosted.org/packages/0c/f2/3c225e7a69cb27d283b68bff867722bd066bc1858611180197f711815ea5/google_cloud_core-0.29.1-py2.py3-none-any.whl\n",
      "Requirement already satisfied, skipping upgrade: google-resumable-media>=0.3.1 in /usr/local/envs/py3env/lib/python3.5/site-packages (from google-cloud-storage) (0.3.2)\n",
      "Requirement already satisfied, skipping upgrade: requests<3.0.0dev,>=2.18.0 in /usr/local/envs/py3env/lib/python3.5/site-packages (from google-api-core<2.0.0dev,>=1.6.0->google-cloud-storage) (2.18.4)\n",
      "Requirement already satisfied, skipping upgrade: googleapis-common-protos!=1.5.4,<2.0dev,>=1.5.3 in /usr/local/envs/py3env/lib/python3.5/site-packages (from google-api-core<2.0.0dev,>=1.6.0->google-cloud-storage) (1.5.5)\n",
      "Requirement already satisfied, skipping upgrade: protobuf>=3.4.0 in /usr/local/envs/py3env/lib/python3.5/site-packages (from google-api-core<2.0.0dev,>=1.6.0->google-cloud-storage) (3.6.1)\n",
      "Requirement already satisfied, skipping upgrade: google-auth<2.0dev,>=0.4.0 in /usr/local/envs/py3env/lib/python3.5/site-packages (from google-api-core<2.0.0dev,>=1.6.0->google-cloud-storage) (1.6.2)\n",
      "Requirement already satisfied, skipping upgrade: setuptools>=34.0.0 in /usr/local/envs/py3env/lib/python3.5/site-packages (from google-api-core<2.0.0dev,>=1.6.0->google-cloud-storage) (40.2.0)\n",
      "Requirement already satisfied, skipping upgrade: six>=1.10.0 in /usr/local/envs/py3env/lib/python3.5/site-packages (from google-api-core<2.0.0dev,>=1.6.0->google-cloud-storage) (1.10.0)\n",
      "Requirement already satisfied, skipping upgrade: pytz in /usr/local/envs/py3env/lib/python3.5/site-packages (from google-api-core<2.0.0dev,>=1.6.0->google-cloud-storage) (2018.4)\n",
      "Requirement already satisfied, skipping upgrade: chardet<3.1.0,>=3.0.2 in /usr/local/envs/py3env/lib/python3.5/site-packages (from requests<3.0.0dev,>=2.18.0->google-api-core<2.0.0dev,>=1.6.0->google-cloud-storage) (3.0.4)\n",
      "Requirement already satisfied, skipping upgrade: idna<2.7,>=2.5 in /usr/local/envs/py3env/lib/python3.5/site-packages (from requests<3.0.0dev,>=2.18.0->google-api-core<2.0.0dev,>=1.6.0->google-cloud-storage) (2.6)\n",
      "Requirement already satisfied, skipping upgrade: urllib3<1.23,>=1.21.1 in /usr/local/envs/py3env/lib/python3.5/site-packages (from requests<3.0.0dev,>=2.18.0->google-api-core<2.0.0dev,>=1.6.0->google-cloud-storage) (1.22)\n",
      "Requirement already satisfied, skipping upgrade: certifi>=2017.4.17 in /usr/local/envs/py3env/lib/python3.5/site-packages (from requests<3.0.0dev,>=2.18.0->google-api-core<2.0.0dev,>=1.6.0->google-cloud-storage) (2018.8.24)\n",
      "Requirement already satisfied, skipping upgrade: rsa>=3.1.4 in /usr/local/envs/py3env/lib/python3.5/site-packages (from google-auth<2.0dev,>=0.4.0->google-api-core<2.0.0dev,>=1.6.0->google-cloud-storage) (3.4.2)\n",
      "Requirement already satisfied, skipping upgrade: cachetools>=2.0.0 in /usr/local/envs/py3env/lib/python3.5/site-packages (from google-auth<2.0dev,>=0.4.0->google-api-core<2.0.0dev,>=1.6.0->google-cloud-storage) (2.1.0)\n",
      "Requirement already satisfied, skipping upgrade: pyasn1-modules>=0.2.1 in /usr/local/envs/py3env/lib/python3.5/site-packages (from google-auth<2.0dev,>=0.4.0->google-api-core<2.0.0dev,>=1.6.0->google-cloud-storage) (0.2.2)\n",
      "Requirement already satisfied, skipping upgrade: pyasn1>=0.1.3 in /usr/local/envs/py3env/lib/python3.5/site-packages (from rsa>=3.1.4->google-auth<2.0dev,>=0.4.0->google-api-core<2.0.0dev,>=1.6.0->google-cloud-storage) (0.4.4)\n",
      "Installing collected packages: google-api-core, google-cloud-core, google-cloud-storage\n",
      "  Found existing installation: google-api-core 0.1.4\n",
      "    Uninstalling google-api-core-0.1.4:\n",
      "      Successfully uninstalled google-api-core-0.1.4\n",
      "  Found existing installation: google-cloud-core 0.28.1\n",
      "    Uninstalling google-cloud-core-0.28.1:\n",
      "      Successfully uninstalled google-cloud-core-0.28.1\n",
      "Successfully installed google-api-core-1.7.0 google-cloud-core-0.29.1 google-cloud-storage-1.14.0\n"
     ]
    },
    {
     "name": "stderr",
     "output_type": "stream",
     "text": [
      "google-cloud-monitoring 0.28.0 has requirement google-api-core<0.2.0dev,>=0.1.1, but you'll have google-api-core 1.7.0 which is incompatible.\n",
      "google-cloud-monitoring 0.28.0 has requirement google-cloud-core<0.29dev,>=0.28.0, but you'll have google-cloud-core 0.29.1 which is incompatible.\n",
      "/usr/local/envs/py3env/lib/python3.5/site-packages/h5py/__init__.py:36: FutureWarning: Conversion of the second argument of issubdtype from `float` to `np.floating` is deprecated. In future, it will be treated as `np.float64 == np.dtype(float).type`.\n",
      "  from ._conv import register_converters as _register_converters\n",
      "INFO:tensorflow:TF_CONFIG environment variable: {'environment': 'cloud', 'job': {'args': ['--output_dir=/content/datalab/notebooks/training-data-analyst/courses/machine_learning/deepdive/09_sequence/labs/txtcls_trained', '--train_data_path=/content/datalab/notebooks/training-data-analyst/courses/machine_learning/deepdive/09_sequence/labs/data/txtcls/train.tsv', '--eval_data_path=/content/datalab/notebooks/training-data-analyst/courses/machine_learning/deepdive/09_sequence/labs/data/txtcls/eval.tsv', '--num_epochs=0.1'], 'job_name': 'trainer.task'}, 'task': {}, 'cluster': {}}\n",
      "INFO:tensorflow:Using the Keras model provided.\n",
      "INFO:tensorflow:Using config: {'_task_type': 'worker', '_log_step_count_steps': 100, '_keep_checkpoint_max': 5, '_train_distribute': None, '_session_config': None, '_service': None, '_global_id_in_cluster': 0, '_is_chief': True, '_num_worker_replicas': 1, '_master': '', '_model_dir': '/content/datalab/notebooks/training-data-analyst/courses/machine_learning/deepdive/09_sequence/labs/txtcls_trained', '_cluster_spec': <tensorflow.python.training.server_lib.ClusterSpec object at 0x7f0ccb6f6fd0>, '_tf_random_seed': None, '_num_ps_replicas': 0, '_save_checkpoints_secs': None, '_evaluation_master': '', '_task_id': 0, '_keep_checkpoint_every_n_hours': 10000, '_save_checkpoints_steps': 500, '_save_summary_steps': 100}\n",
      "2019-02-11 08:06:17.538889: I tensorflow/core/platform/cpu_feature_guard.cc:140] Your CPU supports instructions that this TensorFlow binary was not compiled to use: AVX2 FMA\n",
      "2019-02-11 08:06:18.321963: W tensorflow/core/framework/allocator.cc:101] Allocation of 16000000 exceeds 10% of system memory.\n",
      "2019-02-11 08:06:18.391119: W tensorflow/core/framework/allocator.cc:101] Allocation of 16000000 exceeds 10% of system memory.\n",
      "2019-02-11 08:06:19.199028: W tensorflow/core/framework/allocator.cc:101] Allocation of 16000000 exceeds 10% of system memory.\n",
      "2019-02-11 08:06:19.216548: W tensorflow/core/framework/allocator.cc:101] Allocation of 16000000 exceeds 10% of system memory.\n",
      "2019-02-11 08:06:19.258240: W tensorflow/core/framework/allocator.cc:101] Allocation of 16000000 exceeds 10% of system memory.\n",
      "2019-02-11 08:06:19.271178: W tensorflow/core/framework/allocator.cc:101] Allocation of 16000000 exceeds 10% of system memory.\n",
      "2019-02-11 08:06:19.295469: W tensorflow/core/framework/allocator.cc:101] Allocation of 16000000 exceeds 10% of system memory.\n",
      "2019-02-11 08:06:19.309065: W tensorflow/core/framework/allocator.cc:101] Allocation of 16000000 exceeds 10% of system memory.\n",
      "2019-02-11 08:06:19.346486: W tensorflow/core/framework/allocator.cc:101] Allocation of 16000000 exceeds 10% of system memory.\n",
      "2019-02-11 08:06:19.360110: W tensorflow/core/framework/allocator.cc:101] Allocation of 16000000 exceeds 10% of system memory.\n",
      "2019-02-11 08:06:19.379006: W tensorflow/core/framework/allocator.cc:101] Allocation of 16000000 exceeds 10% of system memory.\n",
      "INFO:tensorflow:Running training and evaluation locally (non-distributed).\n",
      "INFO:tensorflow:Start train and evaluate loop. The evaluate will happen after 10 secs (eval_spec.throttle_secs) or training is finished.\n",
      "INFO:tensorflow:Calling model_fn.\n",
      "INFO:tensorflow:Done calling model_fn.\n",
      "INFO:tensorflow:Create CheckpointSaverHook.\n",
      "INFO:tensorflow:Graph was finalized.\n",
      "INFO:tensorflow:Restoring parameters from /content/datalab/notebooks/training-data-analyst/courses/machine_learning/deepdive/09_sequence/labs/txtcls_trained/keras_model.ckpt\n",
      "2019-02-11 08:06:22.797338: W tensorflow/core/framework/allocator.cc:101] Allocation of 16000000 exceeds 10% of system memory.\n",
      "2019-02-11 08:06:22.810859: W tensorflow/core/framework/allocator.cc:101] Allocation of 16000000 exceeds 10% of system memory.\n",
      "2019-02-11 08:06:22.825353: W tensorflow/core/framework/allocator.cc:101] Allocation of 16000000 exceeds 10% of system memory.\n",
      "2019-02-11 08:06:22.850372: W tensorflow/core/framework/allocator.cc:101] Allocation of 16000000 exceeds 10% of system memory.\n",
      "2019-02-11 08:06:22.864412: W tensorflow/core/framework/allocator.cc:101] Allocation of 16000000 exceeds 10% of system memory.\n",
      "2019-02-11 08:06:22.876874: W tensorflow/core/framework/allocator.cc:101] Allocation of 16000000 exceeds 10% of system memory.\n",
      "INFO:tensorflow:Running local_init_op.\n",
      "INFO:tensorflow:Done running local_init_op.\n",
      "2019-02-11 08:06:24.058929: W tensorflow/core/framework/allocator.cc:101] Allocation of 16000000 exceeds 10% of system memory.\n",
      "2019-02-11 08:06:24.086901: W tensorflow/core/framework/allocator.cc:101] Allocation of 16000000 exceeds 10% of system memory.\n",
      "2019-02-11 08:06:24.513523: W tensorflow/core/framework/allocator.cc:101] Allocation of 13200000 exceeds 10% of system memory.\n",
      "2019-02-11 08:06:24.621578: W tensorflow/core/framework/allocator.cc:101] Allocation of 16000000 exceeds 10% of system memory.\n",
      "2019-02-11 08:06:24.633776: W tensorflow/core/framework/allocator.cc:101] Allocation of 16000000 exceeds 10% of system memory.\n",
      "2019-02-11 08:06:24.662635: W tensorflow/core/framework/allocator.cc:101] Allocation of 16000000 exceeds 10% of system memory.\n",
      "INFO:tensorflow:Saving checkpoints for 1 into /content/datalab/notebooks/training-data-analyst/courses/machine_learning/deepdive/09_sequence/labs/txtcls_trained/model.ckpt.\n",
      "INFO:tensorflow:loss = 1.1498122, step = 1\n",
      "2019-02-11 08:06:25.027678: W tensorflow/core/framework/allocator.cc:101] Allocation of 16000000 exceeds 10% of system memory.\n",
      "2019-02-11 08:06:25.038915: W tensorflow/core/framework/allocator.cc:101] Allocation of 16000000 exceeds 10% of system memory.\n",
      "2019-02-11 08:06:25.103182: W tensorflow/core/framework/allocator.cc:101] Allocation of 13200000 exceeds 10% of system memory.\n",
      "2019-02-11 08:06:25.175100: W tensorflow/core/framework/allocator.cc:101] Allocation of 16000000 exceeds 10% of system memory.\n",
      "2019-02-11 08:06:25.185164: W tensorflow/core/framework/allocator.cc:101] Allocation of 16000000 exceeds 10% of system memory.\n",
      "2019-02-11 08:06:25.272156: W tensorflow/core/framework/allocator.cc:101] Allocation of 16000000 exceeds 10% of system memory.\n",
      "2019-02-11 08:06:25.285918: W tensorflow/core/framework/allocator.cc:101] Allocation of 16000000 exceeds 10% of system memory.\n",
      "2019-02-11 08:06:25.339265: W tensorflow/core/framework/allocator.cc:101] Allocation of 13200000 exceeds 10% of system memory.\n",
      "2019-02-11 08:06:25.404379: W tensorflow/core/framework/allocator.cc:101] Allocation of 16000000 exceeds 10% of system memory.\n",
      "2019-02-11 08:06:25.414938: W tensorflow/core/framework/allocator.cc:101] Allocation of 16000000 exceeds 10% of system memory.\n",
      "2019-02-11 08:06:25.492845: W tensorflow/core/framework/allocator.cc:101] Allocation of 16000000 exceeds 10% of system memory.\n",
      "2019-02-11 08:06:25.503705: W tensorflow/core/framework/allocator.cc:101] Allocation of 16000000 exceeds 10% of system memory.\n",
      "2019-02-11 08:06:25.572897: W tensorflow/core/framework/allocator.cc:101] Allocation of 13200000 exceeds 10% of system memory.\n",
      "2019-02-11 08:06:25.648312: W tensorflow/core/framework/allocator.cc:101] Allocation of 16000000 exceeds 10% of system memory.\n",
      "2019-02-11 08:06:25.660207: W tensorflow/core/framework/allocator.cc:101] Allocation of 16000000 exceeds 10% of system memory.\n",
      "2019-02-11 08:06:25.739433: W tensorflow/core/framework/allocator.cc:101] Allocation of 16000000 exceeds 10% of system memory.\n",
      "2019-02-11 08:06:25.750335: W tensorflow/core/framework/allocator.cc:101] Allocation of 16000000 exceeds 10% of system memory.\n",
      "2019-02-11 08:06:25.803440: W tensorflow/core/framework/allocator.cc:101] Allocation of 13200000 exceeds 10% of system memory.\n",
      "2019-02-11 08:06:25.874675: W tensorflow/core/framework/allocator.cc:101] Allocation of 16000000 exceeds 10% of system memory.\n",
      "2019-02-11 08:06:25.886177: W tensorflow/core/framework/allocator.cc:101] Allocation of 16000000 exceeds 10% of system memory.\n",
      "2019-02-11 08:06:25.974123: W tensorflow/core/framework/allocator.cc:101] Allocation of 16000000 exceeds 10% of system memory.\n",
      "2019-02-11 08:06:25.986462: W tensorflow/core/framework/allocator.cc:101] Allocation of 16000000 exceeds 10% of system memory.\n",
      "2019-02-11 08:06:26.045236: W tensorflow/core/framework/allocator.cc:101] Allocation of 13200000 exceeds 10% of system memory.\n",
      "2019-02-11 08:06:26.112257: W tensorflow/core/framework/allocator.cc:101] Allocation of 16000000 exceeds 10% of system memory.\n",
      "2019-02-11 08:06:26.122918: W tensorflow/core/framework/allocator.cc:101] Allocation of 16000000 exceeds 10% of system memory.\n",
      "2019-02-11 08:06:26.204498: W tensorflow/core/framework/allocator.cc:101] Allocation of 16000000 exceeds 10% of system memory.\n",
      "2019-02-11 08:06:26.215957: W tensorflow/core/framework/allocator.cc:101] Allocation of 16000000 exceeds 10% of system memory.\n",
      "2019-02-11 08:06:26.269657: W tensorflow/core/framework/allocator.cc:101] Allocation of 13200000 exceeds 10% of system memory.\n",
      "2019-02-11 08:06:26.336519: W tensorflow/core/framework/allocator.cc:101] Allocation of 16000000 exceeds 10% of system memory.\n",
      "2019-02-11 08:06:26.347413: W tensorflow/core/framework/allocator.cc:101] Allocation of 16000000 exceeds 10% of system memory.\n",
      "2019-02-11 08:06:26.429016: W tensorflow/core/framework/allocator.cc:101] Allocation of 16000000 exceeds 10% of system memory.\n",
      "2019-02-11 08:06:26.441552: W tensorflow/core/framework/allocator.cc:101] Allocation of 16000000 exceeds 10% of system memory.\n",
      "2019-02-11 08:06:26.495154: W tensorflow/core/framework/allocator.cc:101] Allocation of 13200000 exceeds 10% of system memory.\n",
      "2019-02-11 08:06:26.572616: W tensorflow/core/framework/allocator.cc:101] Allocation of 16000000 exceeds 10% of system memory.\n",
      "2019-02-11 08:06:26.583195: W tensorflow/core/framework/allocator.cc:101] Allocation of 16000000 exceeds 10% of system memory.\n",
      "2019-02-11 08:06:26.670609: W tensorflow/core/framework/allocator.cc:101] Allocation of 16000000 exceeds 10% of system memory.\n",
      "2019-02-11 08:06:26.682117: W tensorflow/core/framework/allocator.cc:101] Allocation of 16000000 exceeds 10% of system memory.\n",
      "2019-02-11 08:06:26.736398: W tensorflow/core/framework/allocator.cc:101] Allocation of 13200000 exceeds 10% of system memory.\n",
      "2019-02-11 08:06:26.802624: W tensorflow/core/framework/allocator.cc:101] Allocation of 16000000 exceeds 10% of system memory.\n",
      "2019-02-11 08:06:26.813642: W tensorflow/core/framework/allocator.cc:101] Allocation of 16000000 exceeds 10% of system memory.\n",
      "2019-02-11 08:06:26.897276: W tensorflow/core/framework/allocator.cc:101] Allocation of 16000000 exceeds 10% of system memory.\n",
      "2019-02-11 08:06:26.909614: W tensorflow/core/framework/allocator.cc:101] Allocation of 16000000 exceeds 10% of system memory.\n",
      "2019-02-11 08:06:26.964555: W tensorflow/core/framework/allocator.cc:101] Allocation of 13200000 exceeds 10% of system memory.\n",
      "2019-02-11 08:06:27.040349: W tensorflow/core/framework/allocator.cc:101] Allocation of 16000000 exceeds 10% of system memory.\n",
      "2019-02-11 08:06:27.051669: W tensorflow/core/framework/allocator.cc:101] Allocation of 16000000 exceeds 10% of system memory.\n",
      "2019-02-11 08:06:27.137686: W tensorflow/core/framework/allocator.cc:101] Allocation of 16000000 exceeds 10% of system memory.\n",
      "2019-02-11 08:06:27.149301: W tensorflow/core/framework/allocator.cc:101] Allocation of 16000000 exceeds 10% of system memory.\n",
      "2019-02-11 08:06:27.206560: W tensorflow/core/framework/allocator.cc:101] Allocation of 13200000 exceeds 10% of system memory.\n",
      "2019-02-11 08:06:27.273715: W tensorflow/core/framework/allocator.cc:101] Allocation of 16000000 exceeds 10% of system memory.\n",
      "2019-02-11 08:06:27.284786: W tensorflow/core/framework/allocator.cc:101] Allocation of 16000000 exceeds 10% of system memory.\n",
      "2019-02-11 08:06:27.369502: W tensorflow/core/framework/allocator.cc:101] Allocation of 16000000 exceeds 10% of system memory.\n",
      "2019-02-11 08:06:27.381077: W tensorflow/core/framework/allocator.cc:101] Allocation of 16000000 exceeds 10% of system memory.\n",
      "2019-02-11 08:06:27.435174: W tensorflow/core/framework/allocator.cc:101] Allocation of 13200000 exceeds 10% of system memory.\n",
      "2019-02-11 08:06:27.500537: W tensorflow/core/framework/allocator.cc:101] Allocation of 16000000 exceeds 10% of system memory.\n",
      "2019-02-11 08:06:27.512009: W tensorflow/core/framework/allocator.cc:101] Allocation of 16000000 exceeds 10% of system memory.\n",
      "2019-02-11 08:06:27.619249: W tensorflow/core/framework/allocator.cc:101] Allocation of 16000000 exceeds 10% of system memory.\n",
      "2019-02-11 08:06:27.630665: W tensorflow/core/framework/allocator.cc:101] Allocation of 16000000 exceeds 10% of system memory.\n",
      "2019-02-11 08:06:27.684512: W tensorflow/core/framework/allocator.cc:101] Allocation of 13200000 exceeds 10% of system memory.\n",
      "2019-02-11 08:06:27.751019: W tensorflow/core/framework/allocator.cc:101] Allocation of 16000000 exceeds 10% of system memory.\n",
      "2019-02-11 08:06:27.761996: W tensorflow/core/framework/allocator.cc:101] Allocation of 16000000 exceeds 10% of system memory.\n",
      "2019-02-11 08:06:27.844247: W tensorflow/core/framework/allocator.cc:101] Allocation of 16000000 exceeds 10% of system memory.\n",
      "2019-02-11 08:06:27.856506: W tensorflow/core/framework/allocator.cc:101] Allocation of 16000000 exceeds 10% of system memory.\n",
      "2019-02-11 08:06:27.914130: W tensorflow/core/framework/allocator.cc:101] Allocation of 13200000 exceeds 10% of system memory.\n",
      "2019-02-11 08:06:27.986827: W tensorflow/core/framework/allocator.cc:101] Allocation of 16000000 exceeds 10% of system memory.\n",
      "2019-02-11 08:06:28.000150: W tensorflow/core/framework/allocator.cc:101] Allocation of 16000000 exceeds 10% of system memory.\n",
      "2019-02-11 08:06:28.082454: W tensorflow/core/framework/allocator.cc:101] Allocation of 16000000 exceeds 10% of system memory.\n",
      "2019-02-11 08:06:28.094000: W tensorflow/core/framework/allocator.cc:101] Allocation of 16000000 exceeds 10% of system memory.\n",
      "2019-02-11 08:06:28.149127: W tensorflow/core/framework/allocator.cc:101] Allocation of 13200000 exceeds 10% of system memory.\n",
      "2019-02-11 08:06:28.214540: W tensorflow/core/framework/allocator.cc:101] Allocation of 16000000 exceeds 10% of system memory.\n",
      "2019-02-11 08:06:28.224837: W tensorflow/core/framework/allocator.cc:101] Allocation of 16000000 exceeds 10% of system memory.\n",
      "2019-02-11 08:06:28.302160: W tensorflow/core/framework/allocator.cc:101] Allocation of 16000000 exceeds 10% of system memory.\n",
      "2019-02-11 08:06:28.313154: W tensorflow/core/framework/allocator.cc:101] Allocation of 16000000 exceeds 10% of system memory.\n",
      "2019-02-11 08:06:28.365179: W tensorflow/core/framework/allocator.cc:101] Allocation of 13200000 exceeds 10% of system memory.\n",
      "2019-02-11 08:06:28.430084: W tensorflow/core/framework/allocator.cc:101] Allocation of 16000000 exceeds 10% of system memory.\n",
      "2019-02-11 08:06:28.440772: W tensorflow/core/framework/allocator.cc:101] Allocation of 16000000 exceeds 10% of system memory.\n",
      "2019-02-11 08:06:28.516164: W tensorflow/core/framework/allocator.cc:101] Allocation of 16000000 exceeds 10% of system memory.\n",
      "2019-02-11 08:06:28.527137: W tensorflow/core/framework/allocator.cc:101] Allocation of 16000000 exceeds 10% of system memory.\n",
      "2019-02-11 08:06:28.602295: W tensorflow/core/framework/allocator.cc:101] Allocation of 13200000 exceeds 10% of system memory.\n",
      "2019-02-11 08:06:28.668358: W tensorflow/core/framework/allocator.cc:101] Allocation of 16000000 exceeds 10% of system memory.\n",
      "2019-02-11 08:06:28.678534: W tensorflow/core/framework/allocator.cc:101] Allocation of 16000000 exceeds 10% of system memory.\n",
      "2019-02-11 08:06:28.755949: W tensorflow/core/framework/allocator.cc:101] Allocation of 16000000 exceeds 10% of system memory.\n",
      "2019-02-11 08:06:28.766910: W tensorflow/core/framework/allocator.cc:101] Allocation of 16000000 exceeds 10% of system memory.\n",
      "2019-02-11 08:06:28.820389: W tensorflow/core/framework/allocator.cc:101] Allocation of 13200000 exceeds 10% of system memory.\n",
      "2019-02-11 08:06:28.887465: W tensorflow/core/framework/allocator.cc:101] Allocation of 16000000 exceeds 10% of system memory.\n",
      "2019-02-11 08:06:28.898026: W tensorflow/core/framework/allocator.cc:101] Allocation of 16000000 exceeds 10% of system memory.\n",
      "2019-02-11 08:06:28.979223: W tensorflow/core/framework/allocator.cc:101] Allocation of 16000000 exceeds 10% of system memory.\n",
      "2019-02-11 08:06:28.992974: W tensorflow/core/framework/allocator.cc:101] Allocation of 16000000 exceeds 10% of system memory.\n",
      "2019-02-11 08:06:29.052228: W tensorflow/core/framework/allocator.cc:101] Allocation of 13200000 exceeds 10% of system memory.\n",
      "2019-02-11 08:06:29.123697: W tensorflow/core/framework/allocator.cc:101] Allocation of 16000000 exceeds 10% of system memory.\n",
      "2019-02-11 08:06:29.134354: W tensorflow/core/framework/allocator.cc:101] Allocation of 16000000 exceeds 10% of system memory.\n",
      "2019-02-11 08:06:29.214872: W tensorflow/core/framework/allocator.cc:101] Allocation of 16000000 exceeds 10% of system memory.\n",
      "2019-02-11 08:06:29.226409: W tensorflow/core/framework/allocator.cc:101] Allocation of 16000000 exceeds 10% of system memory.\n",
      "2019-02-11 08:06:29.279706: W tensorflow/core/framework/allocator.cc:101] Allocation of 13200000 exceeds 10% of system memory.\n",
      "2019-02-11 08:06:29.344306: W tensorflow/core/framework/allocator.cc:101] Allocation of 16000000 exceeds 10% of system memory.\n",
      "2019-02-11 08:06:29.355418: W tensorflow/core/framework/allocator.cc:101] Allocation of 16000000 exceeds 10% of system memory.\n",
      "2019-02-11 08:06:29.435508: W tensorflow/core/framework/allocator.cc:101] Allocation of 16000000 exceeds 10% of system memory.\n",
      "2019-02-11 08:06:29.446462: W tensorflow/core/framework/allocator.cc:101] Allocation of 16000000 exceeds 10% of system memory.\n",
      "2019-02-11 08:06:29.499358: W tensorflow/core/framework/allocator.cc:101] Allocation of 13200000 exceeds 10% of system memory.\n",
      "2019-02-11 08:06:29.587959: W tensorflow/core/framework/allocator.cc:101] Allocation of 16000000 exceeds 10% of system memory.\n",
      "2019-02-11 08:06:29.602183: W tensorflow/core/framework/allocator.cc:101] Allocation of 16000000 exceeds 10% of system memory.\n",
      "2019-02-11 08:06:29.681497: W tensorflow/core/framework/allocator.cc:101] Allocation of 16000000 exceeds 10% of system memory.\n",
      "2019-02-11 08:06:29.692645: W tensorflow/core/framework/allocator.cc:101] Allocation of 16000000 exceeds 10% of system memory.\n",
      "2019-02-11 08:06:29.747303: W tensorflow/core/framework/allocator.cc:101] Allocation of 13200000 exceeds 10% of system memory.\n",
      "2019-02-11 08:06:29.814919: W tensorflow/core/framework/allocator.cc:101] Allocation of 16000000 exceeds 10% of system memory.\n",
      "2019-02-11 08:06:29.825810: W tensorflow/core/framework/allocator.cc:101] Allocation of 16000000 exceeds 10% of system memory.\n",
      "2019-02-11 08:06:29.907356: W tensorflow/core/framework/allocator.cc:101] Allocation of 16000000 exceeds 10% of system memory.\n",
      "2019-02-11 08:06:29.918562: W tensorflow/core/framework/allocator.cc:101] Allocation of 16000000 exceeds 10% of system memory.\n",
      "2019-02-11 08:06:29.978245: W tensorflow/core/framework/allocator.cc:101] Allocation of 13200000 exceeds 10% of system memory.\n",
      "2019-02-11 08:06:30.048095: W tensorflow/core/framework/allocator.cc:101] Allocation of 16000000 exceeds 10% of system memory.\n",
      "2019-02-11 08:06:30.058733: W tensorflow/core/framework/allocator.cc:101] Allocation of 16000000 exceeds 10% of system memory.\n",
      "2019-02-11 08:06:30.139736: W tensorflow/core/framework/allocator.cc:101] Allocation of 16000000 exceeds 10% of system memory.\n",
      "2019-02-11 08:06:30.150860: W tensorflow/core/framework/allocator.cc:101] Allocation of 16000000 exceeds 10% of system memory.\n",
      "2019-02-11 08:06:30.204743: W tensorflow/core/framework/allocator.cc:101] Allocation of 13200000 exceeds 10% of system memory.\n",
      "2019-02-11 08:06:30.268878: W tensorflow/core/framework/allocator.cc:101] Allocation of 16000000 exceeds 10% of system memory.\n",
      "2019-02-11 08:06:30.279740: W tensorflow/core/framework/allocator.cc:101] Allocation of 16000000 exceeds 10% of system memory.\n",
      "2019-02-11 08:06:30.359403: W tensorflow/core/framework/allocator.cc:101] Allocation of 16000000 exceeds 10% of system memory.\n",
      "2019-02-11 08:06:30.370431: W tensorflow/core/framework/allocator.cc:101] Allocation of 16000000 exceeds 10% of system memory.\n",
      "2019-02-11 08:06:30.423706: W tensorflow/core/framework/allocator.cc:101] Allocation of 13200000 exceeds 10% of system memory.\n",
      "2019-02-11 08:06:30.490075: W tensorflow/core/framework/allocator.cc:101] Allocation of 16000000 exceeds 10% of system memory.\n",
      "2019-02-11 08:06:30.500438: W tensorflow/core/framework/allocator.cc:101] Allocation of 16000000 exceeds 10% of system memory.\n",
      "2019-02-11 08:06:30.600398: W tensorflow/core/framework/allocator.cc:101] Allocation of 16000000 exceeds 10% of system memory.\n",
      "2019-02-11 08:06:30.612186: W tensorflow/core/framework/allocator.cc:101] Allocation of 16000000 exceeds 10% of system memory.\n",
      "2019-02-11 08:06:30.664022: W tensorflow/core/framework/allocator.cc:101] Allocation of 13200000 exceeds 10% of system memory.\n",
      "2019-02-11 08:06:30.728821: W tensorflow/core/framework/allocator.cc:101] Allocation of 16000000 exceeds 10% of system memory.\n",
      "2019-02-11 08:06:30.739373: W tensorflow/core/framework/allocator.cc:101] Allocation of 16000000 exceeds 10% of system memory.\n",
      "2019-02-11 08:06:30.820523: W tensorflow/core/framework/allocator.cc:101] Allocation of 16000000 exceeds 10% of system memory.\n",
      "2019-02-11 08:06:30.831817: W tensorflow/core/framework/allocator.cc:101] Allocation of 16000000 exceeds 10% of system memory.\n",
      "2019-02-11 08:06:30.887447: W tensorflow/core/framework/allocator.cc:101] Allocation of 13200000 exceeds 10% of system memory.\n",
      "2019-02-11 08:06:30.958130: W tensorflow/core/framework/allocator.cc:101] Allocation of 16000000 exceeds 10% of system memory.\n",
      "2019-02-11 08:06:30.968801: W tensorflow/core/framework/allocator.cc:101] Allocation of 16000000 exceeds 10% of system memory.\n",
      "2019-02-11 08:06:31.056591: W tensorflow/core/framework/allocator.cc:101] Allocation of 16000000 exceeds 10% of system memory.\n",
      "2019-02-11 08:06:31.067737: W tensorflow/core/framework/allocator.cc:101] Allocation of 16000000 exceeds 10% of system memory.\n",
      "2019-02-11 08:06:31.121261: W tensorflow/core/framework/allocator.cc:101] Allocation of 13200000 exceeds 10% of system memory.\n",
      "2019-02-11 08:06:31.185507: W tensorflow/core/framework/allocator.cc:101] Allocation of 16000000 exceeds 10% of system memory.\n",
      "2019-02-11 08:06:31.196583: W tensorflow/core/framework/allocator.cc:101] Allocation of 16000000 exceeds 10% of system memory.\n",
      "2019-02-11 08:06:31.273723: W tensorflow/core/framework/allocator.cc:101] Allocation of 16000000 exceeds 10% of system memory.\n",
      "2019-02-11 08:06:31.284701: W tensorflow/core/framework/allocator.cc:101] Allocation of 16000000 exceeds 10% of system memory.\n",
      "2019-02-11 08:06:31.336960: W tensorflow/core/framework/allocator.cc:101] Allocation of 13200000 exceeds 10% of system memory.\n",
      "2019-02-11 08:06:31.402255: W tensorflow/core/framework/allocator.cc:101] Allocation of 16000000 exceeds 10% of system memory.\n",
      "2019-02-11 08:06:31.412927: W tensorflow/core/framework/allocator.cc:101] Allocation of 16000000 exceeds 10% of system memory.\n",
      "2019-02-11 08:06:31.490368: W tensorflow/core/framework/allocator.cc:101] Allocation of 16000000 exceeds 10% of system memory.\n",
      "2019-02-11 08:06:31.501264: W tensorflow/core/framework/allocator.cc:101] Allocation of 16000000 exceeds 10% of system memory.\n",
      "2019-02-11 08:06:31.553618: W tensorflow/core/framework/allocator.cc:101] Allocation of 13200000 exceeds 10% of system memory.\n",
      "2019-02-11 08:06:31.644081: W tensorflow/core/framework/allocator.cc:101] Allocation of 16000000 exceeds 10% of system memory.\n",
      "2019-02-11 08:06:31.654530: W tensorflow/core/framework/allocator.cc:101] Allocation of 16000000 exceeds 10% of system memory.\n",
      "2019-02-11 08:06:31.734262: W tensorflow/core/framework/allocator.cc:101] Allocation of 16000000 exceeds 10% of system memory.\n",
      "2019-02-11 08:06:31.745254: W tensorflow/core/framework/allocator.cc:101] Allocation of 16000000 exceeds 10% of system memory.\n",
      "2019-02-11 08:06:31.799132: W tensorflow/core/framework/allocator.cc:101] Allocation of 13200000 exceeds 10% of system memory.\n",
      "2019-02-11 08:06:31.867992: W tensorflow/core/framework/allocator.cc:101] Allocation of 16000000 exceeds 10% of system memory.\n",
      "2019-02-11 08:06:31.878601: W tensorflow/core/framework/allocator.cc:101] Allocation of 16000000 exceeds 10% of system memory.\n",
      "2019-02-11 08:06:31.957308: W tensorflow/core/framework/allocator.cc:101] Allocation of 16000000 exceeds 10% of system memory.\n",
      "2019-02-11 08:06:31.968587: W tensorflow/core/framework/allocator.cc:101] Allocation of 16000000 exceeds 10% of system memory.\n",
      "2019-02-11 08:06:32.030269: W tensorflow/core/framework/allocator.cc:101] Allocation of 13200000 exceeds 10% of system memory.\n",
      "2019-02-11 08:06:32.093623: W tensorflow/core/framework/allocator.cc:101] Allocation of 16000000 exceeds 10% of system memory.\n",
      "2019-02-11 08:06:32.104579: W tensorflow/core/framework/allocator.cc:101] Allocation of 16000000 exceeds 10% of system memory.\n",
      "2019-02-11 08:06:32.183408: W tensorflow/core/framework/allocator.cc:101] Allocation of 16000000 exceeds 10% of system memory.\n",
      "2019-02-11 08:06:32.194311: W tensorflow/core/framework/allocator.cc:101] Allocation of 16000000 exceeds 10% of system memory.\n",
      "2019-02-11 08:06:32.246892: W tensorflow/core/framework/allocator.cc:101] Allocation of 13200000 exceeds 10% of system memory.\n",
      "2019-02-11 08:06:32.314133: W tensorflow/core/framework/allocator.cc:101] Allocation of 16000000 exceeds 10% of system memory.\n",
      "2019-02-11 08:06:32.324391: W tensorflow/core/framework/allocator.cc:101] Allocation of 16000000 exceeds 10% of system memory.\n",
      "2019-02-11 08:06:32.404664: W tensorflow/core/framework/allocator.cc:101] Allocation of 16000000 exceeds 10% of system memory.\n",
      "2019-02-11 08:06:32.415842: W tensorflow/core/framework/allocator.cc:101] Allocation of 16000000 exceeds 10% of system memory.\n",
      "2019-02-11 08:06:32.468558: W tensorflow/core/framework/allocator.cc:101] Allocation of 13200000 exceeds 10% of system memory.\n",
      "2019-02-11 08:06:32.534495: W tensorflow/core/framework/allocator.cc:101] Allocation of 16000000 exceeds 10% of system memory.\n",
      "2019-02-11 08:06:32.545061: W tensorflow/core/framework/allocator.cc:101] Allocation of 16000000 exceeds 10% of system memory.\n",
      "INFO:tensorflow:Saving checkpoints for 34 into /content/datalab/notebooks/training-data-analyst/courses/machine_learning/deepdive/09_sequence/labs/txtcls_trained/model.ckpt.\n",
      "INFO:tensorflow:Loss for final step: 1.1236457.\n",
      "INFO:tensorflow:Calling model_fn.\n",
      "INFO:tensorflow:Done calling model_fn.\n",
      "INFO:tensorflow:Starting evaluation at 2019-02-11-08:06:33\n",
      "INFO:tensorflow:Graph was finalized.\n",
      "INFO:tensorflow:Restoring parameters from /content/datalab/notebooks/training-data-analyst/courses/machine_learning/deepdive/09_sequence/labs/txtcls_trained/model.ckpt-34\n",
      "2019-02-11 08:06:33.310740: W tensorflow/core/framework/allocator.cc:101] Allocation of 16000000 exceeds 10% of system memory.\n",
      "2019-02-11 08:06:33.325964: W tensorflow/core/framework/allocator.cc:101] Allocation of 16000000 exceeds 10% of system memory.\n",
      "INFO:tensorflow:Running local_init_op.\n",
      "INFO:tensorflow:Done running local_init_op.\n",
      "INFO:tensorflow:Finished evaluation at 2019-02-11-08:06:39\n",
      "INFO:tensorflow:Saving dict for global step 34: acc = 0.32446808, global_step = 34, loss = 1.204991\n",
      "INFO:tensorflow:Calling model_fn.\n",
      "INFO:tensorflow:Done calling model_fn.\n",
      "INFO:tensorflow:Signatures INCLUDED in export for Classify: None\n",
      "INFO:tensorflow:Signatures INCLUDED in export for Regress: None\n",
      "INFO:tensorflow:Signatures INCLUDED in export for Predict: ['serving_default']\n",
      "INFO:tensorflow:Restoring parameters from /content/datalab/notebooks/training-data-analyst/courses/machine_learning/deepdive/09_sequence/labs/txtcls_trained/model.ckpt-34\n",
      "2019-02-11 08:06:39.300363: W tensorflow/core/framework/allocator.cc:101] Allocation of 16000000 exceeds 10% of system memory.\n",
      "2019-02-11 08:06:39.316025: W tensorflow/core/framework/allocator.cc:101] Allocation of 16000000 exceeds 10% of system memory.\n",
      "INFO:tensorflow:Assets added to graph.\n",
      "INFO:tensorflow:No assets to write.\n",
      "INFO:tensorflow:SavedModel written to: b\"/content/datalab/notebooks/training-data-analyst/courses/machine_learning/deepdive/09_sequence/labs/txtcls_trained/export/exporter/temp-b'1549872399'/saved_model.pb\"\n",
      "INFO:tensorflow:Calling model_fn.\n",
      "INFO:tensorflow:Done calling model_fn.\n",
      "INFO:tensorflow:Create CheckpointSaverHook.\n",
      "INFO:tensorflow:Graph was finalized.\n",
      "INFO:tensorflow:Restoring parameters from /content/datalab/notebooks/training-data-analyst/courses/machine_learning/deepdive/09_sequence/labs/txtcls_trained/model.ckpt-34\n",
      "2019-02-11 08:06:40.164822: W tensorflow/core/framework/allocator.cc:101] Allocation of 16000000 exceeds 10% of system memory.\n",
      "2019-02-11 08:06:40.180164: W tensorflow/core/framework/allocator.cc:101] Allocation of 16000000 exceeds 10% of system memory.\n",
      "2019-02-11 08:06:40.194953: W tensorflow/core/framework/allocator.cc:101] Allocation of 16000000 exceeds 10% of system memory.\n",
      "2019-02-11 08:06:40.209598: W tensorflow/core/framework/allocator.cc:101] Allocation of 16000000 exceeds 10% of system memory.\n",
      "2019-02-11 08:06:40.222875: W tensorflow/core/framework/allocator.cc:101] Allocation of 16000000 exceeds 10% of system memory.\n",
      "2019-02-11 08:06:40.235435: W tensorflow/core/framework/allocator.cc:101] Allocation of 16000000 exceeds 10% of system memory.\n",
      "INFO:tensorflow:Running local_init_op.\n",
      "INFO:tensorflow:Done running local_init_op.\n",
      "2019-02-11 08:06:41.140033: W tensorflow/core/framework/allocator.cc:101] Allocation of 16000000 exceeds 10% of system memory.\n",
      "2019-02-11 08:06:41.157674: W tensorflow/core/framework/allocator.cc:101] Allocation of 16000000 exceeds 10% of system memory.\n",
      "2019-02-11 08:06:41.224691: W tensorflow/core/framework/allocator.cc:101] Allocation of 13200000 exceeds 10% of system memory.\n",
      "2019-02-11 08:06:41.304973: W tensorflow/core/framework/allocator.cc:101] Allocation of 16000000 exceeds 10% of system memory.\n",
      "2019-02-11 08:06:41.318600: W tensorflow/core/framework/allocator.cc:101] Allocation of 16000000 exceeds 10% of system memory.\n",
      "2019-02-11 08:06:41.342336: W tensorflow/core/framework/allocator.cc:101] Allocation of 16000000 exceeds 10% of system memory.\n",
      "INFO:tensorflow:Saving checkpoints for 35 into /content/datalab/notebooks/training-data-analyst/courses/machine_learning/deepdive/09_sequence/labs/txtcls_trained/model.ckpt.\n",
      "INFO:tensorflow:loss = 1.1241633, step = 35\n",
      "2019-02-11 08:06:41.734812: W tensorflow/core/framework/allocator.cc:101] Allocation of 16000000 exceeds 10% of system memory.\n",
      "2019-02-11 08:06:41.751346: W tensorflow/core/framework/allocator.cc:101] Allocation of 16000000 exceeds 10% of system memory.\n",
      "2019-02-11 08:06:41.824373: W tensorflow/core/framework/allocator.cc:101] Allocation of 13200000 exceeds 10% of system memory.\n",
      "2019-02-11 08:06:41.896019: W tensorflow/core/framework/allocator.cc:101] Allocation of 16000000 exceeds 10% of system memory.\n",
      "2019-02-11 08:06:41.907363: W tensorflow/core/framework/allocator.cc:101] Allocation of 16000000 exceeds 10% of system memory.\n",
      "2019-02-11 08:06:41.992444: W tensorflow/core/framework/allocator.cc:101] Allocation of 16000000 exceeds 10% of system memory.\n",
      "2019-02-11 08:06:42.003944: W tensorflow/core/framework/allocator.cc:101] Allocation of 16000000 exceeds 10% of system memory.\n",
      "2019-02-11 08:06:42.058697: W tensorflow/core/framework/allocator.cc:101] Allocation of 13200000 exceeds 10% of system memory.\n",
      "2019-02-11 08:06:42.125290: W tensorflow/core/framework/allocator.cc:101] Allocation of 16000000 exceeds 10% of system memory.\n",
      "2019-02-11 08:06:42.135685: W tensorflow/core/framework/allocator.cc:101] Allocation of 16000000 exceeds 10% of system memory.\n",
      "2019-02-11 08:06:42.212290: W tensorflow/core/framework/allocator.cc:101] Allocation of 16000000 exceeds 10% of system memory.\n",
      "2019-02-11 08:06:42.223101: W tensorflow/core/framework/allocator.cc:101] Allocation of 16000000 exceeds 10% of system memory.\n",
      "2019-02-11 08:06:42.277137: W tensorflow/core/framework/allocator.cc:101] Allocation of 13200000 exceeds 10% of system memory.\n",
      "2019-02-11 08:06:42.343341: W tensorflow/core/framework/allocator.cc:101] Allocation of 16000000 exceeds 10% of system memory.\n",
      "2019-02-11 08:06:42.353757: W tensorflow/core/framework/allocator.cc:101] Allocation of 16000000 exceeds 10% of system memory.\n",
      "2019-02-11 08:06:42.431065: W tensorflow/core/framework/allocator.cc:101] Allocation of 16000000 exceeds 10% of system memory.\n",
      "2019-02-11 08:06:42.442112: W tensorflow/core/framework/allocator.cc:101] Allocation of 16000000 exceeds 10% of system memory.\n",
      "2019-02-11 08:06:42.497360: W tensorflow/core/framework/allocator.cc:101] Allocation of 13200000 exceeds 10% of system memory.\n",
      "2019-02-11 08:06:42.581517: W tensorflow/core/framework/allocator.cc:101] Allocation of 16000000 exceeds 10% of system memory.\n",
      "2019-02-11 08:06:42.592003: W tensorflow/core/framework/allocator.cc:101] Allocation of 16000000 exceeds 10% of system memory.\n",
      "2019-02-11 08:06:42.673432: W tensorflow/core/framework/allocator.cc:101] Allocation of 16000000 exceeds 10% of system memory.\n",
      "2019-02-11 08:06:42.684174: W tensorflow/core/framework/allocator.cc:101] Allocation of 16000000 exceeds 10% of system memory.\n",
      "2019-02-11 08:06:42.736337: W tensorflow/core/framework/allocator.cc:101] Allocation of 13200000 exceeds 10% of system memory.\n",
      "2019-02-11 08:06:42.800620: W tensorflow/core/framework/allocator.cc:101] Allocation of 16000000 exceeds 10% of system memory.\n",
      "2019-02-11 08:06:42.811459: W tensorflow/core/framework/allocator.cc:101] Allocation of 16000000 exceeds 10% of system memory.\n",
      "2019-02-11 08:06:42.894198: W tensorflow/core/framework/allocator.cc:101] Allocation of 16000000 exceeds 10% of system memory.\n",
      "2019-02-11 08:06:42.905037: W tensorflow/core/framework/allocator.cc:101] Allocation of 16000000 exceeds 10% of system memory.\n",
      "2019-02-11 08:06:42.958869: W tensorflow/core/framework/allocator.cc:101] Allocation of 13200000 exceeds 10% of system memory.\n",
      "2019-02-11 08:06:43.032839: W tensorflow/core/framework/allocator.cc:101] Allocation of 16000000 exceeds 10% of system memory.\n",
      "2019-02-11 08:06:43.043243: W tensorflow/core/framework/allocator.cc:101] Allocation of 16000000 exceeds 10% of system memory.\n",
      "2019-02-11 08:06:43.121442: W tensorflow/core/framework/allocator.cc:101] Allocation of 16000000 exceeds 10% of system memory.\n",
      "2019-02-11 08:06:43.132165: W tensorflow/core/framework/allocator.cc:101] Allocation of 16000000 exceeds 10% of system memory.\n",
      "2019-02-11 08:06:43.184361: W tensorflow/core/framework/allocator.cc:101] Allocation of 13200000 exceeds 10% of system memory.\n",
      "2019-02-11 08:06:43.249832: W tensorflow/core/framework/allocator.cc:101] Allocation of 16000000 exceeds 10% of system memory.\n",
      "2019-02-11 08:06:43.260108: W tensorflow/core/framework/allocator.cc:101] Allocation of 16000000 exceeds 10% of system memory.\n",
      "2019-02-11 08:06:43.335009: W tensorflow/core/framework/allocator.cc:101] Allocation of 16000000 exceeds 10% of system memory.\n",
      "2019-02-11 08:06:43.345845: W tensorflow/core/framework/allocator.cc:101] Allocation of 16000000 exceeds 10% of system memory.\n",
      "2019-02-11 08:06:43.399200: W tensorflow/core/framework/allocator.cc:101] Allocation of 13200000 exceeds 10% of system memory.\n",
      "2019-02-11 08:06:43.464767: W tensorflow/core/framework/allocator.cc:101] Allocation of 16000000 exceeds 10% of system memory.\n",
      "2019-02-11 08:06:43.475355: W tensorflow/core/framework/allocator.cc:101] Allocation of 16000000 exceeds 10% of system memory.\n",
      "2019-02-11 08:06:43.549032: W tensorflow/core/framework/allocator.cc:101] Allocation of 16000000 exceeds 10% of system memory.\n",
      "2019-02-11 08:06:43.570352: W tensorflow/core/framework/allocator.cc:101] Allocation of 16000000 exceeds 10% of system memory.\n",
      "2019-02-11 08:06:43.626145: W tensorflow/core/framework/allocator.cc:101] Allocation of 13200000 exceeds 10% of system memory.\n",
      "2019-02-11 08:06:43.689771: W tensorflow/core/framework/allocator.cc:101] Allocation of 16000000 exceeds 10% of system memory.\n",
      "2019-02-11 08:06:43.699971: W tensorflow/core/framework/allocator.cc:101] Allocation of 16000000 exceeds 10% of system memory.\n",
      "2019-02-11 08:06:43.774590: W tensorflow/core/framework/allocator.cc:101] Allocation of 16000000 exceeds 10% of system memory.\n",
      "2019-02-11 08:06:43.785507: W tensorflow/core/framework/allocator.cc:101] Allocation of 16000000 exceeds 10% of system memory.\n",
      "2019-02-11 08:06:43.838423: W tensorflow/core/framework/allocator.cc:101] Allocation of 13200000 exceeds 10% of system memory.\n",
      "2019-02-11 08:06:43.904508: W tensorflow/core/framework/allocator.cc:101] Allocation of 16000000 exceeds 10% of system memory.\n",
      "2019-02-11 08:06:43.915758: W tensorflow/core/framework/allocator.cc:101] Allocation of 16000000 exceeds 10% of system memory.\n",
      "2019-02-11 08:06:44.004205: W tensorflow/core/framework/allocator.cc:101] Allocation of 16000000 exceeds 10% of system memory.\n",
      "2019-02-11 08:06:44.016541: W tensorflow/core/framework/allocator.cc:101] Allocation of 16000000 exceeds 10% of system memory.\n",
      "2019-02-11 08:06:44.069580: W tensorflow/core/framework/allocator.cc:101] Allocation of 13200000 exceeds 10% of system memory.\n",
      "2019-02-11 08:06:44.136987: W tensorflow/core/framework/allocator.cc:101] Allocation of 16000000 exceeds 10% of system memory.\n",
      "2019-02-11 08:06:44.148217: W tensorflow/core/framework/allocator.cc:101] Allocation of 16000000 exceeds 10% of system memory.\n",
      "2019-02-11 08:06:44.230001: W tensorflow/core/framework/allocator.cc:101] Allocation of 16000000 exceeds 10% of system memory.\n",
      "2019-02-11 08:06:44.241533: W tensorflow/core/framework/allocator.cc:101] Allocation of 16000000 exceeds 10% of system memory.\n",
      "2019-02-11 08:06:44.295728: W tensorflow/core/framework/allocator.cc:101] Allocation of 13200000 exceeds 10% of system memory.\n",
      "2019-02-11 08:06:44.363454: W tensorflow/core/framework/allocator.cc:101] Allocation of 16000000 exceeds 10% of system memory.\n",
      "2019-02-11 08:06:44.374920: W tensorflow/core/framework/allocator.cc:101] Allocation of 16000000 exceeds 10% of system memory.\n",
      "2019-02-11 08:06:44.456673: W tensorflow/core/framework/allocator.cc:101] Allocation of 16000000 exceeds 10% of system memory.\n",
      "2019-02-11 08:06:44.468363: W tensorflow/core/framework/allocator.cc:101] Allocation of 16000000 exceeds 10% of system memory.\n",
      "2019-02-11 08:06:44.521890: W tensorflow/core/framework/allocator.cc:101] Allocation of 13200000 exceeds 10% of system memory.\n",
      "2019-02-11 08:06:44.615927: W tensorflow/core/framework/allocator.cc:101] Allocation of 16000000 exceeds 10% of system memory.\n",
      "2019-02-11 08:06:44.627407: W tensorflow/core/framework/allocator.cc:101] Allocation of 16000000 exceeds 10% of system memory.\n",
      "2019-02-11 08:06:44.708642: W tensorflow/core/framework/allocator.cc:101] Allocation of 16000000 exceeds 10% of system memory.\n",
      "2019-02-11 08:06:44.720268: W tensorflow/core/framework/allocator.cc:101] Allocation of 16000000 exceeds 10% of system memory.\n",
      "2019-02-11 08:06:44.774961: W tensorflow/core/framework/allocator.cc:101] Allocation of 13200000 exceeds 10% of system memory.\n",
      "2019-02-11 08:06:44.839998: W tensorflow/core/framework/allocator.cc:101] Allocation of 16000000 exceeds 10% of system memory.\n",
      "2019-02-11 08:06:44.851134: W tensorflow/core/framework/allocator.cc:101] Allocation of 16000000 exceeds 10% of system memory.\n",
      "2019-02-11 08:06:44.935395: W tensorflow/core/framework/allocator.cc:101] Allocation of 16000000 exceeds 10% of system memory.\n",
      "2019-02-11 08:06:44.947036: W tensorflow/core/framework/allocator.cc:101] Allocation of 16000000 exceeds 10% of system memory.\n",
      "2019-02-11 08:06:45.007680: W tensorflow/core/framework/allocator.cc:101] Allocation of 13200000 exceeds 10% of system memory.\n",
      "2019-02-11 08:06:45.075620: W tensorflow/core/framework/allocator.cc:101] Allocation of 16000000 exceeds 10% of system memory.\n",
      "2019-02-11 08:06:45.086724: W tensorflow/core/framework/allocator.cc:101] Allocation of 16000000 exceeds 10% of system memory.\n",
      "2019-02-11 08:06:45.169656: W tensorflow/core/framework/allocator.cc:101] Allocation of 16000000 exceeds 10% of system memory.\n",
      "2019-02-11 08:06:45.181189: W tensorflow/core/framework/allocator.cc:101] Allocation of 16000000 exceeds 10% of system memory.\n",
      "2019-02-11 08:06:45.236490: W tensorflow/core/framework/allocator.cc:101] Allocation of 13200000 exceeds 10% of system memory.\n",
      "2019-02-11 08:06:45.304475: W tensorflow/core/framework/allocator.cc:101] Allocation of 16000000 exceeds 10% of system memory.\n",
      "2019-02-11 08:06:45.315523: W tensorflow/core/framework/allocator.cc:101] Allocation of 16000000 exceeds 10% of system memory.\n",
      "2019-02-11 08:06:45.412182: W tensorflow/core/framework/allocator.cc:101] Allocation of 16000000 exceeds 10% of system memory.\n",
      "2019-02-11 08:06:45.424023: W tensorflow/core/framework/allocator.cc:101] Allocation of 16000000 exceeds 10% of system memory.\n",
      "2019-02-11 08:06:45.477915: W tensorflow/core/framework/allocator.cc:101] Allocation of 13200000 exceeds 10% of system memory.\n",
      "2019-02-11 08:06:45.548031: W tensorflow/core/framework/allocator.cc:101] Allocation of 16000000 exceeds 10% of system memory.\n",
      "2019-02-11 08:06:45.569286: W tensorflow/core/framework/allocator.cc:101] Allocation of 16000000 exceeds 10% of system memory.\n",
      "2019-02-11 08:06:45.664181: W tensorflow/core/framework/allocator.cc:101] Allocation of 16000000 exceeds 10% of system memory.\n",
      "2019-02-11 08:06:45.675689: W tensorflow/core/framework/allocator.cc:101] Allocation of 16000000 exceeds 10% of system memory.\n",
      "2019-02-11 08:06:45.731201: W tensorflow/core/framework/allocator.cc:101] Allocation of 13200000 exceeds 10% of system memory.\n",
      "2019-02-11 08:06:45.796283: W tensorflow/core/framework/allocator.cc:101] Allocation of 16000000 exceeds 10% of system memory.\n",
      "2019-02-11 08:06:45.807375: W tensorflow/core/framework/allocator.cc:101] Allocation of 16000000 exceeds 10% of system memory.\n",
      "2019-02-11 08:06:45.889288: W tensorflow/core/framework/allocator.cc:101] Allocation of 16000000 exceeds 10% of system memory.\n",
      "2019-02-11 08:06:45.900971: W tensorflow/core/framework/allocator.cc:101] Allocation of 16000000 exceeds 10% of system memory.\n",
      "2019-02-11 08:06:45.955311: W tensorflow/core/framework/allocator.cc:101] Allocation of 13200000 exceeds 10% of system memory.\n",
      "2019-02-11 08:06:46.031507: W tensorflow/core/framework/allocator.cc:101] Allocation of 16000000 exceeds 10% of system memory.\n",
      "2019-02-11 08:06:46.041843: W tensorflow/core/framework/allocator.cc:101] Allocation of 16000000 exceeds 10% of system memory.\n",
      "2019-02-11 08:06:46.122352: W tensorflow/core/framework/allocator.cc:101] Allocation of 16000000 exceeds 10% of system memory.\n",
      "2019-02-11 08:06:46.133212: W tensorflow/core/framework/allocator.cc:101] Allocation of 16000000 exceeds 10% of system memory.\n",
      "2019-02-11 08:06:46.187465: W tensorflow/core/framework/allocator.cc:101] Allocation of 13200000 exceeds 10% of system memory.\n",
      "2019-02-11 08:06:46.252891: W tensorflow/core/framework/allocator.cc:101] Allocation of 16000000 exceeds 10% of system memory.\n",
      "2019-02-11 08:06:46.263290: W tensorflow/core/framework/allocator.cc:101] Allocation of 16000000 exceeds 10% of system memory.\n",
      "2019-02-11 08:06:46.342685: W tensorflow/core/framework/allocator.cc:101] Allocation of 16000000 exceeds 10% of system memory.\n",
      "2019-02-11 08:06:46.353446: W tensorflow/core/framework/allocator.cc:101] Allocation of 16000000 exceeds 10% of system memory.\n",
      "2019-02-11 08:06:46.408732: W tensorflow/core/framework/allocator.cc:101] Allocation of 13200000 exceeds 10% of system memory.\n",
      "2019-02-11 08:06:46.474783: W tensorflow/core/framework/allocator.cc:101] Allocation of 16000000 exceeds 10% of system memory.\n",
      "2019-02-11 08:06:46.485095: W tensorflow/core/framework/allocator.cc:101] Allocation of 16000000 exceeds 10% of system memory.\n",
      "2019-02-11 08:06:46.579136: W tensorflow/core/framework/allocator.cc:101] Allocation of 16000000 exceeds 10% of system memory.\n",
      "2019-02-11 08:06:46.598237: W tensorflow/core/framework/allocator.cc:101] Allocation of 16000000 exceeds 10% of system memory.\n",
      "2019-02-11 08:06:46.653102: W tensorflow/core/framework/allocator.cc:101] Allocation of 13200000 exceeds 10% of system memory.\n",
      "2019-02-11 08:06:46.716783: W tensorflow/core/framework/allocator.cc:101] Allocation of 16000000 exceeds 10% of system memory.\n",
      "2019-02-11 08:06:46.726991: W tensorflow/core/framework/allocator.cc:101] Allocation of 16000000 exceeds 10% of system memory.\n",
      "INFO:tensorflow:Saving checkpoints for 57 into /content/datalab/notebooks/training-data-analyst/courses/machine_learning/deepdive/09_sequence/labs/txtcls_trained/model.ckpt.\n",
      "INFO:tensorflow:Loss for final step: 1.093263.\n",
      "INFO:tensorflow:Calling model_fn.\n",
      "INFO:tensorflow:Done calling model_fn.\n",
      "INFO:tensorflow:Starting evaluation at 2019-02-11-08:06:47\n",
      "INFO:tensorflow:Graph was finalized.\n",
      "INFO:tensorflow:Restoring parameters from /content/datalab/notebooks/training-data-analyst/courses/machine_learning/deepdive/09_sequence/labs/txtcls_trained/model.ckpt-57\n",
      "2019-02-11 08:06:47.357698: W tensorflow/core/framework/allocator.cc:101] Allocation of 16000000 exceeds 10% of system memory.\n",
      "2019-02-11 08:06:47.371751: W tensorflow/core/framework/allocator.cc:101] Allocation of 16000000 exceeds 10% of system memory.\n",
      "INFO:tensorflow:Running local_init_op.\n",
      "INFO:tensorflow:Done running local_init_op.\n",
      "INFO:tensorflow:Finished evaluation at 2019-02-11-08:06:52\n",
      "INFO:tensorflow:Saving dict for global step 57: acc = 0.32446808, global_step = 57, loss = 1.1405555\n",
      "INFO:tensorflow:Calling model_fn.\n",
      "INFO:tensorflow:Done calling model_fn.\n",
      "INFO:tensorflow:Signatures INCLUDED in export for Classify: None\n",
      "INFO:tensorflow:Signatures INCLUDED in export for Regress: None\n",
      "INFO:tensorflow:Signatures INCLUDED in export for Predict: ['serving_default']\n",
      "INFO:tensorflow:Restoring parameters from /content/datalab/notebooks/training-data-analyst/courses/machine_learning/deepdive/09_sequence/labs/txtcls_trained/model.ckpt-57\n",
      "2019-02-11 08:06:53.008401: W tensorflow/core/framework/allocator.cc:101] Allocation of 16000000 exceeds 10% of system memory.\n",
      "2019-02-11 08:06:53.025386: W tensorflow/core/framework/allocator.cc:101] Allocation of 16000000 exceeds 10% of system memory.\n",
      "INFO:tensorflow:Assets added to graph.\n",
      "INFO:tensorflow:No assets to write.\n",
      "INFO:tensorflow:SavedModel written to: b\"/content/datalab/notebooks/training-data-analyst/courses/machine_learning/deepdive/09_sequence/labs/txtcls_trained/export/exporter/temp-b'1549872412'/saved_model.pb\"\n"
     ]
    }
   ],
   "source": [
    "%%bash\n",
    "## Make sure we have the latest version of Google Cloud Storage package\n",
    "pip install --upgrade google-cloud-storage\n",
    "rm -rf txtcls_trained\n",
    "gcloud ml-engine local train \\\n",
    "   --module-name=trainer.task \\\n",
    "   --package-path=${PWD}/txtclsmodel/trainer \\\n",
    "   -- \\\n",
    "   --output_dir=${PWD}/txtcls_trained \\\n",
    "   --train_data_path=${PWD}/data/txtcls/train.tsv \\\n",
    "   --eval_data_path=${PWD}/data/txtcls/eval.tsv \\\n",
    "   --num_epochs=0.1"
   ]
  },
  {
   "cell_type": "markdown",
   "metadata": {},
   "source": [
    "### Train on the Cloud\n",
    "\n",
    "Let's first copy our training data to the cloud:"
   ]
  },
  {
   "cell_type": "code",
   "execution_count": 14,
   "metadata": {},
   "outputs": [
    {
     "name": "stderr",
     "output_type": "stream",
     "text": [
      "Copying file://data/txtcls/eval.tsv [Content-Type=text/tab-separated-values]...\n",
      "/ [0 files][    0.0 B/  1.4 MiB]                                                \r",
      "/ [1 files][  1.4 MiB/  1.4 MiB]                                                \r",
      "Copying file://data/txtcls/train.tsv [Content-Type=text/tab-separated-values]...\n",
      "/ [1 files][  1.4 MiB/  5.4 MiB]                                                \r",
      "/ [2 files][  5.4 MiB/  5.4 MiB]                                                \r",
      "-\r\n",
      "Operation completed over 2 objects/5.4 MiB.                                      \n"
     ]
    }
   ],
   "source": [
    "%%bash\n",
    "gsutil cp data/txtcls/*.tsv gs://${BUCKET}/txtcls/"
   ]
  },
  {
   "cell_type": "code",
   "execution_count": 15,
   "metadata": {},
   "outputs": [
    {
     "name": "stdout",
     "output_type": "stream",
     "text": [
      "jobId: txtcls_190211_080755\n",
      "state: QUEUED\n"
     ]
    },
    {
     "name": "stderr",
     "output_type": "stream",
     "text": [
      "CommandException: 1 files/objects could not be removed.\n",
      "Job [txtcls_190211_080755] submitted successfully.\n",
      "Your job is still active. You may view the status of your job with the command\n",
      "\n",
      "  $ gcloud ml-engine jobs describe txtcls_190211_080755\n",
      "\n",
      "or continue streaming the logs with the command\n",
      "\n",
      "  $ gcloud ml-engine jobs stream-logs txtcls_190211_080755\n"
     ]
    }
   ],
   "source": [
    "%%bash\n",
    "OUTDIR=gs://${BUCKET}/txtcls/trained_fromscratch\n",
    "JOBNAME=txtcls_$(date -u +%y%m%d_%H%M%S)\n",
    "gsutil -m rm -rf $OUTDIR\n",
    "gcloud ml-engine jobs submit training $JOBNAME \\\n",
    " --region=$REGION \\\n",
    " --module-name=trainer.task \\\n",
    " --package-path=${PWD}/txtclsmodel/trainer \\\n",
    " --job-dir=$OUTDIR \\\n",
    " --scale-tier=BASIC_GPU \\\n",
    " --runtime-version=$TFVERSION \\\n",
    " -- \\\n",
    " --output_dir=$OUTDIR \\\n",
    " --train_data_path=gs://${BUCKET}/txtcls/train.tsv \\\n",
    " --eval_data_path=gs://${BUCKET}/txtcls/eval.tsv \\\n",
    " --num_epochs=5"
   ]
  },
  {
   "cell_type": "markdown",
   "metadata": {},
   "source": [
    "### Monitor training with TensorBoard\n",
    "If tensorboard appears blank try refreshing after 10 minutes"
   ]
  },
  {
   "cell_type": "code",
   "execution_count": 16,
   "metadata": {},
   "outputs": [
    {
     "data": {
      "text/html": [
       "<p>TensorBoard was started successfully with pid 4536. Click <a href=\"/_proxy/54547/\" target=\"_blank\">here</a> to access it.</p>"
      ]
     },
     "metadata": {},
     "output_type": "display_data"
    },
    {
     "data": {
      "text/plain": [
       "4536"
      ]
     },
     "execution_count": 16,
     "metadata": {},
     "output_type": "execute_result"
    }
   ],
   "source": [
    "from google.datalab.ml import TensorBoard\n",
    "TensorBoard().start('gs://{}/txtcls/trained_fromscratch'.format(BUCKET))"
   ]
  },
  {
   "cell_type": "code",
   "execution_count": null,
   "metadata": {
    "collapsed": true
   },
   "outputs": [],
   "source": [
    "for pid in TensorBoard.list()['pid']:\n",
    "  TensorBoard().stop(pid)\n",
    "  print 'Stopped TensorBoard with pid {}'.format(pid)"
   ]
  },
  {
   "cell_type": "markdown",
   "metadata": {},
   "source": [
    "### Results\n",
    "What accuracy did you get?"
   ]
  },
  {
   "cell_type": "markdown",
   "metadata": {},
   "source": [
    "### Deploy trained model \n",
    "\n",
    "Once your training completes you will see your exported models in the output directory specified in Google Cloud Storage. \n",
    "\n",
    "You should see one model for each training checkpoint (default is every 1000 steps)."
   ]
  },
  {
   "cell_type": "code",
   "execution_count": 17,
   "metadata": {},
   "outputs": [
    {
     "name": "stdout",
     "output_type": "stream",
     "text": [
      "gs://qwiklabs-gcp-19852a0d89ff40f2/txtcls/trained_fromscratch/export/exporter/\n",
      "gs://qwiklabs-gcp-19852a0d89ff40f2/txtcls/trained_fromscratch/export/exporter/1549872677/\n",
      "gs://qwiklabs-gcp-19852a0d89ff40f2/txtcls/trained_fromscratch/export/exporter/1549872701/\n",
      "gs://qwiklabs-gcp-19852a0d89ff40f2/txtcls/trained_fromscratch/export/exporter/1549872722/\n",
      "gs://qwiklabs-gcp-19852a0d89ff40f2/txtcls/trained_fromscratch/export/exporter/1549872744/\n",
      "gs://qwiklabs-gcp-19852a0d89ff40f2/txtcls/trained_fromscratch/export/exporter/1549872765/\n",
      "gs://qwiklabs-gcp-19852a0d89ff40f2/txtcls/trained_fromscratch/export/exporter/1549872787/\n",
      "gs://qwiklabs-gcp-19852a0d89ff40f2/txtcls/trained_fromscratch/export/exporter/1549872806/\n"
     ]
    }
   ],
   "source": [
    "%%bash\n",
    "gsutil ls gs://${BUCKET}/txtcls/trained_fromscratch/export/exporter/"
   ]
  },
  {
   "cell_type": "markdown",
   "metadata": {},
   "source": [
    "We will take the last export and deploy it as a REST API using Google Cloud Machine Learning Engine "
   ]
  },
  {
   "cell_type": "code",
   "execution_count": 18,
   "metadata": {},
   "outputs": [
    {
     "name": "stderr",
     "output_type": "stream",
     "text": [
      "Created ml engine model [projects/qwiklabs-gcp-19852a0d89ff40f2/models/txtcls].\n",
      "Creating version (this might take a few minutes)......\n",
      "........................................................................................................................................................................................................................................................................................................................................................done.\n"
     ]
    }
   ],
   "source": [
    "%%bash\n",
    "MODEL_NAME=\"txtcls\"\n",
    "MODEL_VERSION=\"v1_fromscratch\"\n",
    "MODEL_LOCATION=$(gsutil ls gs://${BUCKET}/txtcls/trained_fromscratch/export/exporter/ | tail -1)\n",
    "#gcloud ml-engine versions delete ${MODEL_VERSION} --model ${MODEL_NAME} --quiet\n",
    "#gcloud ml-engine models delete ${MODEL_NAME}\n",
    "gcloud ml-engine models create ${MODEL_NAME} --regions $REGION\n",
    "gcloud ml-engine versions create ${MODEL_VERSION} --model ${MODEL_NAME} --origin ${MODEL_LOCATION} --runtime-version=$TFVERSION"
   ]
  },
  {
   "cell_type": "markdown",
   "metadata": {},
   "source": [
    "### Get Predictions\n",
    "\n",
    "Here are some actual hacker news headlines gathered from July 2018. These titles were not part of the training or evaluation datasets."
   ]
  },
  {
   "cell_type": "code",
   "execution_count": 19,
   "metadata": {},
   "outputs": [],
   "source": [
    "techcrunch=[\n",
    "  'Uber shuts down self-driving trucks unit',\n",
    "  'Grover raises €37M Series A to offer latest tech products as a subscription',\n",
    "  'Tech companies can now bid on the Pentagon’s $10B cloud contract'\n",
    "]\n",
    "nytimes=[\n",
    "  '‘Lopping,’ ‘Tips’ and the ‘Z-List’: Bias Lawsuit Explores Harvard’s Admissions',\n",
    "  'A $3B Plan to Turn Hoover Dam into a Giant Battery',\n",
    "  'A MeToo Reckoning in China’s Workplace Amid Wave of Accusations'\n",
    "]\n",
    "github=[\n",
    "  'Show HN: Moon – 3kb JavaScript UI compiler',\n",
    "  'Show HN: Hello, a CLI tool for managing social media',\n",
    "  'Firefox Nightly added support for time-travel debugging'\n",
    "]"
   ]
  },
  {
   "cell_type": "markdown",
   "metadata": {},
   "source": [
    "Our serving input function expects the already tokenized representations of the headlines, so we do that pre-processing in the code before calling the REST API.\n",
    "\n",
    "Note: Ideally we would do these transformation in the tensorflow graph directly instead of relying on separate client pre-processing code (see: [training-serving skew](https://developers.google.com/machine-learning/guides/rules-of-ml/#training_serving_skew)), howevever the pre-processing functions we're using are python functions so cannot be embedded in a tensorflow graph. \n",
    "\n",
    "See the <a href=\"../text_classification_native.ipynb\">text_classification_native</a> notebook for a solution to this."
   ]
  },
  {
   "cell_type": "code",
   "execution_count": 20,
   "metadata": {},
   "outputs": [
    {
     "name": "stdout",
     "output_type": "stream",
     "text": [
      "\n",
      "Uber shuts down self-driving trucks unit\n",
      " github    : 0.0009476739214733243\n",
      " nytimes   : 0.12243450433015823\n",
      " techcrunch: 0.8766177892684937\n",
      "\n",
      "Grover raises €37M Series A to offer latest tech products as a subscription\n",
      " github    : 6.890385520819109e-06\n",
      " nytimes   : 0.23454943299293518\n",
      " techcrunch: 0.765443742275238\n",
      "\n",
      "Tech companies can now bid on the Pentagon’s $10B cloud contract\n",
      " github    : 0.0005729422555305064\n",
      " nytimes   : 0.4247109293937683\n",
      " techcrunch: 0.5747162103652954\n",
      "\n",
      "‘Lopping,’ ‘Tips’ and the ‘Z-List’: Bias Lawsuit Explores Harvard’s Admissions\n",
      " github    : 0.001444480731151998\n",
      " nytimes   : 0.9329503178596497\n",
      " techcrunch: 0.06560520082712173\n",
      "\n",
      "A $3B Plan to Turn Hoover Dam into a Giant Battery\n",
      " github    : 0.0017443171236664057\n",
      " nytimes   : 0.9869717955589294\n",
      " techcrunch: 0.011283837258815765\n",
      "\n",
      "A MeToo Reckoning in China’s Workplace Amid Wave of Accusations\n",
      " github    : 0.0012573718558996916\n",
      " nytimes   : 0.9931943416595459\n",
      " techcrunch: 0.005548208020627499\n",
      "\n",
      "Show HN: Moon – 3kb JavaScript UI compiler\n",
      " github    : 0.9999767541885376\n",
      " nytimes   : 4.318984281326266e-07\n",
      " techcrunch: 2.2746189642930403e-05\n",
      "\n",
      "Show HN: Hello, a CLI tool for managing social media\n",
      " github    : 0.9997090697288513\n",
      " nytimes   : 2.6015013645519502e-06\n",
      " techcrunch: 0.00028826770721934736\n",
      "\n",
      "Firefox Nightly added support for time-travel debugging\n",
      " github    : 0.5993548035621643\n",
      " nytimes   : 0.04892541095614433\n",
      " techcrunch: 0.35171979665756226\n"
     ]
    }
   ],
   "source": [
    "import pickle\n",
    "from tensorflow.python.keras.preprocessing import sequence\n",
    "from googleapiclient import discovery\n",
    "from oauth2client.client import GoogleCredentials\n",
    "import json\n",
    "\n",
    "requests = techcrunch+nytimes+github\n",
    "\n",
    "# Tokenize and pad sentences using same mapping used in the deployed model\n",
    "tokenizer = pickle.load( open( \"txtclsmodel/tokenizer.pickled\", \"rb\" ) )\n",
    "\n",
    "requests_tokenized = tokenizer.texts_to_sequences(requests)\n",
    "requests_tokenized = sequence.pad_sequences(requests_tokenized,maxlen=50)\n",
    "\n",
    "# JSON format the requests\n",
    "request_data = {'instances':requests_tokenized.tolist()}\n",
    "\n",
    "# Authenticate and call CMLE prediction API \n",
    "credentials = GoogleCredentials.get_application_default()\n",
    "api = discovery.build('ml', 'v1', credentials=credentials,\n",
    "            discoveryServiceUrl='https://storage.googleapis.com/cloud-ml/discovery/ml_v1_discovery.json')\n",
    "\n",
    "parent = 'projects/%s/models/%s' % (PROJECT, 'txtcls') #version is not specified so uses default\n",
    "response = api.projects().predict(body=request_data, name=parent).execute()\n",
    "\n",
    "# Format and print response\n",
    "for i in range(len(requests)):\n",
    "  print('\\n{}'.format(requests[i]))\n",
    "  print(' github    : {}'.format(response['predictions'][i]['dense_1'][0]))\n",
    "  print(' nytimes   : {}'.format(response['predictions'][i]['dense_1'][1]))\n",
    "  print(' techcrunch: {}'.format(response['predictions'][i]['dense_1'][2]))"
   ]
  },
  {
   "cell_type": "markdown",
   "metadata": {},
   "source": [
    "How many of your predictions were correct?"
   ]
  },
  {
   "cell_type": "markdown",
   "metadata": {},
   "source": [
    "### Rerun with Pre-trained Embedding\n",
    "\n",
    "In the previous model we trained our word embedding from scratch. Often times we get better performance and/or converge faster by leveraging a pre-trained embedding. This is a similar concept to transfer learning during image classification.\n",
    "\n",
    "We will use the popular GloVe embedding which is trained on Wikipedia as well as various news sources like the New York Times.\n",
    "\n",
    "You can read more about Glove at the project homepage: https://nlp.stanford.edu/projects/glove/\n",
    "\n",
    "You can download the embedding files directly from the stanford.edu site, but we've rehosted it in a GCS bucket for faster download speed."
   ]
  },
  {
   "cell_type": "code",
   "execution_count": null,
   "metadata": {
    "collapsed": true
   },
   "outputs": [],
   "source": [
    "!gsutil cp gs://cloud-training-demos/courses/machine_learning/deepdive/09_sequence/text_classification/glove.6B.200d.txt gs://$BUCKET/txtcls/"
   ]
  },
  {
   "cell_type": "markdown",
   "metadata": {},
   "source": [
    "Once the embedding is downloaded re-run your cloud training job with the added command line argument: \n",
    "\n",
    "` --embedding_path=gs://${BUCKET}/txtcls/glove.6B.200d.txt`\n",
    "\n",
    "Be sure to change your OUTDIR so it doesn't overwrite the previous model.\n",
    "\n",
    "While the final accuracy may not change significantly, you should notice the model is able to converge to it much more quickly because it no longer has to learn an embedding from scratch."
   ]
  },
  {
   "cell_type": "markdown",
   "metadata": {},
   "source": [
    "#### References\n",
    "- This implementation is based on code from: https://github.com/google/eng-edu/tree/master/ml/guides/text_classification.\n",
    "- See the full text classification tutorial at: https://developers.google.com/machine-learning/guides/text-classification/"
   ]
  },
  {
   "cell_type": "markdown",
   "metadata": {},
   "source": [
    "Copyright 2017 Google Inc. Licensed under the Apache License, Version 2.0 (the \"License\"); you may not use this file except in compliance with the License. You may obtain a copy of the License at http://www.apache.org/licenses/LICENSE-2.0 Unless required by applicable law or agreed to in writing, software distributed under the License is distributed on an \"AS IS\" BASIS, WITHOUT WARRANTIES OR CONDITIONS OF ANY KIND, either express or implied. See the License for the specific language governing permissions and limitations under the License"
   ]
  }
 ],
 "metadata": {
  "kernelspec": {
   "display_name": "Python 3",
   "language": "python",
   "name": "python3"
  },
  "language_info": {
   "codemirror_mode": {
    "name": "ipython",
    "version": 3
   },
   "file_extension": ".py",
   "mimetype": "text/x-python",
   "name": "python",
   "nbconvert_exporter": "python",
   "pygments_lexer": "ipython3",
   "version": "3.5.6"
  }
 },
 "nbformat": 4,
 "nbformat_minor": 2
}
