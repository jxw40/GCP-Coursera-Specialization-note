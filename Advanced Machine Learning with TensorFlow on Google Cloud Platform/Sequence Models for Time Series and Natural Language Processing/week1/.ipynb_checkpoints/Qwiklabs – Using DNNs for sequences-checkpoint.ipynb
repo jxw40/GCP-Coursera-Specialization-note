{
 "cells": [
  {
   "cell_type": "markdown",
   "metadata": {},
   "source": [
    "# [ML on GCP C9] Time Series Prediction with a DNN Model"
   ]
  },
  {
   "cell_type": "markdown",
   "metadata": {},
   "source": [
    "## Overview\n",
    "Duration is 1 min\n",
    "\n",
    "In this lab, you will define a DNN (Deep Neural Network) model to do time series prediction\n",
    "\n",
    "### What you learn\n",
    "In this lab, you will learn how to:\n",
    "\n",
    "* Create a DNN model for time series prediction\n",
    "\n",
    "* Train and serve the model on Cloud Machine Learning Engine\n",
    "\n"
   ]
  },
  {
   "cell_type": "markdown",
   "metadata": {},
   "source": [
    "## Time Series Prediction with a Sequence Model\n",
    "Duration is 15 min\n",
    "\n",
    "The model code is packaged as a separate python module. You will first complete the model code and then switch to the notebook to set some parameters and run the training job.\n",
    "\n",
    "### Step 1\n",
    "\n",
    "In Cloud Datalab, click on the Home icon, and then navigate to datalab > notebooks > training-data-analyst > courses > machine_learning > deepdive > 09_sequence > labs > sinemodel and open model.py.\n",
    "\n",
    "> Note: If the cloud shell used for running the datalab command is closed or interrupted, the connection to your Cloud Datalab VM will terminate. If that happens, you may be able to reconnect using the command ‘datalab connect mydatalabvm' in your new Cloud Shell. Once connected, try the above step again.\n",
    "\n",
    "### Step 2\n",
    "\n",
    "Scroll down to the function called dnn_model. Your task is to replace the TODO in the code, so that this function returns predictions for a DNN.\n",
    "\n",
    "If you need more help, you may take a look at the complete solution by navigating to : datalab > notebooks > training-data-analyst > courses > machine_learning > deepdive > 09_sequence > sinemodel and open model.py.\n",
    "\n",
    "### Step 3\n",
    "\n",
    "Now that you have defined your DNN model, you are ready to run the training job.\n",
    "\n",
    "In Cloud Datalab, click on the Home icon, and then navigate to datalab > notebooks > training-data-analyst > courses > machine_learning > deepdive > 09_sequence and open sinewaves.ipynb.\n",
    "\n",
    "### Step 4\n",
    "\n",
    "In Datalab, click on Clear | Clear all Cells.\n",
    "\n",
    "### Step 5\n",
    "\n",
    "In the first cell, make sure to replace the project id, bucket and region with your qwiklabs project id, your bucket, and bucket region respectively.\n",
    "\n",
    "Also, change the --model = dnn (linear is the default, be sure to change it).\n",
    "\n",
    "### Step 6\n",
    "\n",
    "Now read the narrative in the following cells and execute each cell in turn."
   ]
  },
  {
   "cell_type": "code",
   "execution_count": null,
   "metadata": {
    "collapsed": true
   },
   "outputs": [],
   "source": []
  }
 ],
 "metadata": {
  "kernelspec": {
   "display_name": "Python 3",
   "language": "python",
   "name": "python3"
  },
  "language_info": {
   "codemirror_mode": {
    "name": "ipython",
    "version": 3
   },
   "file_extension": ".py",
   "mimetype": "text/x-python",
   "name": "python",
   "nbconvert_exporter": "python",
   "pygments_lexer": "ipython3",
   "version": "3.5.4"
  }
 },
 "nbformat": 4,
 "nbformat_minor": 2
}
