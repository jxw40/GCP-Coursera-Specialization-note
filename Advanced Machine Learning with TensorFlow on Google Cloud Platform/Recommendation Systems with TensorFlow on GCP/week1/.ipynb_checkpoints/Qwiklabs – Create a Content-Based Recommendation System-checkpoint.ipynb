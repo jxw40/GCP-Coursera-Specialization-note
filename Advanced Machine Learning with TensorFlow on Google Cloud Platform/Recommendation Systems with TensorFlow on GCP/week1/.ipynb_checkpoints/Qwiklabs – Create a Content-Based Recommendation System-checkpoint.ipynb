{
 "cells": [
  {
   "cell_type": "markdown",
   "metadata": {},
   "source": [
    "# [ML on GCP C10] Content-Based Filtering by Hand"
   ]
  },
  {
   "cell_type": "markdown",
   "metadata": {},
   "source": [
    "## Overview\n",
    "This lab shows you how to do content-based filtering using low-level TensorFlow commands.\n",
    "\n",
    "## Objectives\n",
    "In this lab, you learn to perform the following tasks:\n",
    "\n",
    "* Create and compute a user feature matrix\n",
    "\n",
    "* Compute where each user lies in the feature embedding space\n",
    "\n",
    "* Create recommendations for new movies based on similarity measures between the user and movie feature vectors.\n"
   ]
  },
  {
   "cell_type": "markdown",
   "metadata": {},
   "source": [
    "## Introduction\n",
    "In this lab, you'll be providing movie recommendations for a set of users. Content-based filtering uses features of the items and users to generate recommendations. In this small example, we'll be using low-level TensorFlow operations and a very small set of movies and users to illustrate how this occurs in larger content based recommendation system."
   ]
  },
  {
   "cell_type": "markdown",
   "metadata": {},
   "source": [
    "## Open a Datalab notebook\n",
    "1. In the Datalab browser, navigate to datalab > notebooks > training-data-analyst > courses > machine_learning > deepdive > 10_recommend > labs and open content_based_by_hand.ipynb.\n",
    "\n",
    "2. Read the commentary, Click Clear | Clear all Cells, then run the Python snippets (Use Shift+Enter to run each piece of code) in the cell, step by step.\n",
    "\n"
   ]
  },
  {
   "cell_type": "code",
   "execution_count": 1,
   "metadata": {},
   "outputs": [
    {
     "name": "stdout",
     "output_type": "stream",
     "text": [
      "1.8.0\n"
     ]
    }
   ],
   "source": [
    "import numpy as np\n",
    "import tensorflow as tf\n",
    "\n",
    "tf.reset_default_graph()\n",
    "print(tf.__version__)"
   ]
  },
  {
   "cell_type": "code",
   "execution_count": 2,
   "metadata": {
    "collapsed": true
   },
   "outputs": [],
   "source": [
    "users = ['Ryan', 'Danielle',  'Vijay', 'Chris']\n",
    "movies = ['Star Wars', 'The Dark Knight', 'Shrek', 'The Incredibles', 'Bleu', 'Memento']\n",
    "features = ['Action', 'Sci-Fi', 'Comedy', 'Cartoon', 'Drama']\n",
    "\n",
    "num_users = len(users)\n",
    "num_movies = len(movies)\n",
    "num_feats = len(features)"
   ]
  },
  {
   "cell_type": "code",
   "execution_count": 26,
   "metadata": {
    "collapsed": true
   },
   "outputs": [],
   "source": [
    "# each row represents a user's rating for the different movies\n",
    "users_movies = [[4,  6,  8,  0, 0, 0],\n",
    "                [0,  0, 10,  0, 8, 3],\n",
    "                [0,  6,  0,  0, 3, 7],\n",
    "                [10, 9,  0,  5, 0, 2]]\n",
    "\n",
    "# features of the movies one-hot encoded\n",
    "# e.g. columns could represent ['Action', 'Sci-Fi', 'Comedy', 'Cartoon', 'Drama']\n",
    "movies_feats = [[1, 1, 0, 0, 1],\n",
    "                [1, 1, 0, 0, 0],\n",
    "                [0, 0, 1, 1, 0],\n",
    "                [1, 0, 1, 1, 0],\n",
    "                [0, 0, 0, 0, 1],\n",
    "                [1, 0, 0, 0, 1]]"
   ]
  },
  {
   "cell_type": "code",
   "execution_count": 28,
   "metadata": {
    "collapsed": true
   },
   "outputs": [],
   "source": [
    "users_movies = tf.constant(users_movies, dtype = tf.float32)\n",
    "movies_feats = tf.constant(movies_feats, dtype = tf.float32)"
   ]
  },
  {
   "cell_type": "code",
   "execution_count": 4,
   "metadata": {},
   "outputs": [],
   "source": [
    "users_feats = tf.constant([[0.25       ,0.25       ,0.2        ,0.2        ,0.1       ],\n",
    "                           [0.0882353  ,0.         ,0.29411766 ,0.29411766 ,0.32352942],\n",
    "                           [0.44827586 ,0.20689656 ,0.         ,0.         ,0.3448276 ],\n",
    "                           [0.3880597  ,0.2835821  ,0.07462686 ,0.07462686 ,0.17910448]])"
   ]
  },
  {
   "cell_type": "code",
   "execution_count": 24,
   "metadata": {},
   "outputs": [
    {
     "name": "stdout",
     "output_type": "stream",
     "text": [
      "TopKV2(values=array([0.32352942, 0.29411766, 0.29411766, 0.0882353 , 0.        ],\n",
      "      dtype=float32), indices=array([4, 2, 3, 0, 1], dtype=int32))\n",
      "[4 2 3 0 1]\n",
      "[b'Drama' b'Comedy' b'Cartoon' b'Action' b'Sci-Fi']\n"
     ]
    }
   ],
   "source": [
    "with tf.Session() as sess:\n",
    "    feats_top = tf.nn.top_k(users_feats[1], num_feats)\n",
    "    feats_ind = feats_top[1]\n",
    "    print(sess.run(feats_top_ind))\n",
    "    print(sess.run(feats_ind))\n",
    "    top_feats = tf.gather_nd(features, tf.expand_dims(feats_ind, axis = 1))\n",
    "    top_feats = sess.run(top_feats)\n",
    "    print(top_feats)"
   ]
  },
  {
   "cell_type": "code",
   "execution_count": null,
   "metadata": {
    "collapsed": true
   },
   "outputs": [],
   "source": [
    "def find_user_top_feats(user_index):\n",
    "    # returns a list of the rank ordered features of most importance for a given user\n",
    "    feats_ind = tf.nn.top_k(users_feats[user_index], num_feats)[1]\n",
    "    return tf.gather_nd(features, tf.expand_dims(feats_ind, axis = 1))"
   ]
  },
  {
   "cell_type": "code",
   "execution_count": 33,
   "metadata": {},
   "outputs": [
    {
     "name": "stdout",
     "output_type": "stream",
     "text": [
      "Tensor(\"strided_slice_26:0\", shape=(5,), dtype=float32)\n",
      "Tensor(\"strided_slice_27:0\", shape=(5,), dtype=float32)\n"
     ]
    },
    {
     "data": {
      "text/plain": [
       "<tf.Tensor 'Tensordot_4:0' shape=() dtype=float32>"
      ]
     },
     "execution_count": 33,
     "metadata": {},
     "output_type": "execute_result"
    }
   ],
   "source": [
    "print(users_feats[1])\n",
    "print(movies_feats[0])\n",
    "tf.tensordot(users_feats[1], movies_feats[0], axes = 1)"
   ]
  },
  {
   "cell_type": "code",
   "execution_count": 34,
   "metadata": {},
   "outputs": [
    {
     "name": "stdout",
     "output_type": "stream",
     "text": [
      "[[0.6        0.5        0.4        0.65       0.1        0.35      ]\n",
      " [0.4117647  0.0882353  0.5882353  0.67647064 0.32352942 0.4117647 ]\n",
      " [1.         0.6551724  0.         0.44827586 0.3448276  0.79310346]\n",
      " [0.8507463  0.6716418  0.14925373 0.53731346 0.17910448 0.5671642 ]]\n"
     ]
    }
   ],
   "source": [
    "all_users_ratings_t = tf.matmul(users_feats, tf.transpose(movies_feats))\n",
    "with tf.Session() as sess:\n",
    "    print(sess.run(all_users_ratings_t))"
   ]
  },
  {
   "cell_type": "code",
   "execution_count": 36,
   "metadata": {},
   "outputs": [],
   "source": [
    "all_users_ratings_new = tf.where(tf.equal(users_movies, tf.zeros_like(users_movies)),\n",
    "                                  all_users_ratings_t,\n",
    "                                  -np.inf*tf.ones_like(tf.cast(users_movies, tf.float32)))"
   ]
  },
  {
   "cell_type": "code",
   "execution_count": 38,
   "metadata": {},
   "outputs": [
    {
     "name": "stdout",
     "output_type": "stream",
     "text": [
      "[[      -inf       -inf       -inf 0.65       0.1        0.35      ]\n",
      " [0.4117647  0.0882353        -inf 0.67647064       -inf       -inf]\n",
      " [1.               -inf 0.         0.44827586       -inf       -inf]\n",
      " [      -inf       -inf 0.14925373       -inf 0.17910448       -inf]]\n"
     ]
    }
   ],
   "source": [
    "with tf.Session() as sess:\n",
    "    print(sess.run(all_users_ratings_new))"
   ]
  },
  {
   "cell_type": "code",
   "execution_count": 39,
   "metadata": {
    "collapsed": true
   },
   "outputs": [],
   "source": [
    "num_to_recommend = tf.reduce_sum(tf.cast(tf.equal(users_movies, \n",
    "                                                      tf.zeros_like(users_movies)), dtype = tf.float32), axis = 1)"
   ]
  },
  {
   "cell_type": "code",
   "execution_count": 40,
   "metadata": {},
   "outputs": [
    {
     "name": "stdout",
     "output_type": "stream",
     "text": [
      "[3. 3. 3. 2.]\n"
     ]
    }
   ],
   "source": [
    "with tf.Session() as sess:\n",
    "    print(sess.run(num_to_recommend))"
   ]
  },
  {
   "cell_type": "code",
   "execution_count": null,
   "metadata": {
    "collapsed": true
   },
   "outputs": [],
   "source": []
  }
 ],
 "metadata": {
  "kernelspec": {
   "display_name": "Python 3",
   "language": "python",
   "name": "python3"
  },
  "language_info": {
   "codemirror_mode": {
    "name": "ipython",
    "version": 3
   },
   "file_extension": ".py",
   "mimetype": "text/x-python",
   "name": "python",
   "nbconvert_exporter": "python",
   "pygments_lexer": "ipython3",
   "version": "3.5.4"
  }
 },
 "nbformat": 4,
 "nbformat_minor": 2
}
