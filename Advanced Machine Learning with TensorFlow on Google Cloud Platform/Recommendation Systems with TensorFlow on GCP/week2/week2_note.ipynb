{
 "cells": [
  {
   "cell_type": "markdown",
   "metadata": {},
   "source": [
    "## Neural Networks for Recommendation Systems"
   ]
  },
  {
   "cell_type": "markdown",
   "metadata": {},
   "source": [
    "### Hybrid Recommendation Systems\n",
    "\n",
    "![](images/real-world_hybrid.png)\n",
    "![](images/hybrid_quiz.png)"
   ]
  },
  {
   "cell_type": "markdown",
   "metadata": {
    "collapsed": true
   },
   "source": [
    "### Lab: Designing a Hybrid Recommendation System\n",
    "\n",
    "#### Designing hybrid recommendation system\n",
    "* Think of datasets we can use for each type:\n",
    "  * Content-based\n",
    "  * Collaborative Filtering\n",
    "  * Knowledge-based\n",
    "* Structured and unstructured\n",
    "* Explicit and implicit feedback\n",
    "\n",
    "#### Content-based\n",
    "Structured\n",
    "* Genre\n",
    "* Themes\n",
    "* Actors/directors involved\n",
    "* Professional ratings\n",
    "\n",
    "Unstructures\n",
    "* Movie summary text\n",
    "* Stills from movie\n",
    "* Movie trailer\n",
    "* Professional reviews"
   ]
  },
  {
   "cell_type": "markdown",
   "metadata": {},
   "source": [
    "### Lab: Designing a Hybrid Collaborative Filtering Recommendation System\n",
    "\n",
    "#### Collaborative filtering\n",
    "Structured\n",
    "* User ratings\n",
    "* User views\n",
    "* User wishlist/cart history\n",
    "* User purchase/return history\n",
    "\n",
    "Unstructured\n",
    "* User reviews\n",
    "* User-answered questions\n",
    "* User-submitted photos\n",
    "* User-submitted videos"
   ]
  },
  {
   "cell_type": "markdown",
   "metadata": {},
   "source": [
    "### Lab: Designing a Hybrid Knowledge-based Recommendation System\n",
    "\n",
    "#### Knowledge-based\n",
    "Structured\n",
    "* Demographic information\n",
    "* Location/country/lauguage\n",
    "* Genre preferences\n",
    "* Global filters\n",
    "\n",
    "Unstructured\n",
    "* User \"about me\" snippets\n",
    "\n",
    "#### Deep learning for product recommendations\n",
    "* No new concepts(it's just a structured data model)\n",
    "* There's a lot of data to bring together\n",
    "* Need multiple ML models(an ML pipeline)\n",
    "\n",
    "#### Quiz\n",
    "\n",
    "What is important to have when making a hybrid recommendation system?\n",
    "\n",
    "A. Data collection with recommendation in mind\n",
    "\n",
    "B. Many different datasets\n",
    "\n",
    "C. More than one recommendation model type\n",
    "\n",
    "D. An ML model pipeline\n",
    "\n",
    "**E. All of the above**"
   ]
  },
  {
   "cell_type": "markdown",
   "metadata": {},
   "source": [
    "## Incorporating Context"
   ]
  },
  {
   "cell_type": "markdown",
   "metadata": {},
   "source": [
    "### Context-Aware Recommendation Systems\n",
    "\n",
    "#### Adding context\n",
    "* An item is not just an item\n",
    "* A user is not just a user\n",
    "* The contxt it is experienced in changes perception\n",
    "* This affects sentiment\n",
    "\n",
    "#### Context component\n",
    "* Mood at the time?\n",
    "* Who else experiencing item with?\n",
    "* Where experiencing item?\n",
    "* When experiencing item?\n",
    "* Special occasion?\n",
    "\n",
    "#### Contxt-aware recommendation systems(CAS)\n",
    "Traditional CF RS:\n",
    "\n",
    "Users x Items -> Ratings\n",
    "\n",
    "Contextual CF RS:\n",
    "\n",
    "Users x Items x Contexts -> Ratings\n",
    "\n",
    "#### Quiz \n",
    "\n",
    "We learned that context can be important when thinking about user-item interactions. Which is NOT an example of context for a user-item interaction?\n",
    "\n",
    "A. Watching a movie at the theater\n",
    "\n",
    "B. Watching a movie with family\n",
    "\n",
    "C. Relaxing on the weekend with a movie\n",
    "\n",
    "**D. The length of a movie**\n",
    "\n",
    "E. Your mood while watching a movie\n",
    "\n",
    "F. Watching a movie late at night\n",
    "\n",
    "G. Watching a movie at a big watch party"
   ]
  },
  {
   "cell_type": "markdown",
   "metadata": {},
   "source": [
    "### Context-Aware Algorithms\n",
    "\n",
    "#### CARS algoithms\n",
    "* Contextual prefiltering\n",
    "* Contextual postfiltering\n",
    "* Contextual modeling\n",
    "\n",
    "### Contextual prefiltering\n",
    "![](images/contextual_prefiltering.png)\n",
    "\n",
    "#### Contextual prefiltering\n",
    "* Reduction-Based Approach, 2005\n",
    "* Exact and Generalized Prefiltering, 2009\n",
    "* **Item Splitting, 2009**\n",
    "* **User Splitting, 2011**\n",
    "* Dimension as Virtual Items, 2011\n",
    "* **User-Item Splitting, 2014**\n",
    "\n",
    "![](images/user-item_splitting.png)\n",
    "![](images/user-item_splitting2.png)"
   ]
  },
  {
   "cell_type": "markdown",
   "metadata": {},
   "source": [
    "### Contextual Postfiltering\n",
    "\n",
    "![](images/contextual_postfiltering.png)\n",
    "\n",
    "#### Contextual postfiltering\n",
    "* Weight, 2009\n",
    "* Filter, 2009\n",
    "\n",
    "Weight postfiltering method\n",
    "\n",
    "$ r_{ij}^{'} = r_{ij} * P $\n",
    "\n",
    "Filter postfiltering method\n",
    "\n",
    "$ P < P_{*} $"
   ]
  },
  {
   "cell_type": "markdown",
   "metadata": {},
   "source": [
    "### Modeling Using Context-Aware Algorithms\n",
    "\n",
    "### Contextual modeling\n",
    "![](images/contextual_modeling.png)\n",
    "\n",
    "#### Contextual modeling\n",
    "* Tensor Factorization, 2010\n",
    "* Factorization Machines, 2011\n",
    "* **Deviation-Based Context-Aware Matrix Factorization, 2011**\n",
    "* Deviation-Based Sparse Linear Method, 2014\n",
    "* Similarity-Based Context-Aware Matrix Factorization, 2015\n",
    "* Similarity-Based Sparse Linear Method, 2015\n",
    "\n",
    "Deviation-Based Context-Aware Matrix Factorization\n",
    "* How is user's rating deviated?\n",
    "* Contextual rating deviation(CRD)\n",
    "* Looks at the deviations of users across context dimensions\n",
    "\n",
    "#### Quiz \n",
    "\n",
    "Which context-aware recommendation system type produces non-contextual recommendations that it later adjusts via context into contextual recommendations?\n",
    "\n",
    "**Contextual postfiltering**"
   ]
  },
  {
   "cell_type": "markdown",
   "metadata": {},
   "source": [
    "### YouTube Recommendation System Case Study: Overview\n",
    "\n",
    "![](images/Youtube_two_nn.png)\n",
    "\n",
    "#### Quiz\n",
    "\n",
    "YouTube uses two neural networks connected in an ML pipeline. What metric is the candidate generation network trained to maximize? What metric is the ranking network trained to maximize?\n",
    "\n",
    "**Precision, Recall**\n"
   ]
  },
  {
   "cell_type": "markdown",
   "metadata": {},
   "source": [
    "### YouTube Recommendation System Case Study: Candidate Generation\n",
    "\n",
    "![](images/candidate_generation.png)\n",
    "![](images/candidate_generation2.png)\n",
    "![](images/candidate_generation3.png)\n",
    "\n",
    "#### Quiz\n",
    "\n",
    "During training of the candidate generation network, what output layer should we be using, and what should we be predicting with it?\n",
    "\n",
    "**Softmax, Probabilities**\n",
    "\n"
   ]
  },
  {
   "cell_type": "markdown",
   "metadata": {},
   "source": [
    "### YouTube Recommendation System Case Study: Ranking\n",
    "\n",
    "![](images/ranking.png)\n",
    "![](images/ranking2.png)\n",
    "![](images/ranking3.png)\n",
    "\n",
    "#### Quiz\n",
    "For the ranking neural network, why do we use a weighted logistic for training?\n",
    "\n",
    "A. The loss function is more numerically stable\n",
    "\n",
    "**B. Positive and negative impression weights differ**\n",
    "\n",
    "C. The probabilities need special formatting\n",
    "\n",
    "D. Reduces user noise better\n",
    "\n",
    "E. None of the above"
   ]
  },
  {
   "cell_type": "markdown",
   "metadata": {},
   "source": [
    "## Building an End-to-End Recommendation System\n",
    "\n",
    "### Introduction\n",
    "\n",
    "ML recommendation models need to **constantly evolve** to stay relevent\n",
    "\n",
    "Stale or incorrect recommendations can ruin the user experience\n",
    "\n",
    "**What is still missing:**\n",
    "* Automatically refresh data\n",
    "* Automatically retrain model\n",
    "* Automatically redeploy model\n",
    "\n",
    "Goal 1: Build the data engineering infrastructure to continually provide updated training data"
   ]
  },
  {
   "cell_type": "markdown",
   "metadata": {},
   "source": [
    "### Architecture Overview\n",
    "\n",
    "Goal 1: Setup automatic workflow to continually refresh ML data\n",
    "\n",
    "Goal 2: Automatically retrain and redeploy the recommendation model"
   ]
  },
  {
   "cell_type": "markdown",
   "metadata": {},
   "source": [
    "### Cloud Composer Overview\n",
    "\n",
    "Cloud Composer is managed Apache Airflow\n",
    "\n",
    "Use Apache Airflow DAGs to orchestrate GCP services\n",
    "\n",
    "**Cloud Composer workflow components**\n",
    "* Apache Airflow Environment\n",
    "* DAGs and Operators\n",
    "* Workflow Scheduling\n",
    "* Monitoring and Logging\n",
    "\n",
    "Cloud Composer creates managed Apache Airflow environments\n",
    "\n",
    "Each Airflow environment has a separate webserver and folder in GCS for pipeline DAGs\n",
    "\n",
    "The DAGs folder is simply a GCS bucket where you will load your pipeline code"
   ]
  },
  {
   "cell_type": "markdown",
   "metadata": {},
   "source": [
    "### Cloud Composer: DAGs\n",
    "\n",
    "Airflow workflows are written in Python\n",
    "\n",
    "The python file creates a DAG(Directed Acyclic Graph)\n",
    "\n",
    "Airflow uses **operators** in your DAG to orchestrate other GCP services\n",
    "\n",
    "BigQuery Operators are popular for **updating your ML training dataset**\n",
    "\n",
    "Cloud ML Engine operators can launch **training and deployment** jobs\n",
    "\n",
    "Apache Airflow is open source and cross-platform for hybrid pipeline"
   ]
  },
  {
   "cell_type": "markdown",
   "metadata": {},
   "source": [
    "### Cloud Composer: Operators for ML\n",
    "\n",
    "![](images/common_DAG_operators.png)\n",
    "\n",
    "BigQuery and GCS operators get us fresh training data\n",
    "\n",
    "Bad upstream data can ruin your workflows\n",
    "\n",
    "Build **health checks** directly into your workflow\n",
    "\n",
    "Use **BigQueryCheckOperator** to setup automatic SQL-based health checks\n",
    "\n",
    "Use **BigQueryIntervalCheckOperator** to compare values across time\n",
    "\n",
    "Use Cloud ML Engine operators to periodically submit new training jobs\n",
    "\n",
    "Use App Engine operators to periodically deploy and redeploy models\n",
    "\n",
    "Manage pipelines and dependencies as code"
   ]
  },
  {
   "cell_type": "markdown",
   "metadata": {},
   "source": [
    "### Cloud Composer: Scheduling\n",
    "\n",
    "Scheduling options: Periodic or event-driven\n",
    "\n",
    "Launch the Airflow webserver to interact with your DAGs\n",
    "\n",
    "![](images/event-driven_scheduling.png)\n",
    "![](images/schedule_interval.png)"
   ]
  },
  {
   "cell_type": "markdown",
   "metadata": {},
   "source": [
    "### Cloud Composer: Triggering Workflows with Cloud Functions\n",
    "\n",
    "#### Two types of workflow ETL patterns\n",
    "* Push (evert-triggered)\n",
    "* Pull (scheduled workflow)\n",
    "\n",
    "Use Cloud Functions to create an event-based **push architecture**"
   ]
  },
  {
   "cell_type": "markdown",
   "metadata": {
    "collapsed": true
   },
   "source": [
    "### Cloud Composer: Monitoring and Logging\n",
    "\n",
    "Monitor and alert based on pipeline status and auto retry in case of failure\n",
    "\n",
    "Try running your DAG manully before scheduling or triggering it"
   ]
  },
  {
   "cell_type": "code",
   "execution_count": null,
   "metadata": {
    "collapsed": true
   },
   "outputs": [],
   "source": []
  }
 ],
 "metadata": {
  "kernelspec": {
   "display_name": "Python 3",
   "language": "python",
   "name": "python3"
  },
  "language_info": {
   "codemirror_mode": {
    "name": "ipython",
    "version": 3
   },
   "file_extension": ".py",
   "mimetype": "text/x-python",
   "name": "python",
   "nbconvert_exporter": "python",
   "pygments_lexer": "ipython3",
   "version": "3.5.4"
  }
 },
 "nbformat": 4,
 "nbformat_minor": 2
}
