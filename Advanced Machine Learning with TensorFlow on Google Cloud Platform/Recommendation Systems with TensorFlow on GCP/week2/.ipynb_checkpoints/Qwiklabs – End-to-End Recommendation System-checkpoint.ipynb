{
 "cells": [
  {
   "cell_type": "markdown",
   "metadata": {},
   "source": [
    "# [ML on GCP C10] End to End Recommendation System"
   ]
  },
  {
   "cell_type": "markdown",
   "metadata": {},
   "source": [
    "## Overview\n",
    "This lab shows you how to create an end-to-end recommendation system solution with Cloud Composer.\n",
    "\n",
    "### Objectives\n",
    "In this lab, you learn to perform the following tasks:\n",
    "\n",
    "* Create and deploy your model to App Engine for serving\n",
    "\n",
    "* Create Cloud Composer and Apache Airflow environments to automatically retrain and redeploy your recommendation model"
   ]
  },
  {
   "cell_type": "markdown",
   "metadata": {},
   "source": [
    "# Introduction\n",
    "In this lab, you'll be producing an end-to-end recommendation system based on the previous labs. You'll be orchestrating the system, from data ingest, training, and operationalization with Cloud Composer."
   ]
  },
  {
   "cell_type": "markdown",
   "metadata": {},
   "source": [
    "## Create a Cloud Composer instance\n",
    "1. In the Navigation Menu under Big Data select Composer.\n",
    "\n",
    "2. Select Create.\n",
    "\n",
    "3. Name your instance mlcomposer.\n",
    "\n",
    "4. Select a Location nearest you.\n",
    "\n",
    "5. Leave the other options at their defaults.\n",
    "\n",
    "6. Click Create and continue with the remaining tasks.\n",
    "\n",
    "Cloud Composer runs on GKE and takes 15-20 minutes to initialize for the first time."
   ]
  },
  {
   "cell_type": "markdown",
   "metadata": {},
   "source": [
    "## Create a Google App Engine instance\n",
    "1. Open a second Cloud Shell tab (Datalab is the first)\n",
    "\n",
    "2. In Cloud Shell, type:\n",
    "```\n",
    "gcloud app regions list\n",
    "```\n",
    "\n",
    "3. Pick a region in a geographically closeby.\n",
    "\n",
    "4. In Cloud Shell, type:\n",
    "```\n",
    "gcloud app create --region <REGION>\n",
    "```\n",
    "\n",
    "5. In Cloud Shell, type:\n",
    "```\n",
    "gcloud app update --no-split-health-checks\n",
    "```\n",
    "\n",
    "Continue with the remaining tasks while your app engine instance is created."
   ]
  },
  {
   "cell_type": "markdown",
   "metadata": {},
   "source": [
    "## Checkout notebook into Cloud Datalab"
   ]
  },
  {
   "cell_type": "markdown",
   "metadata": {},
   "source": [
    "## Open a Datalab notebook\n",
    "1. In the Datalab browser, navigate to training-data-analyst > courses > machine_learning > deepdive > 10_recommend > labs > endtoend > endtoend.ipynb.\n",
    "\n",
    "2. Read the commentary, Click Clear | Clear all Cells, then run the Python snippets (Use Shift+Enter to run each piece of code) in the cell, step by step."
   ]
  },
  {
   "cell_type": "code",
   "execution_count": null,
   "metadata": {
    "collapsed": true
   },
   "outputs": [],
   "source": []
  }
 ],
 "metadata": {
  "kernelspec": {
   "display_name": "Python 3",
   "language": "python",
   "name": "python3"
  },
  "language_info": {
   "codemirror_mode": {
    "name": "ipython",
    "version": 3
   },
   "file_extension": ".py",
   "mimetype": "text/x-python",
   "name": "python",
   "nbconvert_exporter": "python",
   "pygments_lexer": "ipython3",
   "version": "3.5.4"
  }
 },
 "nbformat": 4,
 "nbformat_minor": 2
}
