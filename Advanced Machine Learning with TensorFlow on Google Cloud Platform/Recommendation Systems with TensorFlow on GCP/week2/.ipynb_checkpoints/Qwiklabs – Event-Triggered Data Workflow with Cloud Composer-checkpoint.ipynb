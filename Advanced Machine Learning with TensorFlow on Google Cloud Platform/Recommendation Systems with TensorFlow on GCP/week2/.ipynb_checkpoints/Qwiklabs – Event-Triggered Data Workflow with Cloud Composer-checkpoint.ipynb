{
 "cells": [
  {
   "cell_type": "markdown",
   "metadata": {},
   "source": [
    "# [ML on GCP C10] Event-Triggered Data Workflow with Cloud Composer"
   ]
  },
  {
   "cell_type": "markdown",
   "metadata": {},
   "source": [
    "## Overview\n",
    "This lab shows you how to create an event-triggered data workflow with Cloud Composer.\n",
    "\n",
    "### Objectives\n",
    "In this lab, you learn to perform the following tasks:\n",
    "\n",
    "* Create a Cloud Function that is triggered on file uploads to a GCS bucket\n",
    "\n",
    "* Create a Cloud Composer DAG that triggers a Cloud Dataflow job to process the newly uploaded data and export it to BigQuery"
   ]
  },
  {
   "cell_type": "markdown",
   "metadata": {},
   "source": [
    "## Introduction\n",
    "Your goal in this lab is to automatically ingest a CSV file into BigQuery once it’s uploaded to a GCS bucket. You will be building an automatically-triggered Cloud Composer workflow via a Cloud Function.\n"
   ]
  },
  {
   "cell_type": "markdown",
   "metadata": {},
   "source": [
    "## Create a Cloud Composer instance\n",
    "1. In the Navigation Menu under Big Data select Composer.\n",
    "\n",
    "2. Select Create.\n",
    "\n",
    "3. Name your instance mlcomposer.\n",
    "\n",
    "4. Select a Location nearest you.\n",
    "\n",
    "5. Leave the other options at their defaults.\n",
    "\n",
    "6. Click Create and continue with the remaining tasks.\n",
    "\n",
    "Cloud Composer runs on GKE and takes 15-20 minutes to initialize for the first time.\n"
   ]
  },
  {
   "cell_type": "markdown",
   "metadata": {},
   "source": [
    "## Checkout notebook into Cloud Datalab"
   ]
  },
  {
   "cell_type": "markdown",
   "metadata": {},
   "source": [
    "## Open a Datalab notebook\n",
    "1. In Cloud Datalab, click on the Home icon, and then navigate to datalab > notebooks > training-data-analyst > courses > machine_learning > deepdive > 10_recommend > labs > composer_gcf_trigger > composertriggered.ipynb.\n",
    "\n",
    "2. Read the commentary, click Clear | Clear all Cells, then run the Python snippets (Use Shift+Enter to run each piece of code) in the cell, step by step."
   ]
  },
  {
   "cell_type": "code",
   "execution_count": null,
   "metadata": {
    "collapsed": true
   },
   "outputs": [],
   "source": []
  }
 ],
 "metadata": {
  "kernelspec": {
   "display_name": "Python 3",
   "language": "python",
   "name": "python3"
  },
  "language_info": {
   "codemirror_mode": {
    "name": "ipython",
    "version": 3
   },
   "file_extension": ".py",
   "mimetype": "text/x-python",
   "name": "python",
   "nbconvert_exporter": "python",
   "pygments_lexer": "ipython3",
   "version": "3.5.4"
  }
 },
 "nbformat": 4,
 "nbformat_minor": 2
}
