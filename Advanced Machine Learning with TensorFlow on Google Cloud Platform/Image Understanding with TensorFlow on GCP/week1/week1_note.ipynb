{
 "cells": [
  {
   "cell_type": "markdown",
   "metadata": {},
   "source": [
    "## Image as Visual Data\n",
    "\n",
    "### Structured vs Unstructured Data\n",
    "\n",
    "Structured Data represented as vector\n",
    "\n",
    "Image Data is multi-dimensional\n",
    "\n",
    "Image Data has depth which represents color intensity\n",
    "\n",
    "A single high-res image can represent millions of weights to learn\n",
    "\n",
    "Traditional methods do not handle translations well\n",
    "\n",
    "Comparing pixel for pixel the image has significantly changed\n",
    "\n",
    "Comparing feature vectors with straight-line distance works well for structured data\n",
    "\n",
    "Comparing feature vectors with straight-line distance **does not work well** for unstructured data\n",
    "\n",
    "Humans can \"see\" the same image regardless of translation\n",
    "\n",
    "The ideal decision boundary of cat vs non-cat is defined by the **relationship between the pixels**"
   ]
  },
  {
   "cell_type": "code",
   "execution_count": null,
   "metadata": {
    "collapsed": true
   },
   "outputs": [],
   "source": []
  }
 ],
 "metadata": {
  "kernelspec": {
   "display_name": "Python 3",
   "language": "python",
   "name": "python3"
  },
  "language_info": {
   "codemirror_mode": {
    "name": "ipython",
    "version": 3
   },
   "file_extension": ".py",
   "mimetype": "text/x-python",
   "name": "python",
   "nbconvert_exporter": "python",
   "pygments_lexer": "ipython3",
   "version": "3.5.4"
  }
 },
 "nbformat": 4,
 "nbformat_minor": 2
}
