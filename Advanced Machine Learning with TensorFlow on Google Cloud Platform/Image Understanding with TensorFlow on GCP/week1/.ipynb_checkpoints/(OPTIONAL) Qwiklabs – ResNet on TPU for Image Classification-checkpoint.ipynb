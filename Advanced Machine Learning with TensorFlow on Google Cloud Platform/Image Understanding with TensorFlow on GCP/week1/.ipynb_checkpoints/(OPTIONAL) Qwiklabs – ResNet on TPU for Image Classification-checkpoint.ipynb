{
 "cells": [
  {
   "cell_type": "markdown",
   "metadata": {},
   "source": [
    "# ML on GCP - TPU ResNet Lab "
   ]
  },
  {
   "cell_type": "markdown",
   "metadata": {},
   "source": [
    "## Overview\n",
    "\n",
    "Duration is 1 min\n",
    "\n",
    "In this lab, you will define a cnn model on MNIST to do image classification\n",
    "\n",
    "### What you learn\n",
    "\n",
    "In this lab, you will learn how to:\n",
    "\n",
    "* Import the training dataset of MNIST handwritten images\n",
    "* Reshape and preprocess the image data\n",
    "* Setup your CNN with 10 classes\n",
    "* Create convolutional and pooling layers + softmax function\n",
    "* Define and create your EstimatorSpec in tensorflow to create your custom estimator\n",
    "* Define and run your train_and_evaluate\n"
   ]
  },
  {
   "cell_type": "markdown",
   "metadata": {},
   "source": [
    "## MNIST Image Classification\n",
    "\n",
    "Duration is 15 min\n",
    "\n",
    "This lab uses the same files as labs 2 and 3 (dnn, dnn_dropout models). The model code is packaged as a separate python module. You will first complete the model code and then switch to the notebook to set some parameters and run the training job.\n",
    "\n",
    "### Step 1\n",
    "\n",
    "In Cloud Datalab, click on the Home icon, and then navigate to\n",
    "\n",
    "training-data-analyst/quests/tpu/ and open [flowers_resnet.ipynb](https://github.com/GoogleCloudPlatform/training-data-analyst/blob/master/quests/tpu/flowers_resnet.ipynb)\n",
    "\n",
    "> Note: If the cloud shell used for running the datalab command is closed or interrupted, the connection to your Cloud Datalab VM will terminate. If that happens, you may be able to reconnect using the command ‘datalab connect mydatalabvm' in your new Cloud Shell. Once connected, try the above step again.\n",
    "\n",
    "### Step 2\n",
    "\n",
    "Now read the narrative in the following cells and execute each cell in turn."
   ]
  },
  {
   "cell_type": "code",
   "execution_count": null,
   "metadata": {
    "collapsed": true
   },
   "outputs": [],
   "source": []
  }
 ],
 "metadata": {
  "kernelspec": {
   "display_name": "Python 3",
   "language": "python",
   "name": "python3"
  },
  "language_info": {
   "codemirror_mode": {
    "name": "ipython",
    "version": 3
   },
   "file_extension": ".py",
   "mimetype": "text/x-python",
   "name": "python",
   "nbconvert_exporter": "python",
   "pygments_lexer": "ipython3",
   "version": "3.5.4"
  }
 },
 "nbformat": 4,
 "nbformat_minor": 2
}
