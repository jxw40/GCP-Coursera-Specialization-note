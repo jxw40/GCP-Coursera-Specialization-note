{
 "cells": [
  {
   "cell_type": "markdown",
   "metadata": {},
   "source": [
    "# Image Augmentation in TensorFlow"
   ]
  },
  {
   "cell_type": "markdown",
   "metadata": {},
   "source": [
    "## 1. Overview\n",
    "What you need\n",
    "You must have completed Lab 0 and have the following:\n",
    "\n",
    "Logged into GCP Console with your Qwiklabs generated account\n",
    "launched Datalab and cloned the training-data-analyst repo\n",
    "\n",
    "### What you learn\n",
    "In this lab, you do image classification from scratch on a flowers dataset using the Estimator API.\n",
    "\n"
   ]
  },
  {
   "cell_type": "markdown",
   "metadata": {},
   "source": [
    "## 2. Flowers Image Classification\n",
    "\n",
    "### Step 1\n",
    "In Cloud Datalab, click on the Home icon, and then navigate to notebooks/training-data-analyst/courses/machine_learning/deepdive/08_image/labs and open flowers_fromscratch.ipynb.\n",
    "\n",
    "Note: If the cloud shell used for running the datalab command is closed or interrupted, the connection to your Cloud Datalab VM will terminate. If that happens, you may be able to reconnect using the command ‘datalab connect mydatalabvm' in your new Cloud Shell. Once connected, try the above step again.\n",
    "\n",
    "### Step 2\n",
    "In Datalab, click on Clear | All Cells. Now read the narrative and execute each cell in turn."
   ]
  },
  {
   "cell_type": "code",
   "execution_count": null,
   "metadata": {
    "collapsed": true
   },
   "outputs": [],
   "source": []
  }
 ],
 "metadata": {
  "kernelspec": {
   "display_name": "Python 3",
   "language": "python",
   "name": "python3"
  },
  "language_info": {
   "codemirror_mode": {
    "name": "ipython",
    "version": 3
   },
   "file_extension": ".py",
   "mimetype": "text/x-python",
   "name": "python",
   "nbconvert_exporter": "python",
   "pygments_lexer": "ipython3",
   "version": "3.5.4"
  }
 },
 "nbformat": 4,
 "nbformat_minor": 2
}
