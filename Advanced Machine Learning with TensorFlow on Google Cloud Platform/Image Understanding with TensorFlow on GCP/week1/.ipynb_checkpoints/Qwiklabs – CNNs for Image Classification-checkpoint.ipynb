{
 "cells": [
  {
   "cell_type": "markdown",
   "metadata": {},
   "source": [
    "# [ML on GCP C8] Image Classification with a CNN Model"
   ]
  },
  {
   "cell_type": "markdown",
   "metadata": {},
   "source": [
    "## Overview\n",
    "Duration is 1 min\n",
    "\n",
    "In this lab, you will define a cnn model on MNIST to do image classification.\n",
    "\n",
    "### What you learn\n",
    "In this lab, you will learn how to:\n",
    "\n",
    "* Import the training dataset of MNIST handwritten images\n",
    "\n",
    "* Reshape and preprocess the image data\n",
    "\n",
    "* Setup your CNN with 10 classes\n",
    "\n",
    "* Create convolutional and pooling layers + softmax function\n",
    "\n",
    "* Define and create your EstimatorSpec in tensorflow to create your custom estimator\n",
    "\n",
    "* Define and run your train_and_evaluate"
   ]
  },
  {
   "cell_type": "markdown",
   "metadata": {},
   "source": [
    "## MNIST Image Classification\n",
    "Duration is 15 min\n",
    "\n",
    "This lab uses the same files as labs 2 and 3 (dnn, dnn_dropout models). The model code is packaged as a separate python module. You will first complete the model code and then switch to the notebook to set some parameters and run the training job.\n",
    "\n",
    "### Step 1\n",
    "\n",
    "In Cloud Datalab, click on the Home icon, and then navigate to datalab > notebooks > training-data-analyst > courses > machine_learning > deepdive > 08_image > labs > mnistmodel > trainer and open model.py.\n",
    "\n",
    "> Note: If the cloud shell used for running the datalab command is closed or interrupted, the connection to your Cloud Datalab VM will terminate. If that happens, you may be able to reconnect using the command ‘datalab connect mydatalabvm' in your new Cloud Shell. Once connected, try the above step again.\n",
    "\n",
    "### Step 2\n",
    "\n",
    "Scroll down to cnn_model where you have to replace the #TODO with code to define this dnn model.\n",
    "\n",
    "If you need more help, you may take a look at the complete solution by navigating to : datalab > notebooks > training-data-analyst > courses > machine_learning > deepdive > 08_image > mnistmodel > trainer and open model.py\n",
    "\n",
    "### Step 3\n",
    "\n",
    "Now that you have defined your cnn_model, you are ready to run the training job.\n",
    "\n",
    "In Cloud Datalab, click on the Home icon, and then navigate to datalab > notebooks > training-data-analyst > courses > machine_learning > deepdive > 08_image > labs and open mnist_models.ipynb.\n",
    "\n",
    "### Step 4\n",
    "\n",
    "In Datalab, click on Clear | Clear all Cells.\n",
    "\n",
    "### Step 5\n",
    "\n",
    "In the first cell, make sure to replace the project id, bucket and region with your qwiklabs project id, your bucket, and bucket region respectively. Also, change the MODEL_TYPE to cnn.\n",
    "\n",
    "### Step 6\n",
    "\n",
    "Now read the narrative in the following cells and execute each cell in turn."
   ]
  },
  {
   "cell_type": "markdown",
   "metadata": {},
   "source": [
    "Job Details\n",
    "\n",
    "2019-02-08 18:57:39.187 HKT\n",
    "master-replica-0\n",
    "Saving dict for global step 10000: accuracy = 0.993, global_step = 10000, loss = 0.028262507"
   ]
  },
  {
   "cell_type": "code",
   "execution_count": null,
   "metadata": {
    "collapsed": true
   },
   "outputs": [],
   "source": []
  }
 ],
 "metadata": {
  "kernelspec": {
   "display_name": "Python 3",
   "language": "python",
   "name": "python3"
  },
  "language_info": {
   "codemirror_mode": {
    "name": "ipython",
    "version": 3
   },
   "file_extension": ".py",
   "mimetype": "text/x-python",
   "name": "python",
   "nbconvert_exporter": "python",
   "pygments_lexer": "ipython3",
   "version": "3.5.4"
  }
 },
 "nbformat": 4,
 "nbformat_minor": 2
}
