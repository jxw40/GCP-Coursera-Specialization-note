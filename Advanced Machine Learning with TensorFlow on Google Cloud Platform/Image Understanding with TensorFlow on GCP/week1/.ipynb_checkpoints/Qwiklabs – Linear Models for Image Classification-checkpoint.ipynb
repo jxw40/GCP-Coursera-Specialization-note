{
 "cells": [
  {
   "cell_type": "markdown",
   "metadata": {},
   "source": [
    "# [ML on GCP C8] Image Classification with a Linear Model"
   ]
  },
  {
   "cell_type": "markdown",
   "metadata": {},
   "source": [
    "## Overview\n",
    "Duration is 1 min\n",
    "\n",
    "In this lab, you will define a simple linear image model on MNIST using the Estimator API to do image classification.\n",
    "\n",
    "### What you learn\n",
    "In this lab, you will learn how to:\n",
    "\n",
    "* Import the training dataset of MNIST handwritten images\n",
    "\n",
    "* Reshape and preprocess the image data\n",
    "\n",
    "* Setup your linear classifier model with 10 classes (one for each possible digit 0 through 9)\n",
    "\n",
    "* Define and create your EstimatorSpec in tensorflow to create your custom estimator\n",
    "\n",
    "* Define and run your train_and_evaluate function to train against the input dataset of 60,000 images and evaluate your model's performance\n"
   ]
  },
  {
   "cell_type": "markdown",
   "metadata": {},
   "source": [
    "## MNIST Image Classification using a linear model\n",
    "Duration is 15 min\n",
    "\n",
    "### Step 1\n",
    "\n",
    "In Cloud Datalab, click on the Home icon, and then navigate to datalab > notebooks > training-data-analyst > courses > machine_learning > deepdive > 08_image > labs and open mnist_linear.ipynb.\n",
    "\n",
    "> Note: If the cloud shell used for running the datalab command is closed or interrupted, the connection to your Cloud Datalab VM will terminate. If that happens, you may be able to reconnect using the command ‘datalab connect mydatalabvm' in your new Cloud Shell. Once connected, try the above step again.\n",
    "\n",
    "### Step 2\n",
    "\n",
    "In Datalab, click on Clear | Clear all Cells. Now read the narrative and execute each cell in turn:\n",
    "\n",
    "* Some lab tasks include starter code. In such cells, look for lines marked #TODO. Specifically, you need to write code to define the linear_model and the eval_input_fn function.\n",
    "* If you need more help, you may take a look at the complete solution by navigating to : datalab > notebooks > training-data-analyst > courses > machine_learning > deepdive > 08_image and open the notebook: mnist_linear.ipynb\n",
    "\n",
    "> Note: When doing copy/paste of python code, please be careful about indentation"
   ]
  },
  {
   "cell_type": "code",
   "execution_count": null,
   "metadata": {
    "collapsed": true
   },
   "outputs": [],
   "source": []
  }
 ],
 "metadata": {
  "kernelspec": {
   "display_name": "Python 3",
   "language": "python",
   "name": "python3"
  },
  "language_info": {
   "codemirror_mode": {
    "name": "ipython",
    "version": 3
   },
   "file_extension": ".py",
   "mimetype": "text/x-python",
   "name": "python",
   "nbconvert_exporter": "python",
   "pygments_lexer": "ipython3",
   "version": "3.5.4"
  }
 },
 "nbformat": 4,
 "nbformat_minor": 2
}
