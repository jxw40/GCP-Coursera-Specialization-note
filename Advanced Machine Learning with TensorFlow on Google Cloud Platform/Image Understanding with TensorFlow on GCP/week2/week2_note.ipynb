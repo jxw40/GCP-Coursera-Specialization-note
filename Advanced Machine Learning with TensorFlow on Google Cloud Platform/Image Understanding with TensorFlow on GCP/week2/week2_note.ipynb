{
 "cells": [
  {
   "cell_type": "markdown",
   "metadata": {},
   "source": [
    "## Data Augmentation\n",
    "\n",
    "### The Data Scarcity Problem\n",
    "\n",
    "What to do when you don’t have enough labeled data?\n",
    "\n",
    "When you have some data:\n",
    "* Data augmentation\n",
    "* Transfer learning\n",
    "\n",
    "### Data Augmentation\n",
    "\n",
    "**Data augmentation requires care**\n",
    "\n",
    "* Sometimes color is informative\n",
    "* Sometimes orientation is informative\n",
    "* Sometimes small detail is informative\n",
    "* Don’t make the problem harder than it needs to be"
   ]
  },
  {
   "cell_type": "markdown",
   "metadata": {},
   "source": [
    "## Transfer Learning\n",
    "\n",
    "#### To freeze or not to freeze?\n",
    "\n",
    "Labeled dataset size\n",
    "* Small --> Freeze the source model\n",
    "* Large --> Let the source model train"
   ]
  },
  {
   "cell_type": "markdown",
   "metadata": {},
   "source": [
    "## No Data, No Problem\n",
    "\n",
    "1. Use a pre-trained model\n",
    "2. Find a partner to label your data\n",
    "\n",
    "#### Data scarcity is not as bad as you might think\n",
    "\n",
    "If you have some labeled data:\n",
    "* Data augmentation helps you get more\n",
    "* Transfer learning helps you need less\n",
    "  * AutoML makes transfer learning codeless\n",
    "  \n",
    "If you don’t have any labeled data:\n",
    "* Machine learning APIs are state-of-the-art\n",
    "* Partners can help you economically label your data"
   ]
  },
  {
   "cell_type": "markdown",
   "metadata": {},
   "source": [
    "### Batch Normalization\n",
    "\n",
    "Internal Covariate Shift\n",
    "\n",
    "Neurons may stop learning\n",
    "\n",
    "Batch normalization scales the weights between layers\n",
    "\n",
    "Batch normalization helps you train faster"
   ]
  },
  {
   "cell_type": "markdown",
   "metadata": {},
   "source": [
    "### Accelerators (CPU vs GPU, TPU)\n",
    "\n",
    "AI accelerators dramatically improve performance"
   ]
  },
  {
   "cell_type": "markdown",
   "metadata": {},
   "source": [
    "## TPU Estimator\n",
    "\n",
    "4 Steps to make a TPUEstimator\n",
    "* Replace our optimizer\n",
    "* Replace our EstimatorSpec\n",
    "* Replace our RunConfig\n",
    "* Replace our Estimator\n",
    "\n",
    "Some points to keep in mind on TPUs\n",
    "1. 4 chips/TPU, 2 cores/chip, and 8 GB Memory/core, 64 TPUs/pod\n",
    "2. High-speed interconnect\n",
    "3. Very large matrix multiplication hardware\n",
    "4. Specialized instruction set\n",
    "5. bfloat or float32 floating point representation"
   ]
  },
  {
   "cell_type": "markdown",
   "metadata": {},
   "source": [
    "## Neural Architecture Search (NAS)\n",
    "\n",
    "Reinforcement Learning to design neural networks"
   ]
  },
  {
   "cell_type": "markdown",
   "metadata": {},
   "source": [
    "### Additional Resources\n",
    "\n",
    "[Fun with CNNs - Move Mirror ](https://experiments.withgoogle.com/move-mirror)"
   ]
  },
  {
   "cell_type": "code",
   "execution_count": null,
   "metadata": {
    "collapsed": true
   },
   "outputs": [],
   "source": []
  }
 ],
 "metadata": {
  "kernelspec": {
   "display_name": "Python 3",
   "language": "python",
   "name": "python3"
  },
  "language_info": {
   "codemirror_mode": {
    "name": "ipython",
    "version": 3
   },
   "file_extension": ".py",
   "mimetype": "text/x-python",
   "name": "python",
   "nbconvert_exporter": "python",
   "pygments_lexer": "ipython3",
   "version": "3.5.4"
  }
 },
 "nbformat": 4,
 "nbformat_minor": 2
}
